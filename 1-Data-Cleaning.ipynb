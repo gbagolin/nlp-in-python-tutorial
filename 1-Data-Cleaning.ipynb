{
 "cells": [
  {
   "cell_type": "markdown",
   "metadata": {},
   "source": [
    "# Data Cleaning"
   ]
  },
  {
   "cell_type": "markdown",
   "metadata": {},
   "source": [
    "## Problem Statement"
   ]
  },
  {
   "cell_type": "markdown",
   "metadata": {},
   "source": [
    "The problem is analizing the debate between Trump and Biden, analize their topics, their positiviness during the entire speech and other. \n"
   ]
  },
  {
   "cell_type": "markdown",
   "metadata": {},
   "source": [
    "## Getting The Data"
   ]
  },
  {
   "cell_type": "code",
   "execution_count": 39,
   "metadata": {},
   "outputs": [],
   "source": [
    "# Web scraping, pickle imports\n",
    "import requests\n",
    "from bs4 import BeautifulSoup\n",
    "import pickle\n",
    "\n",
    "# Scrapes transcript data from scrapsfromtheloft.com\n",
    "def url_to_transcript(url):\n",
    "    page = requests.get(url).text\n",
    "    soup = BeautifulSoup(page, \"lxml\")\n",
    "    trump = ''\n",
    "    biden = ''\n",
    "    wallace = ''\n",
    "    for p in soup.find(class_=\"fl-callout-text\").find_all('p'):\n",
    "        if p.text.split():\n",
    "            name = p.text.split()[0]\n",
    "            if name == 'Chris':\n",
    "                wallace += p.text\n",
    "            elif name == 'President':\n",
    "                trump += p.text\n",
    "            elif name == 'Vice':\n",
    "                biden += p.text\n",
    "            \n",
    "    return trump,biden,wallace\n",
    "\n",
    "# Speakers\n",
    "speakers = ['Trump','Biden','Wallace']"
   ]
  },
  {
   "cell_type": "code",
   "execution_count": 40,
   "metadata": {},
   "outputs": [],
   "source": [
    "# Transcript the speech, and assigning the speech to each speaker. \n",
    "url = 'https://www.rev.com/blog/transcripts/donald-trump-joe-biden-1st-presidential-debate-transcript-2020'\n",
    "trump,biden,wallace = url_to_transcript(url)\n",
    "transcripts = []\n",
    "transcripts.append(trump)\n",
    "transcripts.append(biden)\n",
    "transcripts.append(wallace)"
   ]
  },
  {
   "cell_type": "code",
   "execution_count": 41,
   "metadata": {},
   "outputs": [
    {
     "output_type": "stream",
     "name": "stderr",
     "text": [
      "Sottodirectory o file transcripts gi… esistente.\n"
     ]
    }
   ],
   "source": [
    "mkdir transcripts"
   ]
  },
  {
   "cell_type": "code",
   "execution_count": 42,
   "metadata": {},
   "outputs": [],
   "source": [
    "# # Pickle files for later use\n",
    "\n",
    "# # Make a new directory to hold the text files\n",
    "# !mkdir transcripts\n",
    "\n",
    "for i, c in enumerate(speakers):\n",
    "    with open(\"transcripts/\" + c + \".txt\", \"wb\") as file:\n",
    "        pickle.dump(transcripts[i], file)"
   ]
  },
  {
   "cell_type": "code",
   "execution_count": 43,
   "metadata": {},
   "outputs": [],
   "source": [
    "# Load pickled files\n",
    "data = {}\n",
    "for i, c in enumerate(speakers):\n",
    "    with open(\"transcripts/\" + c + \".txt\", \"rb\") as file:\n",
    "        data[c] = pickle.load(file)"
   ]
  },
  {
   "cell_type": "code",
   "execution_count": 44,
   "metadata": {},
   "outputs": [
    {
     "output_type": "execute_result",
     "data": {
      "text/plain": [
       "dict_keys(['Trump', 'Biden', 'Wallace'])"
      ]
     },
     "metadata": {},
     "execution_count": 44
    }
   ],
   "source": [
    "# Double check to make sure data has been loaded properly\n",
    "data.keys()"
   ]
  },
  {
   "cell_type": "code",
   "execution_count": 45,
   "metadata": {},
   "outputs": [],
   "source": [
    "# More checks\n",
    "# data['Trump']"
   ]
  },
  {
   "cell_type": "code",
   "execution_count": 46,
   "metadata": {},
   "outputs": [
    {
     "output_type": "execute_result",
     "data": {
      "text/plain": [
       "'Trump'"
      ]
     },
     "metadata": {},
     "execution_count": 46
    }
   ],
   "source": [
    "# Let's take a look at our data again\n",
    "next(iter(data.keys()))"
   ]
  },
  {
   "cell_type": "code",
   "execution_count": 47,
   "metadata": {},
   "outputs": [],
   "source": [
    "# Notice that our dictionary is currently in key: speaker, value: string containing the speech\n",
    "#next(iter(data.values()))"
   ]
  },
  {
   "cell_type": "code",
   "execution_count": 48,
   "metadata": {},
   "outputs": [],
   "source": [
    "# We are going to clean some words that speakers said often during their speech. \n",
    "def combine_text(list_of_text,key):\n",
    "    word_to_clean = ''\n",
    "    if key == 'Trump': \n",
    "        word_to_clean = 'President Donald J. Trump'\n",
    "    elif key == 'Biden':\n",
    "        word_to_clean =  'Vice President Joe Biden'\n",
    "    else:\n",
    "        word_to_clean = 'Chris Wallace'\n",
    "    '''Takes a list of text and combines them into one large chunk of text.'''\n",
    "    combined_text = ''.join(list_of_text)\n",
    "    #cleaning word\n",
    "    combined_text = combined_text.replace(word_to_clean,'')\n",
    "    return combined_text"
   ]
  },
  {
   "cell_type": "code",
   "execution_count": 49,
   "metadata": {},
   "outputs": [],
   "source": [
    "# Combine it!\n",
    "data_combined = {key: [combine_text(value,key)] for (key, value) in data.items()}"
   ]
  },
  {
   "cell_type": "code",
   "execution_count": 50,
   "metadata": {},
   "outputs": [
    {
     "output_type": "execute_result",
     "data": {
      "text/plain": [
       "                                                                                                                                                    transcript\n",
       "Biden    : (02:49)\\nHow you doing, man?: (02:51)\\nI’m well.: (05:29)\\nWell, first of all, thank you for doing this and looking forward to this, Mr. Preside...\n",
       "Trump    : (02:51)\\nHow are you doing?: (04:01)\\nThank you very much, Chris. I will tell you very simply. We won the election. Elections have consequences....\n",
       "Wallace  : (01:20)\\nGood evening from the Health Education Campus of Case Western Reserve University and the Cleveland Clinic. I’m  of Fox News and I welco..."
      ],
      "text/html": "<div>\n<style scoped>\n    .dataframe tbody tr th:only-of-type {\n        vertical-align: middle;\n    }\n\n    .dataframe tbody tr th {\n        vertical-align: top;\n    }\n\n    .dataframe thead th {\n        text-align: right;\n    }\n</style>\n<table border=\"1\" class=\"dataframe\">\n  <thead>\n    <tr style=\"text-align: right;\">\n      <th></th>\n      <th>transcript</th>\n    </tr>\n  </thead>\n  <tbody>\n    <tr>\n      <th>Biden</th>\n      <td>: (02:49)\\nHow you doing, man?: (02:51)\\nI’m well.: (05:29)\\nWell, first of all, thank you for doing this and looking forward to this, Mr. Preside...</td>\n    </tr>\n    <tr>\n      <th>Trump</th>\n      <td>: (02:51)\\nHow are you doing?: (04:01)\\nThank you very much, Chris. I will tell you very simply. We won the election. Elections have consequences....</td>\n    </tr>\n    <tr>\n      <th>Wallace</th>\n      <td>: (01:20)\\nGood evening from the Health Education Campus of Case Western Reserve University and the Cleveland Clinic. I’m  of Fox News and I welco...</td>\n    </tr>\n  </tbody>\n</table>\n</div>"
     },
     "metadata": {},
     "execution_count": 50
    }
   ],
   "source": [
    "# We can either keep it in dictionary format or put it into a pandas dataframe\n",
    "import pandas as pd\n",
    "pd.set_option('max_colwidth',150)\n",
    "\n",
    "data_df = pd.DataFrame.from_dict(data_combined).transpose()\n",
    "data_df.columns = ['transcript']\n",
    "data_df = data_df.sort_index()\n",
    "data_df"
   ]
  },
  {
   "cell_type": "code",
   "execution_count": 51,
   "metadata": {},
   "outputs": [],
   "source": [
    "# Let's take a look at the transcript for Ali Wong\n",
    "#data_df.transcript.loc['Trump']"
   ]
  },
  {
   "cell_type": "code",
   "execution_count": 52,
   "metadata": {},
   "outputs": [],
   "source": [
    "# Apply a first round of text cleaning techniques\n",
    "import re\n",
    "import string\n",
    "\n",
    "def clean_text_round1(text):\n",
    "    '''Make text lowercase, remove text in square brackets, remove punctuation and remove words containing numbers.'''\n",
    "    text = text.lower()\n",
    "    text = re.sub('\\[.*?\\]', '', text)\n",
    "    text = re.sub('[%s]' % re.escape(string.punctuation), '', text)\n",
    "    text = re.sub('\\w*\\d\\w*', '', text)\n",
    "    return text\n",
    "\n",
    "round1 = lambda x: clean_text_round1(x)\n"
   ]
  },
  {
   "cell_type": "code",
   "execution_count": 53,
   "metadata": {},
   "outputs": [
    {
     "output_type": "execute_result",
     "data": {
      "text/plain": [
       "                                                                                                                                                    transcript\n",
       "Biden     \\nhow you doing man \\ni’m well \\nwell first of all thank you for doing this and looking forward to this mr president \\nthe american people have a...\n",
       "Trump     \\nhow are you doing \\nthank you very much chris i will tell you very simply we won the election elections have consequences we have the senate we...\n",
       "Wallace   \\ngood evening from the health education campus of case western reserve university and the cleveland clinic i’m  of fox news and i welcome you to..."
      ],
      "text/html": "<div>\n<style scoped>\n    .dataframe tbody tr th:only-of-type {\n        vertical-align: middle;\n    }\n\n    .dataframe tbody tr th {\n        vertical-align: top;\n    }\n\n    .dataframe thead th {\n        text-align: right;\n    }\n</style>\n<table border=\"1\" class=\"dataframe\">\n  <thead>\n    <tr style=\"text-align: right;\">\n      <th></th>\n      <th>transcript</th>\n    </tr>\n  </thead>\n  <tbody>\n    <tr>\n      <th>Biden</th>\n      <td>\\nhow you doing man \\ni’m well \\nwell first of all thank you for doing this and looking forward to this mr president \\nthe american people have a...</td>\n    </tr>\n    <tr>\n      <th>Trump</th>\n      <td>\\nhow are you doing \\nthank you very much chris i will tell you very simply we won the election elections have consequences we have the senate we...</td>\n    </tr>\n    <tr>\n      <th>Wallace</th>\n      <td>\\ngood evening from the health education campus of case western reserve university and the cleveland clinic i’m  of fox news and i welcome you to...</td>\n    </tr>\n  </tbody>\n</table>\n</div>"
     },
     "metadata": {},
     "execution_count": 53
    }
   ],
   "source": [
    "# Let's take a look at the updated text\n",
    "data_clean = pd.DataFrame(data_df.transcript.apply(round1))\n",
    "data_clean"
   ]
  },
  {
   "cell_type": "code",
   "execution_count": 54,
   "metadata": {},
   "outputs": [],
   "source": [
    "# Apply a second round of cleaning\n",
    "def clean_text_round2(text):\n",
    "    '''Get rid of some additional punctuation and non-sensical text that was missed the first time around.'''\n",
    "    text = re.sub('[‘’“”…]', '', text)\n",
    "    text = re.sub('\\n', '', text)\n",
    "    return text\n",
    "\n",
    "round2 = lambda x: clean_text_round2(x)"
   ]
  },
  {
   "cell_type": "code",
   "execution_count": 55,
   "metadata": {},
   "outputs": [
    {
     "output_type": "execute_result",
     "data": {
      "text/plain": [
       "                                                                                                                                                    transcript\n",
       "Biden     how you doing man im well well first of all thank you for doing this and looking forward to this mr president the american people have a right to...\n",
       "Trump     how are you doing thank you very much chris i will tell you very simply we won the election elections have consequences we have the senate we hav...\n",
       "Wallace   good evening from the health education campus of case western reserve university and the cleveland clinic im  of fox news and i welcome you to th..."
      ],
      "text/html": "<div>\n<style scoped>\n    .dataframe tbody tr th:only-of-type {\n        vertical-align: middle;\n    }\n\n    .dataframe tbody tr th {\n        vertical-align: top;\n    }\n\n    .dataframe thead th {\n        text-align: right;\n    }\n</style>\n<table border=\"1\" class=\"dataframe\">\n  <thead>\n    <tr style=\"text-align: right;\">\n      <th></th>\n      <th>transcript</th>\n    </tr>\n  </thead>\n  <tbody>\n    <tr>\n      <th>Biden</th>\n      <td>how you doing man im well well first of all thank you for doing this and looking forward to this mr president the american people have a right to...</td>\n    </tr>\n    <tr>\n      <th>Trump</th>\n      <td>how are you doing thank you very much chris i will tell you very simply we won the election elections have consequences we have the senate we hav...</td>\n    </tr>\n    <tr>\n      <th>Wallace</th>\n      <td>good evening from the health education campus of case western reserve university and the cleveland clinic im  of fox news and i welcome you to th...</td>\n    </tr>\n  </tbody>\n</table>\n</div>"
     },
     "metadata": {},
     "execution_count": 55
    }
   ],
   "source": [
    "# Let's take a look at the updated text\n",
    "data_clean = pd.DataFrame(data_clean.transcript.apply(round2))\n",
    "data_clean"
   ]
  },
  {
   "cell_type": "markdown",
   "metadata": {},
   "source": [
    "## Organizing The Data"
   ]
  },
  {
   "cell_type": "markdown",
   "metadata": {},
   "source": [
    "### Corpus"
   ]
  },
  {
   "cell_type": "markdown",
   "metadata": {},
   "source": [
    "We already created a corpus in an earlier step. The definition of a corpus is a collection of texts, and they are all put together neatly in a pandas dataframe here."
   ]
  },
  {
   "cell_type": "code",
   "execution_count": 56,
   "metadata": {},
   "outputs": [
    {
     "output_type": "execute_result",
     "data": {
      "text/plain": [
       "                                                                                                                                                    transcript\n",
       "Biden    : (02:49)\\nHow you doing, man?: (02:51)\\nI’m well.: (05:29)\\nWell, first of all, thank you for doing this and looking forward to this, Mr. Preside...\n",
       "Trump    : (02:51)\\nHow are you doing?: (04:01)\\nThank you very much, Chris. I will tell you very simply. We won the election. Elections have consequences....\n",
       "Wallace  : (01:20)\\nGood evening from the Health Education Campus of Case Western Reserve University and the Cleveland Clinic. I’m  of Fox News and I welco..."
      ],
      "text/html": "<div>\n<style scoped>\n    .dataframe tbody tr th:only-of-type {\n        vertical-align: middle;\n    }\n\n    .dataframe tbody tr th {\n        vertical-align: top;\n    }\n\n    .dataframe thead th {\n        text-align: right;\n    }\n</style>\n<table border=\"1\" class=\"dataframe\">\n  <thead>\n    <tr style=\"text-align: right;\">\n      <th></th>\n      <th>transcript</th>\n    </tr>\n  </thead>\n  <tbody>\n    <tr>\n      <th>Biden</th>\n      <td>: (02:49)\\nHow you doing, man?: (02:51)\\nI’m well.: (05:29)\\nWell, first of all, thank you for doing this and looking forward to this, Mr. Preside...</td>\n    </tr>\n    <tr>\n      <th>Trump</th>\n      <td>: (02:51)\\nHow are you doing?: (04:01)\\nThank you very much, Chris. I will tell you very simply. We won the election. Elections have consequences....</td>\n    </tr>\n    <tr>\n      <th>Wallace</th>\n      <td>: (01:20)\\nGood evening from the Health Education Campus of Case Western Reserve University and the Cleveland Clinic. I’m  of Fox News and I welco...</td>\n    </tr>\n  </tbody>\n</table>\n</div>"
     },
     "metadata": {},
     "execution_count": 56
    }
   ],
   "source": [
    "# Let's take a look at our dataframe\n",
    "data_df"
   ]
  },
  {
   "cell_type": "code",
   "execution_count": 57,
   "metadata": {},
   "outputs": [
    {
     "output_type": "execute_result",
     "data": {
      "text/plain": [
       "                                                                                                                                                    transcript  \\\n",
       "Biden     how you doing man im well well first of all thank you for doing this and looking forward to this mr president the american people have a right to...   \n",
       "Trump     how are you doing thank you very much chris i will tell you very simply we won the election elections have consequences we have the senate we hav...   \n",
       "Wallace   good evening from the health education campus of case western reserve university and the cleveland clinic im  of fox news and i welcome you to th...   \n",
       "\n",
       "                         full_name  \n",
       "Biden     Vice President Joe Biden  \n",
       "Trump    President Donald J. Trump  \n",
       "Wallace              Chris Wallace  "
      ],
      "text/html": "<div>\n<style scoped>\n    .dataframe tbody tr th:only-of-type {\n        vertical-align: middle;\n    }\n\n    .dataframe tbody tr th {\n        vertical-align: top;\n    }\n\n    .dataframe thead th {\n        text-align: right;\n    }\n</style>\n<table border=\"1\" class=\"dataframe\">\n  <thead>\n    <tr style=\"text-align: right;\">\n      <th></th>\n      <th>transcript</th>\n      <th>full_name</th>\n    </tr>\n  </thead>\n  <tbody>\n    <tr>\n      <th>Biden</th>\n      <td>how you doing man im well well first of all thank you for doing this and looking forward to this mr president the american people have a right to...</td>\n      <td>Vice President Joe Biden</td>\n    </tr>\n    <tr>\n      <th>Trump</th>\n      <td>how are you doing thank you very much chris i will tell you very simply we won the election elections have consequences we have the senate we hav...</td>\n      <td>President Donald J. Trump</td>\n    </tr>\n    <tr>\n      <th>Wallace</th>\n      <td>good evening from the health education campus of case western reserve university and the cleveland clinic im  of fox news and i welcome you to th...</td>\n      <td>Chris Wallace</td>\n    </tr>\n  </tbody>\n</table>\n</div>"
     },
     "metadata": {},
     "execution_count": 57
    }
   ],
   "source": [
    "# Let's add the speakers' full names as well\n",
    "full_names = ['Vice President Joe Biden','President Donald J. Trump','Chris Wallace']\n",
    "\n",
    "data_clean['full_name'] = full_names\n",
    "data_clean"
   ]
  },
  {
   "cell_type": "code",
   "execution_count": 58,
   "metadata": {},
   "outputs": [],
   "source": [
    "# Let's pickle it for later use\n",
    "data_clean.to_pickle(\"corpus.pkl\")"
   ]
  },
  {
   "cell_type": "markdown",
   "metadata": {},
   "source": [
    "### Document-Term Matrix"
   ]
  },
  {
   "cell_type": "markdown",
   "metadata": {},
   "source": [
    "For many of the techniques we'll be using in future notebooks, the text must be tokenized, meaning broken down into smaller pieces. The most common tokenization technique is to break down text into words. We can do this using scikit-learn's CountVectorizer, where every row will represent a different document and every column will represent a different word.\n",
    "\n",
    "In addition, with CountVectorizer, we can remove stop words. Stop words are common words that add no additional meaning to text such as 'a', 'the', etc."
   ]
  },
  {
   "cell_type": "code",
   "execution_count": 59,
   "metadata": {},
   "outputs": [
    {
     "output_type": "execute_result",
     "data": {
      "text/plain": [
       "         ability  able  abolishing  abraham  absolutely  absorbed  abuse  \\\n",
       "Biden          2    17           0        0           3         1      0   \n",
       "Trump          0     1           0        0           3         0      0   \n",
       "Wallace        0     1           1        1           0         0      1   \n",
       "\n",
       "         academic  accept  accepted  ...  years  yes  york  youd  youll  \\\n",
       "Biden           0       2         3  ...      3    5     0     1      0   \n",
       "Trump           1       1         0  ...     18    5     4     2      6   \n",
       "Wallace         0       0         0  ...     14    3     0     2      2   \n",
       "\n",
       "         young  younger  youre  youve  zero  \n",
       "Biden        1        0     10      2     1  \n",
       "Trump        2        1     19     13     0  \n",
       "Wallace      0        0     10      6     1  \n",
       "\n",
       "[3 rows x 1844 columns]"
      ],
      "text/html": "<div>\n<style scoped>\n    .dataframe tbody tr th:only-of-type {\n        vertical-align: middle;\n    }\n\n    .dataframe tbody tr th {\n        vertical-align: top;\n    }\n\n    .dataframe thead th {\n        text-align: right;\n    }\n</style>\n<table border=\"1\" class=\"dataframe\">\n  <thead>\n    <tr style=\"text-align: right;\">\n      <th></th>\n      <th>ability</th>\n      <th>able</th>\n      <th>abolishing</th>\n      <th>abraham</th>\n      <th>absolutely</th>\n      <th>absorbed</th>\n      <th>abuse</th>\n      <th>academic</th>\n      <th>accept</th>\n      <th>accepted</th>\n      <th>...</th>\n      <th>years</th>\n      <th>yes</th>\n      <th>york</th>\n      <th>youd</th>\n      <th>youll</th>\n      <th>young</th>\n      <th>younger</th>\n      <th>youre</th>\n      <th>youve</th>\n      <th>zero</th>\n    </tr>\n  </thead>\n  <tbody>\n    <tr>\n      <th>Biden</th>\n      <td>2</td>\n      <td>17</td>\n      <td>0</td>\n      <td>0</td>\n      <td>3</td>\n      <td>1</td>\n      <td>0</td>\n      <td>0</td>\n      <td>2</td>\n      <td>3</td>\n      <td>...</td>\n      <td>3</td>\n      <td>5</td>\n      <td>0</td>\n      <td>1</td>\n      <td>0</td>\n      <td>1</td>\n      <td>0</td>\n      <td>10</td>\n      <td>2</td>\n      <td>1</td>\n    </tr>\n    <tr>\n      <th>Trump</th>\n      <td>0</td>\n      <td>1</td>\n      <td>0</td>\n      <td>0</td>\n      <td>3</td>\n      <td>0</td>\n      <td>0</td>\n      <td>1</td>\n      <td>1</td>\n      <td>0</td>\n      <td>...</td>\n      <td>18</td>\n      <td>5</td>\n      <td>4</td>\n      <td>2</td>\n      <td>6</td>\n      <td>2</td>\n      <td>1</td>\n      <td>19</td>\n      <td>13</td>\n      <td>0</td>\n    </tr>\n    <tr>\n      <th>Wallace</th>\n      <td>0</td>\n      <td>1</td>\n      <td>1</td>\n      <td>1</td>\n      <td>0</td>\n      <td>0</td>\n      <td>1</td>\n      <td>0</td>\n      <td>0</td>\n      <td>0</td>\n      <td>...</td>\n      <td>14</td>\n      <td>3</td>\n      <td>0</td>\n      <td>2</td>\n      <td>2</td>\n      <td>0</td>\n      <td>0</td>\n      <td>10</td>\n      <td>6</td>\n      <td>1</td>\n    </tr>\n  </tbody>\n</table>\n<p>3 rows × 1844 columns</p>\n</div>"
     },
     "metadata": {},
     "execution_count": 59
    }
   ],
   "source": [
    "# We are going to create a document-term matrix using CountVectorizer, and exclude common English stop words\n",
    "from sklearn.feature_extraction.text import CountVectorizer\n",
    "\n",
    "cv = CountVectorizer(stop_words='english')\n",
    "data_cv = cv.fit_transform(data_clean.transcript)\n",
    "data_dtm = pd.DataFrame(data_cv.toarray(), columns=cv.get_feature_names())\n",
    "data_dtm.index = data_clean.index\n",
    "data_dtm"
   ]
  },
  {
   "cell_type": "code",
   "execution_count": 60,
   "metadata": {},
   "outputs": [],
   "source": [
    "# Let's pickle it for later use\n",
    "data_dtm.to_pickle(\"dtm.pkl\")"
   ]
  },
  {
   "cell_type": "code",
   "execution_count": 61,
   "metadata": {},
   "outputs": [],
   "source": [
    "# Let's also pickle the cleaned data (before we put it in document-term matrix format) and the CountVectorizer object\n",
    "data_clean.to_pickle('data_clean.pkl')\n",
    "pickle.dump(cv, open(\"cv.pkl\", \"wb\"))"
   ]
  }
 ],
 "metadata": {
  "kernelspec": {
   "name": "python3",
   "display_name": "Python 3"
  },
  "language_info": {
   "codemirror_mode": {
    "name": "ipython",
    "version": 3
   },
   "file_extension": ".py",
   "mimetype": "text/x-python",
   "name": "python",
   "nbconvert_exporter": "python",
   "pygments_lexer": "ipython3",
   "version": "3.8.5-final"
  },
  "toc": {
   "nav_menu": {},
   "number_sections": true,
   "sideBar": true,
   "skip_h1_title": false,
   "toc_cell": false,
   "toc_position": {},
   "toc_section_display": "block",
   "toc_window_display": false
  },
  "varInspector": {
   "cols": {
    "lenName": 16,
    "lenType": 16,
    "lenVar": 40
   },
   "kernels_config": {
    "python": {
     "delete_cmd_postfix": "",
     "delete_cmd_prefix": "del ",
     "library": "var_list.py",
     "varRefreshCmd": "print(var_dic_list())"
    },
    "r": {
     "delete_cmd_postfix": ") ",
     "delete_cmd_prefix": "rm(",
     "library": "var_list.r",
     "varRefreshCmd": "cat(var_dic_list()) "
    }
   },
   "types_to_exclude": [
    "module",
    "function",
    "builtin_function_or_method",
    "instance",
    "_Feature"
   ],
   "window_display": false
  }
 },
 "nbformat": 4,
 "nbformat_minor": 2
}