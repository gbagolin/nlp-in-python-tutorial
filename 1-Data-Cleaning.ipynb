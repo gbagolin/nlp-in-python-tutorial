{
 "cells": [
  {
   "cell_type": "markdown",
   "metadata": {},
   "source": [
    "# Data Cleaning"
   ]
  },
  {
   "cell_type": "markdown",
   "metadata": {},
   "source": [
    "## Introduction"
   ]
  },
  {
   "cell_type": "markdown",
   "metadata": {},
   "source": [
    "This notebook goes through a necessary step of any data science project - data cleaning. Data cleaning is a time consuming and unenjoyable task, yet it's a very important one. Keep in mind, \"garbage in, garbage out\". Feeding dirty data into a model will give us results that are meaningless.\n",
    "\n",
    "Specifically, we'll be walking through:\n",
    "\n",
    "1. **Getting the data - **in this case, we'll be scraping data from a website\n",
    "2. **Cleaning the data - **we will walk through popular text pre-processing techniques\n",
    "3. **Organizing the data - **we will organize the cleaned data into a way that is easy to input into other algorithms\n",
    "\n",
    "The output of this notebook will be clean, organized data in two standard text formats:\n",
    "\n",
    "1. **Corpus** - a collection of text\n",
    "2. **Document-Term Matrix** - word counts in matrix format"
   ]
  },
  {
   "cell_type": "markdown",
   "metadata": {},
   "source": [
    "## Problem Statement"
   ]
  },
  {
   "cell_type": "markdown",
   "metadata": {},
   "source": [
    "As a reminder, our goal is to look at transcripts of various comedians and note their similarities and differences. Specifically, I'd like to know if Ali Wong's comedy style is different than other comedians, since she's the comedian that got me interested in stand up comedy."
   ]
  },
  {
   "cell_type": "markdown",
   "metadata": {},
   "source": [
    "## Getting The Data"
   ]
  },
  {
   "cell_type": "markdown",
   "metadata": {},
   "source": [
    "Luckily, there are wonderful people online that keep track of stand up routine transcripts. [Scraps From The Loft](http://scrapsfromtheloft.com) makes them available for non-profit and educational purposes.\n",
    "\n",
    "To decide which comedians to look into, I went on IMDB and looked specifically at comedy specials that were released in the past 5 years. To narrow it down further, I looked only at those with greater than a 7.5/10 rating and more than 2000 votes. If a comedian had multiple specials that fit those requirements, I would pick the most highly rated one. I ended up with a dozen comedy specials."
   ]
  },
  {
   "cell_type": "code",
   "execution_count": 24,
   "metadata": {},
   "outputs": [],
   "source": [
    "# Web scraping, pickle imports\n",
    "import requests\n",
    "from bs4 import BeautifulSoup\n",
    "import pickle\n",
    "\n",
    "# Scrapes transcript data from scrapsfromtheloft.com\n",
    "def url_to_transcript(url):\n",
    "    page = requests.get(url).text\n",
    "    soup = BeautifulSoup(page, \"lxml\")\n",
    "    trump = ''\n",
    "    biden = ''\n",
    "    wallace = ''\n",
    "    for p in soup.find(class_=\"fl-callout-text\").find_all('p'):\n",
    "        if p.text.split():\n",
    "            name = p.text.split()[0]\n",
    "            if name == 'Chris':\n",
    "                wallace += p.text\n",
    "            elif name == 'President':\n",
    "                trump += p.text\n",
    "            elif name == 'Vice':\n",
    "                biden += p.text\n",
    "            \n",
    "    return trump,biden,wallace\n",
    "\n",
    "# Speakers\n",
    "speakers = ['Trump','Biden','Wallace']"
   ]
  },
  {
   "cell_type": "code",
   "execution_count": 25,
   "metadata": {},
   "outputs": [],
   "source": [
    "# Transcript the speech, and assigning the speech to each speaker. \n",
    "url = 'https://www.rev.com/blog/transcripts/donald-trump-joe-biden-1st-presidential-debate-transcript-2020'\n",
    "trump,biden,wallace = url_to_transcript(url)\n",
    "transcripts = []\n",
    "transcripts.append(trump)\n",
    "transcripts.append(biden)\n",
    "transcripts.append(wallace)"
   ]
  },
  {
   "cell_type": "code",
   "execution_count": 26,
   "metadata": {},
   "outputs": [
    {
     "name": "stderr",
     "output_type": "stream",
     "text": [
      "Sottodirectory o file transcripts gi… esistente.\n"
     ]
    }
   ],
   "source": [
    "mkdir transcripts"
   ]
  },
  {
   "cell_type": "code",
   "execution_count": 27,
   "metadata": {},
   "outputs": [],
   "source": [
    "# # Pickle files for later use\n",
    "\n",
    "# # Make a new directory to hold the text files\n",
    "# !mkdir transcripts\n",
    "\n",
    "for i, c in enumerate(speakers):\n",
    "    with open(\"transcripts/\" + c + \".txt\", \"wb\") as file:\n",
    "        pickle.dump(transcripts[i], file)"
   ]
  },
  {
   "cell_type": "code",
   "execution_count": 28,
   "metadata": {},
   "outputs": [],
   "source": [
    "# Load pickled files\n",
    "data = {}\n",
    "for i, c in enumerate(speakers):\n",
    "    with open(\"transcripts/\" + c + \".txt\", \"rb\") as file:\n",
    "        data[c] = pickle.load(file)"
   ]
  },
  {
   "cell_type": "code",
   "execution_count": 29,
   "metadata": {},
   "outputs": [
    {
     "data": {
      "text/plain": [
       "dict_keys(['Trump', 'Biden', 'Wallace'])"
      ]
     },
     "execution_count": 29,
     "metadata": {},
     "output_type": "execute_result"
    }
   ],
   "source": [
    "# Double check to make sure data has been loaded properly\n",
    "data.keys()"
   ]
  },
  {
   "cell_type": "code",
   "execution_count": 30,
   "metadata": {},
   "outputs": [
    {
     "data": {
      "text/plain": [
       "'President Donald J. Trump: (02:51)\\nHow are you doing?President Donald J. Trump: (04:01)\\nThank you very much, Chris. I will tell you very simply. We won the election. Elections have consequences. We have the Senate, we have the White House, and we have a phenomenal nominee respected by all. Top, top academic, good in every way. Good in every way. In fact, some of her biggest endorsers are very liberal people from Notre Dame and other places. So I think she’s going to be fantastic. We have plenty of time. Even if we did it after the election itself. I have a lot of time after the election, as you know. So I think that she will be outstanding. She’s going to be as good as anybody that has served on that court. We really feel that. We have a professor at Notre Dame, highly respected by all, said she’s the single greatest student he’s ever had. He’s been a professor for a long time at a great school.President Donald J. Trump: (04:53)\\nAnd we won the election and therefore we have the right to choose her, and very few people knowingly would say otherwise. And by the way, the Democrats, they wouldn’t even think about not doing it. The only difference is they’d try and do it faster. There’s no way they would give it up. They had Merrick Garland, but the problem is they didn’t have the election so they were stopped. And probably that would happen in reverse, also. Definitely would happen in reverse. So we won the election and we have the right to do it, Chris.President Donald J. Trump: (05:34)\\nThank you, Joe.President Donald J. Trump: (07:34)\\nThere aren’t a hundred million people with pre-existing conditions. As far as a say is concerned, the people already had their say. Okay, Justice Ginsburg said very powerfully, very strongly, at some point 10 years ago or so, she said a President and the Senate is elected for a period of time, but a President is elected for four years. We’re not elected for three years. I’m not elected for three years. So we have the Senate, we have a President-President Donald J. Trump: (08:02)\\nDuring that period of time, during that period of time, we have an opening. I’m not elected for three years. I’m elected for four years. Joe, the hundred million people is totally wrong. I don’t know where you got that number. The bigger problem that you have is that you’re going to extinguish 180 million people with their private health care, that they’re very happy this.President Donald J. Trump: (08:25)\\nWell, you’re certainly going to socialist. You’re going to socialist medicine-President Donald J. Trump: (08:58)\\nThat’s not what you’ve said and it’s not what your party is saying.President Donald J. Trump: (09:02)\\nYour party doesn’t say it. Your party wants to go socialist medicine and socialist healthcare.President Donald J. Trump: (09:08)\\nAnd they’re going to dominate you, Joe. You know that.President Donald J. Trump: (09:11)\\nNot according to Harris.President Donald J. Trump: (09:39)\\nJoe, you’ve had 308,000 military people dying because you couldn’t provide them proper healthcare in the military. So don’t tell me about this.President Donald J. Trump: (09:48)\\nAnd if you were here, it wouldn’t be 200, it would be two million people because you were very late on the draw. You didn’t want me to ban China, which was heavily infected. You didn’t want me to ban Europe.President Donald J. Trump: (10:00)\\nYou would have been much later, Joe, much later.President Donald J. Trump: (10:04)\\nWe’re talking about two million people.President Donald J. Trump: (10:25)\\nYou don’t know what’s on the ballot. Why is it on the ballot? Why is it on the ballot? It’s not on the ballot.President Donald J. Trump: (10:32)\\nI don’t think so.President Donald J. Trump: (10:34)\\nThere’s nothing happening there.President Donald J. Trump: (10:36)\\nYou don’t know her view on Roe V. Wade? You don’t know here view.President Donald J. Trump: (11:05)\\nThat’s right.President Donald J. Trump: (11:07)\\nBecause they want to give good healthcare.President Donald J. Trump: (11:25)\\nYes, I have. Of course, I have. The individual mandate.President Donald J. Trump: (11:28)\\nExcuse me. I got rid of the individual mandate, which was a big chunk of Obamacare.President Donald J. Trump: (11:32)\\nThat is absolutely a big thing. That was the worst part of Obamacare.President Donald J. Trump: (11:36)\\nChris, that was the worst part of Obamacare.President Donald J. Trump: (11:38)\\nWell, I’ll ask Joe. The individual mandate was the most unpopular aspect of Obamacare.President Donald J. Trump: (11:44)\\nI got rid of it. And we will protect people.President Donald J. Trump: (11:52)\\nGo ahead.President Donald J. Trump: (12:16)\\nWell, first of all, I guess I’m debating you, not him, but that’s okay. I’m not surprised. Let me just tell you something. There’s nothing symbolic. I’m cutting drug prices. I’m going with Favored Nations, which no President has the courage to do because you’re going against big pharma. Drug prices will be coming down 80 or 90%. You could have done it during your 47 year period in government, but you didn’t do it. Nobody’s done it. So we’re cutting healthcare.President Donald J. Trump: (12:40)\\nAll of the things that we’ve done.President Donald J. Trump: (12:42)\\nI’ll give you an example. Insulin, it was destroying families, destroying people, the cost. I’m getting it for so cheap it’s like water, you want to know the truth. So cheap. Take a look at all of the drugs that what we’re doing. Prescription drug prices, we’re going to allow our Governors now to go to other countries to buy drugs because when they paid just a tiny fraction of what we do.President Donald J. Trump: (13:04)\\nThis is big stuff.President Donald J. Trump: (13:26)\\nThat’s not what your party says, by the way.President Donald J. Trump: (13:57)\\nJoe, you agreed with Bernie Sanders, who’s far left, on the manifesto, we call it. And that gives you socialized medicine.President Donald J. Trump: (14:05)\\nAre you saying you didn’t agree?President Donald J. Trump: (14:10)\\nNot by much.President Donald J. Trump: (14:12)\\nNot by much.President Donald J. Trump: (14:14)\\nIf Pocahontas would have left two days early you would have lost every primary.President Donald J. Trump: (14:18)\\nOn Super Tuesday, you got very lucky.President Donald J. Trump: (14:23)\\nWith what?President Donald J. Trump: (14:25)\\nWith what?President Donald J. Trump: (14:34)\\nBut you agree. Joe, you’re the liar. You graduated last in your class not first in your class.President Donald J. Trump: (14:46)\\nYou’d be surprised. You’d be surprised. Go ahead, Joe.President Donald J. Trump: (14:51)\\nListen, you agreed with Bernie Sanders and the manifesto.President Donald J. Trump: (14:58)\\nHe just lost the left.President Donald J. Trump: (15:01)\\nYou just lost the left. You agreed with Bernie Sanders on a plan that you absolutely agreed to and under that plan [crosstalk 00:15:10], they call it socialized medicine.President Donald J. Trump: (15:20)\\nWho is, Bernie?President Donald J. Trump: (15:41)\\nNo, I want to give them better healthcare at a much lower price, because Obamacare is no good.President Donald J. Trump: (15:46)\\nI’ve already fixed it.President Donald J. Trump: (15:49)\\nWe’ve already fixed it to an extent. Obamacare, as you might know but probably don’t, Obamacare is no good.President Donald J. Trump: (15:59)\\nObamacare is no good. We made it better and I had a choice to make very early on. We took away the individual mandate. We guaranteed pre-existing conditions, but took away the individual mandate. Listen, this is the way it is. And that destroyed … They shouldn’t even call it Obamacare, then I had a choice to make, do I let my people run it really well or badly? If I run it badly, they’ll probably blame him, but they’ll blame me. But more importantly, I want to help people. Okay. I said, “You’ve got to run it so well.” And I just had a meeting with them. They said the problem is, no matter how well you run Obamacare, it’s a disaster. It’s too expensive. Premiums are too high, that it doesn’t work. So we do want to get rid of it. Chris, we want to get rid of that and give something that’s cheaper and better.President Donald J. Trump: (16:45)\\nGo ahead.President Donald J. Trump: (16:47)\\nGood.President Donald J. Trump: (16:50)\\nOf course, we do.President Donald J. Trump: (18:05)\\nAre you going to pack the court?President Donald J. Trump: (18:08)\\nAre you going to pack the court?President Donald J. Trump: (18:12)\\nHe doesn’t want to answer the question.President Donald J. Trump: (18:18)\\nWhy wouldn’t you answer that question? You want to put a lot of new Supreme Court Justices. Radical left.President Donald J. Trump: (18:20)\\nListen, who is on your list, Joe? Who’s on your list?President Donald J. Trump: (18:25)\\nHe’s going to pack the court. He is not going to give a list.President Donald J. Trump: (18:35)\\nThe people understand, Joe.President Donald J. Trump: (18:37)\\n47 years, you’ve done nothing. They’re understand.President Donald J. Trump: (20:43)\\nWrong.President Donald J. Trump: (20:57)\\nWrong.President Donald J. Trump: (20:57)\\nIt’s so wrong.President Donald J. Trump: (21:30)\\nSo, if we would have listened to you.President Donald J. Trump: (21:31)\\nIf we would’ve listened to you, the country would have been left wide open, millions of people would have died, not 200,000. And one person is too much. It’s China’s fault. It should have never happened. They stopped it from going in, but it was China’s fault. And, by the way, when you talk about numbers, you don’t know how many people died in China. You don’t know how many people died in Russia. You don’t know how many people died in India. They don’t exactly give you a straight count, just so you understand. But if you look at what we’ve done, I closed it and you said, “He’s xenophobic. He’s a racist and he’s xenophobic,” because you didn’t think I should have closed our country. Wait a minute.President Donald J. Trump: (22:07)\\nYou didn’t think we should have closed our country because you thought it was terrible. You wouldn’t have closed it for another two months. By my doing it early, in fact, Dr. Fauci said, “President Trump saved thousands of lives.” Many of your Democrat Governors said, “President Trump did a phenomenal job.” We worked with the Governor. Oh really, go take a look. The Governors said I did a phenomenal job. Most of them said that. In fact, people that would not be necessarily on my side said that, “President Trump did a phenomenal job.” We did. We got the gowns. We got the masks. We made the ventilators. You wouldn’t have made ventilators. And now we’re weeks away from a vaccine. We’re doing therapeutics already. Fewer people are dying when they get sick. Far fewer people are dying. We’ve done a great job.President Donald J. Trump: (22:54)\\nThe only thing I haven’t done a good job, and that’s because of the fake news, no matter what you say to them, they give you a bad press on it. It’s just fake news. They give you good press, they give me bad press because that’s the way it is, unfortunately. But let me just say something. I don’t care. I’ve gotten used to it. But I’ll tell you, Joe, you could never have done the job that we did. You don’t have it in your blood. You could’ve never done that, Joe.President Donald J. Trump: (23:18)\\nWell, you didn’t do very well in Swine Flu. H1-N1, you were a disaster. Your own Chief of Staff said you were a disaster.President Donald J. Trump: (23:27)\\nA far less lethal disease, by the way.President Donald J. Trump: (23:57)\\nWe would have lost far more people, far more people. You would have been months late. You’re months behind me, Joe.President Donald J. Trump: (24:25)\\nYou don’t trust Johnson & Johnson, Pfizer?President Donald J. Trump: (00:15)\\nWell, I’ve spoken to the companies and we can have it a lot sooner. It’s a very political thing because people like this would rather make it political than save lives.President Donald J. Trump: (00:23)\\nIt is a very political thing. I’ve spoken to Pfizer, I’ve spoken to all of the people that you have to speak to, Moderna, Johnson & Johnson, and others. They can go faster than that by a lot. It’s become very political because the left… Or I don’t know if I call them left, I don’t know what I call them.President Donald J. Trump: (00:42)\\nI disagree with him. No, I disagree with both of them. And he didn’t say that. He said it could be there, but it could also be much sooner. I had him in my office two days ago.President Donald J. Trump: (00:53)\\nBecause he said it’s a possibility that we’ll have the answer before November 1st. It could also be after that.President Donald J. Trump: (01:00)\\nWell, we’re going to deliver it right away. We have the military all set up. Logistically, they’re all set up. We have our military that delivers soldiers and they can do 200,000 a day. They’re going to be delivering-President Donald J. Trump: (01:13)\\nIt’s all set up.President Donald J. Trump: (01:24)\\nThat was said sarcastically, and you know that. That was said sarcastically.President Donald J. Trump: (01:50)\\nYou’ll have the vaccine sooner than that.President Donald J. Trump: (02:51)\\nWe spoke to the scientists that are in charge-President Donald J. Trump: (02:53)\\n… they will have the vaccine very soon.President Donald J. Trump: (03:28)\\nDid you use the word smart? So you said you went to Delaware State, but you forgot the name of your college. You didn’t go to Delaware State. You graduated either the lowest or almost the lowest in your class. Don’t ever use the word smart with me. Don’t ever use that word.President Donald J. Trump: (03:44)\\nBecause you know what? There’s nothing smart about you, Joe. 47 years you’ve done nothing.President Donald J. Trump: (03:51)\\nLet me just tell you something, Joe. If you would have had the charge of what I was put through, I had to close the greatest economy of the history of our country. And by the way, now it’s being built again and it’s going up fast.President Donald J. Trump: (04:04)\\nOkay. It’s going up fast. I look forward to talking about it.President Donald J. Trump: (04:45)\\nTell that to Nancy Pelosi.President Donald J. Trump: (04:49)\\nTell that to Nancy Pelosi, and Schumer [crosstalk 00:04:52] Chuck.President Donald J. Trump: (05:04)\\nYou probably play more than I do, Joe.President Donald J. Trump: (05:08)\\nWell, he wants to shut down this country and I want to keep it open, and we did a great thing by shutting it down-President Donald J. Trump: (05:15)\\nWait a minute, Joe. Let me shut you down for a second, Joe, just for one second. He wants to shut down the country. We just went through it. We had to, because we didn’t know anything about the disease. Now we’ve found that elderly people with heart problems and diabetes and different problems are very, very vulnerable. We learned a lot. Young children aren’t, even younger people aren’t. We’ve learned a lot, but he wants to shut it down. More people will be hurt by continuing. If you look at Pennsylvania, if you look at certain states that have been shut down, they have Democrat governors, all, one of the reasons they shut down is because they want to keep it shut down until after the election on November 3rd.President Donald J. Trump: (05:55)\\nBecause it’s a political thing.President Donald J. Trump: (05:57)\\nBut those states-President Donald J. Trump: (06:00)\\nThose states are not doing well that are shut down right now.President Donald J. Trump: (06:04)\\nHe wants to shut down the whole country.President Donald J. Trump: (06:20)\\nNo, I think masks are okay. You have to understand, if you look… I mean, I have a mask right here. I put a mask on when I think I need it. Tonight, as an example, everybody’s had a test and you’ve had social distancing and all of the things that you have to, but I wear masks-President Donald J. Trump: (06:33)\\n… when needed. When needed, I wear masks.President Donald J. Trump: (06:36)\\nI don’t wear a mask like him. Every time you see him, he’s got a mask. He could be speaking 200 feet away from him and he shows up with the biggest mask I’ve ever seen. I will say this-President Donald J. Trump: (07:10)\\nAnd they’ve also said the opposite. They’ve also said-President Donald J. Trump: (07:17)\\nDr. Fauci. Dr. Fauci said the opposite.President Donald J. Trump: (07:22)\\nHe said very strongly, “Masks are not good.” Then he changed his mind. He said, “Masks are good.”President Donald J. Trump: (07:25)\\nI’m okay with masks. I’m not fighting masks.President Donald J. Trump: (07:38)\\nOutside.President Donald J. Trump: (07:46)\\nBecause nobody will show up.President Donald J. Trump: (07:47)\\nWell, it’s true. Nobody shows up to his rallies.President Donald J. Trump: (07:56)\\nBecause people want to hear what I have to say. I mean-President Donald J. Trump: (08:01)\\n… I’m doing my job as a president, and I’ll have 25, 35,000 people show up at airports. We use airports and hangers and we have a lot of people-President Donald J. Trump: (08:08)\\nWell, so far we have had no problem whatsoever. It’s outside. That’s a big difference according to the experts. We do them outside, we have tremendous crowds, as you see, and literally on 24 hours notice. And Joe does the circles and has three people someplace.President Donald J. Trump: (08:48)\\nWe’ve had no negative effect.President Donald J. Trump: (08:51)\\nWe’ve had no negative effect, and we’ve had 35, 40,000 people at these rallies.President Donald J. Trump: (09:08)\\nIf you could get the crowds, you would have done the same thing. But you can’t. Nobody cares.President Donald J. Trump: (09:13)\\nNo cares.President Donald J. Trump: (09:15)\\nYes.President Donald J. Trump: (09:22)\\nMuch faster.President Donald J. Trump: (09:52)\\nSo we built the greatest economy in history. We closed it down because of the China plague. When the plague came in, we closed it down, which was very hard psychologically to do. He didn’t think we should close it down and he was wrong. Again, two million people would be dead now instead of… Still, 204,000 people is too much. One person is too much. Should have never happened from China. But what happened is we closed it down and now we’re reopening and we’re doing record business. We had 10.4 million people in a four month period that we’ve put back into the workforce. That’s a record the likes of which nobody’s ever seen before. And he wants to close down the… He will shut it down again. He will destroy this country.President Donald J. Trump: (10:31)\\nA lot of people, between drugs and alcohol and depression, when you start shutting it down, you take a look at what’s happening at some of your Democrat-run states where they have these tough shutdowns. And I’m telling you it’s because they don’t want to open it. One of them came out last week, you saw that, “Oh, we’re going to open up on November 9th.” Why November 9th? Because it’s after the election. They think they’re hurting us by keeping them closed. They’re hurting people. People know what to do. They can social distance. They can wash their hands, they can wear masks. They can do whatever they want, but they got to open these states up.President Donald J. Trump: (11:04)\\nWhen you look at North Carolina, when you look, and these governors are under siege, Pennsylvania, Michigan, and a couple of others, you got to open these states up. It’s not fair. You’re talking about almost it’s like being in prison. And you look at what’s going on with divorce, look at what’s going on with alcoholism and drugs. It’s a very, very sad thing. And he’ll close down the whole country. This guy will close down the whole country and destroy our country. Our country is coming back incredibly well, setting records as it does it. We don’t need somebody to come in and say, “Let’s shut it down.”President Donald J. Trump: (12:17)\\nThat’s wrong.President Donald J. Trump: (12:18)\\n[crosstalk 00:12:19].President Donald J. Trump: (13:56)\\nI have to respond to that.President Donald J. Trump: (13:59)\\nExcuse me, he made a statement.President Donald J. Trump: (14:03)\\nNo, people want their schools open. They don’t want to be shut down. They don’t want their state shut down. They want their restaurants. I look at New York. It’s so sad what’s happening in New York. It’s almost like a ghost town, and I’m not sure it can ever recover what they’ve done to New York. People want their places open. They want to get back to their lives.President Donald J. Trump: (14:20)\\nThey’ll be careful, but they want their schools open.President Donald J. Trump: (14:23)\\nI’m the one that brought back football. By the way, I brought back Big Ten football. It was me and I’m very happy to do it-President Donald J. Trump: (14:31)\\n… and people of Ohio are very proud of me. And you know how I found out? When [crosstalk 00:14:35].President Donald J. Trump: (15:08)\\nI paid millions of dollars in taxes, millions of dollars of income tax. And let me just tell you, there was a story in one of the papers that paid-President Donald J. Trump: (15:17)\\nI paid $38 million one year, I paid $27 million one year.President Donald J. Trump: (15:24)\\nYou’ll see it as soon as it’s finished, you’ll see it. You know, if you wanted to, go to the Board of Elections. There’s 118 page or so report that says everything I have, every bank I have, I’m totally under leveraged because the assets are extremely good, and I built a great company.President Donald J. Trump: (15:43)\\nBut let me tell you-President Donald J. Trump: (15:45)\\nLet me-President Donald J. Trump: (15:56)\\nMillions of dollars.President Donald J. Trump: (15:59)\\nMillions of dollars, yes.President Donald J. Trump: (16:00)\\nMillions of dollars. And you’ll get to see it. And you’ll get to see it.President Donald J. Trump: (16:04)\\nBut let me just tell you-President Donald J. Trump: (16:05)\\nChris, let me just say something, that it was the tax laws. I don’t want to pay tax. Before I came here, I was a private developer, I was a private business people. Like every other private person, unless they’re stupid, they go through the laws, and that’s what it is. He passed a tax bill that gave us all these privileges for depreciation and for tax credits. We build the building and we get tax credits, like the hotel on Pennsylvania Avenue. Which by the way, was given to me by the Obama administration, if you can believe that. Now the man got fired right after that happened, but that’s-President Donald J. Trump: (17:06)\\nThat’s okay.President Donald J. Trump: (17:13)\\nBut why didn’t you do it over the last 25 years?President Donald J. Trump: (17:18)\\nWhy didn’t you do it over the last 25 years?President Donald J. Trump: (17:20)\\nYou were a Senator and [crosstalk 00:17:21]-President Donald J. Trump: (17:24)\\nHey, Joe, let me just tell you, Joe. In 47 months, I’ve done more than you’ve done in 47 years, Joe. We’ve done things that you never even thought of doing.President Donald J. Trump: (17:33)\\nIncluding fixing the broken military that you gave me, including taking care of your debts.President Donald J. Trump: (17:46)\\nHe has none.President Donald J. Trump: (19:09)\\nWhy didn’t you do it before, when you were vice president with Obama?President Donald J. Trump: (19:16)\\nI got it done. And you know what happened?President Donald J. Trump: (19:18)\\nOur economy boomed like it’s never boomed before.President Donald J. Trump: (19:34)\\nExcuse me.President Donald J. Trump: (19:47)\\nThey had the slowest economic recovery since 1929. It was the slowest recovery. Also, they took over something that was down here. All you had to do is turn on the lights and you pick up a lot. But they had the slowest economic recovery since 1929, and let me tell you about the stock market. When the stock market goes up, that means jobs. It also means 401ks. If you got in, if you ever became president with your ideas, you want to terminate my taxes. I’ll tell you what, you’ll lose. Half of the companies that have poured in here will leave. And plenty of companies that are already here, they’ll leave for other places. [crosstalk 00:20:25] They will leave and you will have a depression, the likes of which you’ve never seen.President Donald J. Trump: (20:44)\\nIt wasn’t blooming.President Donald J. Trump: (20:46)\\nHe was in booming. It was the weakest recovery since 1929.President Donald J. Trump: (20:53)\\nWhen COVID came along.President Donald J. Trump: (21:04)\\nExcuse me, Chris, wait.President Donald J. Trump: (21:06)\\nChris.President Donald J. Trump: (21:07)\\nThey said it would take… No, you’re on number two.President Donald J. Trump: (21:10)\\nChris, Chris. They said it would take-President Donald J. Trump: (21:12)\\n… a miracle to bring back manufacturing. I brought back 700,000 jobs. They brought back nothing. They gave up on manufacturing.President Donald J. Trump: (21:21)\\n… standard fare.President Donald J. Trump: (21:25)\\nHe totally gave up on manufacturing.President Donald J. Trump: (21:34)\\nOhio had the best year it’s ever had last year. Michigan had the best year they’ve ever had.President Donald J. Trump: (21:41)\\nMany car companies came in from Germany, from Japan, went to Michigan, went to Ohio and they didn’t come in with you. [crosstalk 00:21:47].President Donald J. Trump: (22:06)\\nChina ate your lunch- [crosstalk 00:00:22:07].President Donald J. Trump: (22:09)\\nChina ate your lunch, Joe. And no wonder your son goes in and he takes out billions of dollars. He takes out billions of dollars to manage. He makes millions of dollars. And also, while we’re at it, why is it just out of curiosity, the mayor of Moscow’s wife gave you a son three and a half million dollars?President Donald J. Trump: (22:28)\\nWhat did he do to deserve it? What did he do with-President Donald J. Trump: (22:31)\\n… to deserve $183,000?President Donald J. Trump: (22:38)\\nOh really, he didn’t get three and a half million?President Donald J. Trump: (22:45)\\nWell wait, he didn’t get three and a half million dollars, Joe?President Donald J. Trump: (22:48)\\nHe got three and a half million-President Donald J. Trump: (22:49)\\n… dollars.President Donald J. Trump: (22:51)\\nOh, really?President Donald J. Trump: (22:56)\\nIt’s a fact.President Donald J. Trump: (23:01)\\nDid Burisma pay him 183,000 a month, with no experience in energy?President Donald J. Trump: (23:10)\\nI think he did.President Donald J. Trump: (23:20)\\nBy who?President Donald J. Trump: (23:20)\\nThe media.President Donald J. Trump: (23:23)\\nBy the media, because they refuse to talk about it-President Donald J. Trump: (23:24)\\n… because they’re embarrassed.President Donald J. Trump: (23:33)\\nSo let me ask you this, Joe- [crosstalk 00:23:35].President Donald J. Trump: (23:38)\\nHe got three and a half million dollars from Moscow.President Donald J. Trump: (23:47)\\nOh, really?President Donald J. Trump: (23:47)\\nI’d like to know who they are.President Donald J. Trump: (23:50)\\nI’ll fire them.President Donald J. Trump: (23:54)\\nSome people don’t do a good job.President Donald J. Trump: (24:02)\\nHey, let me just tell you, Joe-President Donald J. Trump: (24:04)\\nThree and a half million, Joe.President Donald J. Trump: (24:07)\\nWhy did he deserve three and a half million from Moscow?President Donald J. Trump: (24:19)\\nMy family-President Donald J. Trump: (24:20)\\nMy family lost a fortune by coming down and helping us with governance.President Donald J. Trump: (24:26)\\nEvery single one of them lost a fortune-President Donald J. Trump: (24:47)\\nChris, can I be honest? It’s a very important question-President Donald J. Trump: (24:50)\\nHe stood up-President Donald J. Trump: (24:53)\\n… and the threatened Ukraine-President Donald J. Trump: (24:55)\\n… with a billion dollars-President Donald J. Trump: (25:37)\\nWell, and him too.President Donald J. Trump: (25:40)\\nWell, that’s all right, but he does plenty.President Donald J. Trump: (25:43)\\nHe does plenty.President Donald J. Trump: (26:05)\\nOh yeah, sure.President Donald J. Trump: (26:16)\\nThat’s true.President Donald J. Trump: (28:27)\\nSo-President Donald J. Trump: (28:34)\\nYou did a crime bill, 1994, where you call them super predators. African-Americans are super predators and they’ve never forgotten it. They’ve never forgotten it.President Donald J. Trump: (28:45)\\nSo you did that and they call you a super predator and I’m letting people out of jail now, that you have treated the African-American population community, you have treated the black community about as bad as anybody in this country. You did the 1990… And that’s why, if you look at the polls, I’m doing better than any Republican has done in a long time, because they saw what you did. You call them super predators, and you’ve called them worse than that. Because you look back at your testimony over the years, you’ve called them a lot worse than that. As far as the church is concerned and as far as the generals are concerned, we just got the support of 250 military leaders and generals, total support. Law enforcement, almost every law enforcement group in the United States. I have Florida. I have Texas. I have Ohio. I have every… Excuse me, Portland, the sheriff just came out today and he said, “I support President Trump.”President Donald J. Trump: (29:39)\\nI don’t think you have any law enforcement. You can’t even say the word law enforcement. Because if you say those words, you’re going to lose all of your radical left supporters. And why aren’t you saying those words, Joe? Why don’t you say the words law enforcement? Because you know what? If called us in Portland, we would put out that fire in a half an hour. But they won’t do it, because they’re run by radical left Democrats. If you look at Chicago, if you look at any place you want to look, Seattle, they heard we were coming in the following day and they put up their hands and we got back Seattle. Minneapolis, we got it back, Joe, because we believe in law and order, but you don’t. The top 10 cities and just about the top 40 cities are run by Democrats, and in many cases radical left. And they’ve got you wrapped around their finger, Joe, to a point where you don’t want to say anything about law and order. And I’ll tell you what, the people of this country want and demand law and order and you’re afraid to even say it.President Donald J. Trump: (32:05)\\nWhat is peaceful protest? When they run through the middle of the town-President Donald J. Trump: (32:09)\\n… and burn down your stores and kill people all over the place- [crosstalk 00:32:14].President Donald J. Trump: (32:13)\\nNo it’s not, but you say it is.President Donald J. Trump: (32:21)\\nFine.President Donald J. Trump: (32:42)\\nI ended it because it’s racist. I ended it because a lot of people were complaining that they were asked to do things that were absolutely insane. That it a radical revolution that was taking place in our military, in our schools, all over the place. And you know it, and so does everybody else. And he would know it- [crosstalk 00:33:02]President Donald J. Trump: (33:05)\\nIf you were a certain person, you had no status in life. It was sort of a reversal. And if you look at the people, we were paying people hundreds of thousands of dollars to teach very bad ideas and frankly, very sick ideas. And really, they were teaching people to hate our country And I’m not going to do that. I’m not going to allow that to happen. We have to go back to the core values of this country. They were teaching people that our country is a horrible place. It’s a racist place. And they were teaching people to hate our country. And I’m not going to allow that to happen.President Donald J. Trump: (33:42)\\nYou just don’t know.President Donald J. Trump: (34:43)\\nDuring the Obama-Biden administration, there was tremendous division. There was hatred. You look at Ferguson, you look at, or you go to very… Many places, look at Oakland. Look what happened in Oakland. Look what happened in Baltimore. Look what happened… Frankly, it was more violent than what I’m even seeing now.President Donald J. Trump: (35:01)\\nBut the reason-President Donald J. Trump: (35:03)\\n… is that the Democrats that run these cities-President Donald J. Trump: (35:06)\\n… don’t want to talk, like you, about law and order.President Donald J. Trump: (35:09)\\nAnd you still haven’t mentioned. Are you in favor of law and order?President Donald J. Trump: (35:14)\\nAre you in favor of law and order? [crosstalk 00:35:17]President Donald J. Trump: (35:23)\\nOkay.President Donald J. Trump: (35:31)\\nIt went down much more in ours.President Donald J. Trump: (35:41)\\nThe places we had trouble were democratic run cities-President Donald J. Trump: (36:05)\\nI think as a party issue, you can bring in a couple of examples but if you look at Chicago, what’s going on in Chicago where a 53 people were shot and eight died shot, if you look at New York where it’s going up, like nobody’s ever seen anything. The numbers are going up a 100%, 150%, 200% crime, it is crazy what’s going on and he doesn’t want to say law and order because he can’t because he’ll lose his radical left supporters and once he does that, it’s over with. But if he ever got to run this country and they ran it the way he would want to run it, we would have by the way our suburbs would be gone. And you would see problems like you’ve never seen before.President Donald J. Trump: (36:47)\\nOh, I know suburbs so much that you.President Donald J. Trump: (38:35)\\nThat’s not what they are talking about this. That’s not what it is about. He’s talking about defunding the police.President Donald J. Trump: (38:40)\\nHe doesn’t have any law support. He has no law enforcement.President Donald J. Trump: (38:45)\\nHe has almost nothing. Oh, really, who do you have name one group that supports you name one group that came out and supported you. Go ahead. Think we have time.President Donald J. Trump: (38:55)\\nNo, no think right now. Name one law enforcement group that came out in support of you.President Donald J. Trump: (39:03)\\nThere aren’t any.President Donald J. Trump: (40:02)\\nHe’s never done that.President Donald J. Trump: (40:19)\\nOh really? I sent in the US Marshalls to get the killer of a young man in the middle of the street and they shot him for three days Portland didn’t do anything. I sent in the US Marshals they took care of business.President Donald J. Trump: (40:43)\\nI don’t know who said that.President Donald J. Trump: (40:45)\\nWho?President Donald J. Trump: (40:48)\\nI don’t think she said that.President Donald J. Trump: (40:49)\\nI don’t think so.President Donald J. Trump: (41:16)\\nDoes it mean I have to answer his stuff.President Donald J. Trump: (41:18)\\nWait a second, you have made a statement.President Donald J. Trump: (41:22)\\nI would love to end it.President Donald J. Trump: (41:28)\\nI’ll send in the National Guard, it would be over. That’d be no problem. But I don’t want to accept the National Guard.President Donald J. Trump: (41:57)\\nSure, I’m will to do that.President Donald J. Trump: (42:00)\\nI would say almost everything I see is from the left wing not from the right wing.President Donald J. Trump: (42:06)\\nI’m willing to do anything. I want to see peace.President Donald J. Trump: (42:10)\\nWhat do you want to call them? Give me a name, give me a name, go ahead who do you want me to condemn.President Donald J. Trump: (42:18)\\nProud Boys, stand back and stand by. But I’ll tell you what somebody’s got to do something about Antifa and the left because this is not a right wing problem this is a left wing…President Donald J. Trump: (42:35)\\nOh you got to be kidding me.President Donald J. Trump: (42:41)\\nWell, then you know what, he’s wrong.President Donald J. Trump: (42:46)\\nAntifa is bad.President Donald J. Trump: (42:53)\\nYou know what, Antifa is a dangerous radical group.President Donald J. Trump: (42:58)\\nAnd you ought to be careful of them, they’ll over throw you.President Donald J. Trump: (43:30)\\nBecause there is never been an administration or president who has done more than I’ve done in a period of three and a half years. And that’s despite the impeachment hoax and you so what happened today with Hillary Clinton, where it was a whole big con job. But despite going through all of these things where I had a fight, both flanks and behind me and above there has never been an administration that’s done what I’ve done. The greatest, before COVID came in the greatest economy in history, lowest unemployment numbers, everything was good. Everything was going.President Donald J. Trump: (44:03)\\nAnd by the way, there was unity going to happen. People were calling me for the first time in years, they were calling and they were saying it’s time maybe and then what happened? We got hit. But now we’re building it back up again. A rebuilding of the military, including Space Force and all of the other things. A fixing of the VA which was a mess under him, 308,000 people died because they didn’t have proper health care. It was a mess. And we now got a 91% approval rating at the VA, our vets. We take care of our vets. But we’ve rebuilt our military. And I’ll tell you something, some people say maybe the most important by the end of the first term I’ll have approximately 300 Federal judges and Court of Appeals judges, 300 and hopefully three great Supreme Court judges, justices that is a record the likes of which very few people and one of the reasons I’ll have so many judges because President Obama and him left me 128 judges to fill.President Donald J. Trump: (45:05)\\nWhen you leave office, you don’t leave any judges. That’s like, you just don’t do that. They left 128 openings and if I were a member of his party, because they have a little different philosophy, I’d say, if you left us 128 openings you can’t be a good president. You can’t be a good vice president but I want to thank you because it gives us almost, it’ll probably be above that number. By the end of this term, 300 judges. It’s a record.President Donald J. Trump: (46:14)\\nYou son got three and a half million dollars.President Donald J. Trump: (47:39)\\nReally?President Donald J. Trump: (47:40)\\nAre you talking Hunter, are you talking about Hunter.President Donald J. Trump: (47:44)\\nI don’t know Beau. I know Hunter. Hunter got thrown out of the military. He was thrown out dishonorably discharged.President Donald J. Trump: (47:53)\\nFor cocaine use. And he didn’t have a job until you became vice president.President Donald J. Trump: (47:56)\\nOnce you became vice president he made a fortune in Ukraine, in China, in Moscow and various other places.President Donald J. Trump: (48:04)\\nHe made a fortune and he didn’t have a job.President Donald J. Trump: (48:17)\\nBut why was he given tens of millions of dollars?President Donald J. Trump: (48:35)\\nI know but when somebody gets three and a half million dollars from the Mayor of Moscow.President Donald J. Trump: (48:43)\\nWhy did he get it?President Donald J. Trump: (49:27)\\nI want crystal clean water and air. I want beautiful clean air. We have now the lowest carbon… If you look at our numbers right now, we are doing phenomenally. But I haven’t destroyed our businesses. Our businesses aren’t put out of commission. If you look at the Paris Accord, it was a disaster from our standpoint. And people are actually very happy about what’s going on because our businesses are doing well. As far as the fires are concerned, you need forest management. In addition to everything else, the forest floors are loaded up with trees, dead trees that are years old and they’re like tinder and leaves and everything else. You drop a cigarette in there the whole forest burns down. You’ve got to have forest management.President Donald J. Trump: (50:13)\\nI believe that we have to do everything we can to have immaculate air immaculate water and do whatever else we can that’s good. We’re planting a billion trees, the Billion Tree Project and it’s very exciting for a lot of people.President Donald J. Trump: (50:32)\\nI think a lot of things do, but I think to an extent, yes. I think to an extent, yes, but I also think we have to do better management of our forest. Every year I get the call. California’s burning, California’s burning. If that was cleaned, if that were, if you had forest management, good forest management, you wouldn’t be getting those calls. In Europe, they live they’re forest cities. They call forest cities. They maintain their forest. They manage their forest. I was with the head of a major country, it’s a forest city. He said, “Sir, we have trees that are far more, they ignite much easier than California. There shouldn’t be that problem.” I spoke with the Governor about it. I’m getting along very well with the governor. But I said, “At some point you can’t every year have hundreds of thousands of acres of land just burned to the ground.” That’s burning down because of a lack of management.President Donald J. Trump: (51:35)\\nBecause it was driving energy prices through the sky.President Donald J. Trump: (51:44)\\nWell, not really because what’s happening is the car is much less expensive and it’s a much safer car and you talk it about a tiny difference. And then what would happen because of the cost of the car you would have at least double and triple the number of cars purchased. We have the old slugs out there that are 10, 12 years old. If you did that, the car would be safer. It would be much cheaper by $3,500.President Donald J. Trump: (52:08)\\nNo, but you would take a lot of cars off the market because people would be able to afford a car. Now, by the way, we’re going to see how that turns out. But a lot of people agree with me, many people. The car has gotten so expensive because they have computers all over the place for an extra little bit of gasoline. And I’m okay with electric cars too. I think I’m all for electric cars. I’ve given big incentives for electric cars but what they’ve done in California is just crazy.President Donald J. Trump: (55:39)\\nNot true. Not true-President Donald J. Trump: (55:42)\\nHe’s talking about the Green New Deal. And it’s not 2 billion [crosstalk 00:55:45] or 20 billion, as you said [crosstalk 00:55:46]. It’s $100 trillion.President Donald J. Trump: (55:52)\\nAnd rebuild the building.President Donald J. Trump: (55:53)\\nIt’s the dumbest-President Donald J. Trump: (55:54)\\n… most ridiculous [crosstalk 00:55:56] where two car systems are out-President Donald J. Trump: (56:00)\\n… where they want to take out the cows too.President Donald J. Trump: (56:01)\\nThat’s not true either, right?President Donald J. Trump: (56:04)\\nThis is a 100 trillion-President Donald J. Trump: (56:06)\\nThat’s more money than our country could make in 100 years [crosstalk 00:02:10]-President Donald J. Trump: (56:45)\\n100 million dollars.President Donald J. Trump: (57:05)\\nI never said that at all-President Donald J. Trump: (57:06)\\nThey made it up.President Donald J. Trump: (57:09)\\nYou make up a lot-President Donald J. Trump: (57:52)\\nWait a minute, Chris. So why didn’t he do it for 47 years? You were vice president-President Donald J. Trump: (57:56)\\nSo why didn’t you get the world… China sends up real dirt into the air. Russia does. India does. They all do. We’re supposed to be good. And by the way, he made a couple of statements. The Green New Deal is a hundred trillion dollars.President Donald J. Trump: (58:16)\\nHe made a statement about the military. He said I said something about the military. He and his friends made it up, and then they went with it. I never said it.President Donald J. Trump: (58:28)\\nHe called the military stupid bastards.President Donald J. Trump: (58:31)\\nHe said it on tape. [crosstalk 00:58:32]-President Donald J. Trump: (58:34)\\nI would never say that [crosstalk 00:58:35]-President Donald J. Trump: (58:37)\\nYou’re on tape-President Donald J. Trump: (59:10)\\nOh, you don’t? Oh, well, that’s a big statement.President Donald J. Trump: (59:13)\\nYou just lost the radical left.President Donald J. Trump: (01:01:53)\\nSo when I listen to Joe talking about a transition, there has been no transition from when I won. I won that election. And if you look at crooked Hillary Clinton, if you look at all of the different people, there was no transition, because they came after me trying to do a coup. They came after me spying on my campaign. They started from the day I won, and even before I won. From the day I came down the escalator with our first lady, they were a disaster. They were a disgrace to our country, and we’ve caught them. We’ve caught them all. We’ve got it all on tape. We’ve caught them all. And by the way, you gave the idea for the Logan Act against General Flynn. You better take a look at that, because we caught you in a sense, and President Obama was sitting in the office.President Donald J. Trump: (01:02:35)\\nHe knew about it too. So don’t tell me about a free transition. As far as the ballots are concerned, it’s a disaster. A solicited ballot, okay, solicited, is okay. You’re soliciting. You’re asking. They send it back. You send it back. I did that. If you have an unsolicited… They’re sending millions of ballots all over the country. There’s fraud. They found them in creeks. They found some, just happened to have the name Trump just the other day in a wastepaper basket. They’re being sent all over the place. They sent two in a Democrat area. They sent out a thousand ballots. Everybody got two ballots. This is going to be a fraud like you’ve never seen. The other thing, it’s nice. On November 3rd, you’re watching, and you see who won the election. And I think we’re going to do well because people are really happy with the job we’ve done.President Donald J. Trump: (01:03:22)\\nBut you know what? We won’t know. We might not know for months because these ballots are going to be all over. Take a look at what happened in Manhattan. Take a look at what happened in New Jersey. Take a look at what happened in Virginia and other places. They’re not losing 2%, 1%, which by the way is too much. An election could be won or lost with that. They’re losing 30 and 40%. It’s a fraud, and it’s a shame. And can you imagine where they say, “You have to have your ballot in by November 10th.” November 10th. That’s seven days after the election, in theory, should have been announced. We have major states [crosstalk 01:03:58] with that-President Donald J. Trump: (01:03:58)\\n… all run by Democrats-President Donald J. Trump: (01:04:00)\\nAll run by Democrats.President Donald J. Trump: (01:04:02)\\nIt’s a rigged election.President Donald J. Trump: (01:04:38)\\nYeah. I think I’m counting on them to look at the ballots, definitely. I hope we don’t need them, in terms of the election itself. But for the ballots, I think so, because what’s happening is incredible. I read today where at least 1% of the ballots for 2016 were invalidated. They take them. We don’t like them. We don’t like them. They throw them out-President Donald J. Trump: (01:04:59)\\n… left and right.President Donald J. Trump: (01:05:02)\\nWhat you do is you go and vote. You do a solicited ballot, and that’s okay-President Donald J. Trump: (01:05:08)\\nYou go and vote. You go and vote-President Donald J. Trump: (01:05:14)\\nYou either do, Chris, a solicited ballot, where you’re sending it in, they’re sending it back and you’re sending. They have mailmen with lots of it. Did you see what’s going on? Take a look at West Virginia, mailman selling the ballots. They’re being sold. They’re being dumped in rivers. This is a horrible thing for our country.President Donald J. Trump: (01:05:33)\\nThis is not going to end well.President Donald J. Trump: (01:05:34)\\nThis is not going to end well-President Donald J. Trump: (01:06:03)\\nYou’re wrong. You’re wrong [crosstalk 01:06:04]. I love counting the votes [crosstalk 01:06:05]-President Donald J. Trump: (01:06:07)\\nChris, he’s so wrong when he makes a statement like that-President Donald J. Trump: (01:07:10)\\nExcuse me [crosstalk 01:07:11]-President Donald J. Trump: (01:07:15)\\nYou know it can’t be done. You know it can’t, and already, there’s been fraud [crosstalk 01:07:19]-President Donald J. Trump: (01:07:50)\\nCould be months-President Donald J. Trump: (01:08:16)\\nI’m urging my supporters to go in to the polls and watch very carefully, because that’s what has to happen. I am urging them to do it. As you know, today there was a big problem. In Philadelphia, they went in to watch. They’re called poll watchers, a very safe, very nice thing. They were thrown out. They weren’t allowed to watch. You know why? Because bad things happen in Philadelphia. Bad things. And I am urging my people. I hope it’s going to be a fair election. If it’s a fair election-President Donald J. Trump: (01:08:45)\\n… I am 100% on board. But if I see tens of thousands of ballots being manipulated, I can’t go along with that. And I’ll tell you why-President Donald J. Trump: (01:08:53)\\n… from a common sense-President Donald J. Trump: (01:08:55)\\nI’ll tell you what it means-President Donald J. Trump: (01:08:56)\\nIt means you have a fraudulent election. You’re sending out 80 million ballots-President Donald J. Trump: (01:09:01)\\nThey’re not equipped… These people aren’t equipped to handle it, number one. Number two, they cheat. They cheat. Hey, they found ballots in a wastepaper basket three days ago, and they all had the name military ballots. There were military. They all had the name Trump on them.President Donald J. Trump: (01:09:17)\\nYou think that’s good?President Donald J. Trump: (01:10:07)\\nIt’s already been established. Take a look at Carolyn Maloney’s race-President Donald J. Trump: (01:10:41)\\nI want to see an honest ballot cut-President Donald J. Trump: (01:10:47)\\nI want to see an honest ballot count.President Donald J. Trump: (01:10:49)\\nAnd I think he does too-'"
      ]
     },
     "execution_count": 30,
     "metadata": {},
     "output_type": "execute_result"
    }
   ],
   "source": [
    "# More checks\n",
    "data['Trump']"
   ]
  },
  {
   "cell_type": "markdown",
   "metadata": {},
   "source": [
    "## Cleaning The Data"
   ]
  },
  {
   "cell_type": "markdown",
   "metadata": {},
   "source": [
    "When dealing with numerical data, data cleaning often involves removing null values and duplicate data, dealing with outliers, etc. With text data, there are some common data cleaning techniques, which are also known as text pre-processing techniques.\n",
    "\n",
    "With text data, this cleaning process can go on forever. There's always an exception to every cleaning step. So, we're going to follow the MVP (minimum viable product) approach - start simple and iterate. Here are a bunch of things you can do to clean your data. We're going to execute just the common cleaning steps here and the rest can be done at a later point to improve our results.\n",
    "\n",
    "**Common data cleaning steps on all text:**\n",
    "* Make text all lower case\n",
    "* Remove punctuation\n",
    "* Remove numerical values\n",
    "* Remove common non-sensical text (/n)\n",
    "* Tokenize text\n",
    "* Remove stop words\n",
    "\n",
    "**More data cleaning steps after tokenization:**\n",
    "* Stemming / lemmatization\n",
    "* Parts of speech tagging\n",
    "* Create bi-grams or tri-grams\n",
    "* Deal with typos\n",
    "* And more..."
   ]
  },
  {
   "cell_type": "code",
   "execution_count": 31,
   "metadata": {},
   "outputs": [
    {
     "data": {
      "text/plain": [
       "'Trump'"
      ]
     },
     "execution_count": 31,
     "metadata": {},
     "output_type": "execute_result"
    }
   ],
   "source": [
    "# Let's take a look at our data again\n",
    "next(iter(data.keys()))"
   ]
  },
  {
   "cell_type": "code",
   "execution_count": 32,
   "metadata": {},
   "outputs": [
    {
     "data": {
      "text/plain": [
       "'President Donald J. Trump: (02:51)\\nHow are you doing?President Donald J. Trump: (04:01)\\nThank you very much, Chris. I will tell you very simply. We won the election. Elections have consequences. We have the Senate, we have the White House, and we have a phenomenal nominee respected by all. Top, top academic, good in every way. Good in every way. In fact, some of her biggest endorsers are very liberal people from Notre Dame and other places. So I think she’s going to be fantastic. We have plenty of time. Even if we did it after the election itself. I have a lot of time after the election, as you know. So I think that she will be outstanding. She’s going to be as good as anybody that has served on that court. We really feel that. We have a professor at Notre Dame, highly respected by all, said she’s the single greatest student he’s ever had. He’s been a professor for a long time at a great school.President Donald J. Trump: (04:53)\\nAnd we won the election and therefore we have the right to choose her, and very few people knowingly would say otherwise. And by the way, the Democrats, they wouldn’t even think about not doing it. The only difference is they’d try and do it faster. There’s no way they would give it up. They had Merrick Garland, but the problem is they didn’t have the election so they were stopped. And probably that would happen in reverse, also. Definitely would happen in reverse. So we won the election and we have the right to do it, Chris.President Donald J. Trump: (05:34)\\nThank you, Joe.President Donald J. Trump: (07:34)\\nThere aren’t a hundred million people with pre-existing conditions. As far as a say is concerned, the people already had their say. Okay, Justice Ginsburg said very powerfully, very strongly, at some point 10 years ago or so, she said a President and the Senate is elected for a period of time, but a President is elected for four years. We’re not elected for three years. I’m not elected for three years. So we have the Senate, we have a President-President Donald J. Trump: (08:02)\\nDuring that period of time, during that period of time, we have an opening. I’m not elected for three years. I’m elected for four years. Joe, the hundred million people is totally wrong. I don’t know where you got that number. The bigger problem that you have is that you’re going to extinguish 180 million people with their private health care, that they’re very happy this.President Donald J. Trump: (08:25)\\nWell, you’re certainly going to socialist. You’re going to socialist medicine-President Donald J. Trump: (08:58)\\nThat’s not what you’ve said and it’s not what your party is saying.President Donald J. Trump: (09:02)\\nYour party doesn’t say it. Your party wants to go socialist medicine and socialist healthcare.President Donald J. Trump: (09:08)\\nAnd they’re going to dominate you, Joe. You know that.President Donald J. Trump: (09:11)\\nNot according to Harris.President Donald J. Trump: (09:39)\\nJoe, you’ve had 308,000 military people dying because you couldn’t provide them proper healthcare in the military. So don’t tell me about this.President Donald J. Trump: (09:48)\\nAnd if you were here, it wouldn’t be 200, it would be two million people because you were very late on the draw. You didn’t want me to ban China, which was heavily infected. You didn’t want me to ban Europe.President Donald J. Trump: (10:00)\\nYou would have been much later, Joe, much later.President Donald J. Trump: (10:04)\\nWe’re talking about two million people.President Donald J. Trump: (10:25)\\nYou don’t know what’s on the ballot. Why is it on the ballot? Why is it on the ballot? It’s not on the ballot.President Donald J. Trump: (10:32)\\nI don’t think so.President Donald J. Trump: (10:34)\\nThere’s nothing happening there.President Donald J. Trump: (10:36)\\nYou don’t know her view on Roe V. Wade? You don’t know here view.President Donald J. Trump: (11:05)\\nThat’s right.President Donald J. Trump: (11:07)\\nBecause they want to give good healthcare.President Donald J. Trump: (11:25)\\nYes, I have. Of course, I have. The individual mandate.President Donald J. Trump: (11:28)\\nExcuse me. I got rid of the individual mandate, which was a big chunk of Obamacare.President Donald J. Trump: (11:32)\\nThat is absolutely a big thing. That was the worst part of Obamacare.President Donald J. Trump: (11:36)\\nChris, that was the worst part of Obamacare.President Donald J. Trump: (11:38)\\nWell, I’ll ask Joe. The individual mandate was the most unpopular aspect of Obamacare.President Donald J. Trump: (11:44)\\nI got rid of it. And we will protect people.President Donald J. Trump: (11:52)\\nGo ahead.President Donald J. Trump: (12:16)\\nWell, first of all, I guess I’m debating you, not him, but that’s okay. I’m not surprised. Let me just tell you something. There’s nothing symbolic. I’m cutting drug prices. I’m going with Favored Nations, which no President has the courage to do because you’re going against big pharma. Drug prices will be coming down 80 or 90%. You could have done it during your 47 year period in government, but you didn’t do it. Nobody’s done it. So we’re cutting healthcare.President Donald J. Trump: (12:40)\\nAll of the things that we’ve done.President Donald J. Trump: (12:42)\\nI’ll give you an example. Insulin, it was destroying families, destroying people, the cost. I’m getting it for so cheap it’s like water, you want to know the truth. So cheap. Take a look at all of the drugs that what we’re doing. Prescription drug prices, we’re going to allow our Governors now to go to other countries to buy drugs because when they paid just a tiny fraction of what we do.President Donald J. Trump: (13:04)\\nThis is big stuff.President Donald J. Trump: (13:26)\\nThat’s not what your party says, by the way.President Donald J. Trump: (13:57)\\nJoe, you agreed with Bernie Sanders, who’s far left, on the manifesto, we call it. And that gives you socialized medicine.President Donald J. Trump: (14:05)\\nAre you saying you didn’t agree?President Donald J. Trump: (14:10)\\nNot by much.President Donald J. Trump: (14:12)\\nNot by much.President Donald J. Trump: (14:14)\\nIf Pocahontas would have left two days early you would have lost every primary.President Donald J. Trump: (14:18)\\nOn Super Tuesday, you got very lucky.President Donald J. Trump: (14:23)\\nWith what?President Donald J. Trump: (14:25)\\nWith what?President Donald J. Trump: (14:34)\\nBut you agree. Joe, you’re the liar. You graduated last in your class not first in your class.President Donald J. Trump: (14:46)\\nYou’d be surprised. You’d be surprised. Go ahead, Joe.President Donald J. Trump: (14:51)\\nListen, you agreed with Bernie Sanders and the manifesto.President Donald J. Trump: (14:58)\\nHe just lost the left.President Donald J. Trump: (15:01)\\nYou just lost the left. You agreed with Bernie Sanders on a plan that you absolutely agreed to and under that plan [crosstalk 00:15:10], they call it socialized medicine.President Donald J. Trump: (15:20)\\nWho is, Bernie?President Donald J. Trump: (15:41)\\nNo, I want to give them better healthcare at a much lower price, because Obamacare is no good.President Donald J. Trump: (15:46)\\nI’ve already fixed it.President Donald J. Trump: (15:49)\\nWe’ve already fixed it to an extent. Obamacare, as you might know but probably don’t, Obamacare is no good.President Donald J. Trump: (15:59)\\nObamacare is no good. We made it better and I had a choice to make very early on. We took away the individual mandate. We guaranteed pre-existing conditions, but took away the individual mandate. Listen, this is the way it is. And that destroyed … They shouldn’t even call it Obamacare, then I had a choice to make, do I let my people run it really well or badly? If I run it badly, they’ll probably blame him, but they’ll blame me. But more importantly, I want to help people. Okay. I said, “You’ve got to run it so well.” And I just had a meeting with them. They said the problem is, no matter how well you run Obamacare, it’s a disaster. It’s too expensive. Premiums are too high, that it doesn’t work. So we do want to get rid of it. Chris, we want to get rid of that and give something that’s cheaper and better.President Donald J. Trump: (16:45)\\nGo ahead.President Donald J. Trump: (16:47)\\nGood.President Donald J. Trump: (16:50)\\nOf course, we do.President Donald J. Trump: (18:05)\\nAre you going to pack the court?President Donald J. Trump: (18:08)\\nAre you going to pack the court?President Donald J. Trump: (18:12)\\nHe doesn’t want to answer the question.President Donald J. Trump: (18:18)\\nWhy wouldn’t you answer that question? You want to put a lot of new Supreme Court Justices. Radical left.President Donald J. Trump: (18:20)\\nListen, who is on your list, Joe? Who’s on your list?President Donald J. Trump: (18:25)\\nHe’s going to pack the court. He is not going to give a list.President Donald J. Trump: (18:35)\\nThe people understand, Joe.President Donald J. Trump: (18:37)\\n47 years, you’ve done nothing. They’re understand.President Donald J. Trump: (20:43)\\nWrong.President Donald J. Trump: (20:57)\\nWrong.President Donald J. Trump: (20:57)\\nIt’s so wrong.President Donald J. Trump: (21:30)\\nSo, if we would have listened to you.President Donald J. Trump: (21:31)\\nIf we would’ve listened to you, the country would have been left wide open, millions of people would have died, not 200,000. And one person is too much. It’s China’s fault. It should have never happened. They stopped it from going in, but it was China’s fault. And, by the way, when you talk about numbers, you don’t know how many people died in China. You don’t know how many people died in Russia. You don’t know how many people died in India. They don’t exactly give you a straight count, just so you understand. But if you look at what we’ve done, I closed it and you said, “He’s xenophobic. He’s a racist and he’s xenophobic,” because you didn’t think I should have closed our country. Wait a minute.President Donald J. Trump: (22:07)\\nYou didn’t think we should have closed our country because you thought it was terrible. You wouldn’t have closed it for another two months. By my doing it early, in fact, Dr. Fauci said, “President Trump saved thousands of lives.” Many of your Democrat Governors said, “President Trump did a phenomenal job.” We worked with the Governor. Oh really, go take a look. The Governors said I did a phenomenal job. Most of them said that. In fact, people that would not be necessarily on my side said that, “President Trump did a phenomenal job.” We did. We got the gowns. We got the masks. We made the ventilators. You wouldn’t have made ventilators. And now we’re weeks away from a vaccine. We’re doing therapeutics already. Fewer people are dying when they get sick. Far fewer people are dying. We’ve done a great job.President Donald J. Trump: (22:54)\\nThe only thing I haven’t done a good job, and that’s because of the fake news, no matter what you say to them, they give you a bad press on it. It’s just fake news. They give you good press, they give me bad press because that’s the way it is, unfortunately. But let me just say something. I don’t care. I’ve gotten used to it. But I’ll tell you, Joe, you could never have done the job that we did. You don’t have it in your blood. You could’ve never done that, Joe.President Donald J. Trump: (23:18)\\nWell, you didn’t do very well in Swine Flu. H1-N1, you were a disaster. Your own Chief of Staff said you were a disaster.President Donald J. Trump: (23:27)\\nA far less lethal disease, by the way.President Donald J. Trump: (23:57)\\nWe would have lost far more people, far more people. You would have been months late. You’re months behind me, Joe.President Donald J. Trump: (24:25)\\nYou don’t trust Johnson & Johnson, Pfizer?President Donald J. Trump: (00:15)\\nWell, I’ve spoken to the companies and we can have it a lot sooner. It’s a very political thing because people like this would rather make it political than save lives.President Donald J. Trump: (00:23)\\nIt is a very political thing. I’ve spoken to Pfizer, I’ve spoken to all of the people that you have to speak to, Moderna, Johnson & Johnson, and others. They can go faster than that by a lot. It’s become very political because the left… Or I don’t know if I call them left, I don’t know what I call them.President Donald J. Trump: (00:42)\\nI disagree with him. No, I disagree with both of them. And he didn’t say that. He said it could be there, but it could also be much sooner. I had him in my office two days ago.President Donald J. Trump: (00:53)\\nBecause he said it’s a possibility that we’ll have the answer before November 1st. It could also be after that.President Donald J. Trump: (01:00)\\nWell, we’re going to deliver it right away. We have the military all set up. Logistically, they’re all set up. We have our military that delivers soldiers and they can do 200,000 a day. They’re going to be delivering-President Donald J. Trump: (01:13)\\nIt’s all set up.President Donald J. Trump: (01:24)\\nThat was said sarcastically, and you know that. That was said sarcastically.President Donald J. Trump: (01:50)\\nYou’ll have the vaccine sooner than that.President Donald J. Trump: (02:51)\\nWe spoke to the scientists that are in charge-President Donald J. Trump: (02:53)\\n… they will have the vaccine very soon.President Donald J. Trump: (03:28)\\nDid you use the word smart? So you said you went to Delaware State, but you forgot the name of your college. You didn’t go to Delaware State. You graduated either the lowest or almost the lowest in your class. Don’t ever use the word smart with me. Don’t ever use that word.President Donald J. Trump: (03:44)\\nBecause you know what? There’s nothing smart about you, Joe. 47 years you’ve done nothing.President Donald J. Trump: (03:51)\\nLet me just tell you something, Joe. If you would have had the charge of what I was put through, I had to close the greatest economy of the history of our country. And by the way, now it’s being built again and it’s going up fast.President Donald J. Trump: (04:04)\\nOkay. It’s going up fast. I look forward to talking about it.President Donald J. Trump: (04:45)\\nTell that to Nancy Pelosi.President Donald J. Trump: (04:49)\\nTell that to Nancy Pelosi, and Schumer [crosstalk 00:04:52] Chuck.President Donald J. Trump: (05:04)\\nYou probably play more than I do, Joe.President Donald J. Trump: (05:08)\\nWell, he wants to shut down this country and I want to keep it open, and we did a great thing by shutting it down-President Donald J. Trump: (05:15)\\nWait a minute, Joe. Let me shut you down for a second, Joe, just for one second. He wants to shut down the country. We just went through it. We had to, because we didn’t know anything about the disease. Now we’ve found that elderly people with heart problems and diabetes and different problems are very, very vulnerable. We learned a lot. Young children aren’t, even younger people aren’t. We’ve learned a lot, but he wants to shut it down. More people will be hurt by continuing. If you look at Pennsylvania, if you look at certain states that have been shut down, they have Democrat governors, all, one of the reasons they shut down is because they want to keep it shut down until after the election on November 3rd.President Donald J. Trump: (05:55)\\nBecause it’s a political thing.President Donald J. Trump: (05:57)\\nBut those states-President Donald J. Trump: (06:00)\\nThose states are not doing well that are shut down right now.President Donald J. Trump: (06:04)\\nHe wants to shut down the whole country.President Donald J. Trump: (06:20)\\nNo, I think masks are okay. You have to understand, if you look… I mean, I have a mask right here. I put a mask on when I think I need it. Tonight, as an example, everybody’s had a test and you’ve had social distancing and all of the things that you have to, but I wear masks-President Donald J. Trump: (06:33)\\n… when needed. When needed, I wear masks.President Donald J. Trump: (06:36)\\nI don’t wear a mask like him. Every time you see him, he’s got a mask. He could be speaking 200 feet away from him and he shows up with the biggest mask I’ve ever seen. I will say this-President Donald J. Trump: (07:10)\\nAnd they’ve also said the opposite. They’ve also said-President Donald J. Trump: (07:17)\\nDr. Fauci. Dr. Fauci said the opposite.President Donald J. Trump: (07:22)\\nHe said very strongly, “Masks are not good.” Then he changed his mind. He said, “Masks are good.”President Donald J. Trump: (07:25)\\nI’m okay with masks. I’m not fighting masks.President Donald J. Trump: (07:38)\\nOutside.President Donald J. Trump: (07:46)\\nBecause nobody will show up.President Donald J. Trump: (07:47)\\nWell, it’s true. Nobody shows up to his rallies.President Donald J. Trump: (07:56)\\nBecause people want to hear what I have to say. I mean-President Donald J. Trump: (08:01)\\n… I’m doing my job as a president, and I’ll have 25, 35,000 people show up at airports. We use airports and hangers and we have a lot of people-President Donald J. Trump: (08:08)\\nWell, so far we have had no problem whatsoever. It’s outside. That’s a big difference according to the experts. We do them outside, we have tremendous crowds, as you see, and literally on 24 hours notice. And Joe does the circles and has three people someplace.President Donald J. Trump: (08:48)\\nWe’ve had no negative effect.President Donald J. Trump: (08:51)\\nWe’ve had no negative effect, and we’ve had 35, 40,000 people at these rallies.President Donald J. Trump: (09:08)\\nIf you could get the crowds, you would have done the same thing. But you can’t. Nobody cares.President Donald J. Trump: (09:13)\\nNo cares.President Donald J. Trump: (09:15)\\nYes.President Donald J. Trump: (09:22)\\nMuch faster.President Donald J. Trump: (09:52)\\nSo we built the greatest economy in history. We closed it down because of the China plague. When the plague came in, we closed it down, which was very hard psychologically to do. He didn’t think we should close it down and he was wrong. Again, two million people would be dead now instead of… Still, 204,000 people is too much. One person is too much. Should have never happened from China. But what happened is we closed it down and now we’re reopening and we’re doing record business. We had 10.4 million people in a four month period that we’ve put back into the workforce. That’s a record the likes of which nobody’s ever seen before. And he wants to close down the… He will shut it down again. He will destroy this country.President Donald J. Trump: (10:31)\\nA lot of people, between drugs and alcohol and depression, when you start shutting it down, you take a look at what’s happening at some of your Democrat-run states where they have these tough shutdowns. And I’m telling you it’s because they don’t want to open it. One of them came out last week, you saw that, “Oh, we’re going to open up on November 9th.” Why November 9th? Because it’s after the election. They think they’re hurting us by keeping them closed. They’re hurting people. People know what to do. They can social distance. They can wash their hands, they can wear masks. They can do whatever they want, but they got to open these states up.President Donald J. Trump: (11:04)\\nWhen you look at North Carolina, when you look, and these governors are under siege, Pennsylvania, Michigan, and a couple of others, you got to open these states up. It’s not fair. You’re talking about almost it’s like being in prison. And you look at what’s going on with divorce, look at what’s going on with alcoholism and drugs. It’s a very, very sad thing. And he’ll close down the whole country. This guy will close down the whole country and destroy our country. Our country is coming back incredibly well, setting records as it does it. We don’t need somebody to come in and say, “Let’s shut it down.”President Donald J. Trump: (12:17)\\nThat’s wrong.President Donald J. Trump: (12:18)\\n[crosstalk 00:12:19].President Donald J. Trump: (13:56)\\nI have to respond to that.President Donald J. Trump: (13:59)\\nExcuse me, he made a statement.President Donald J. Trump: (14:03)\\nNo, people want their schools open. They don’t want to be shut down. They don’t want their state shut down. They want their restaurants. I look at New York. It’s so sad what’s happening in New York. It’s almost like a ghost town, and I’m not sure it can ever recover what they’ve done to New York. People want their places open. They want to get back to their lives.President Donald J. Trump: (14:20)\\nThey’ll be careful, but they want their schools open.President Donald J. Trump: (14:23)\\nI’m the one that brought back football. By the way, I brought back Big Ten football. It was me and I’m very happy to do it-President Donald J. Trump: (14:31)\\n… and people of Ohio are very proud of me. And you know how I found out? When [crosstalk 00:14:35].President Donald J. Trump: (15:08)\\nI paid millions of dollars in taxes, millions of dollars of income tax. And let me just tell you, there was a story in one of the papers that paid-President Donald J. Trump: (15:17)\\nI paid $38 million one year, I paid $27 million one year.President Donald J. Trump: (15:24)\\nYou’ll see it as soon as it’s finished, you’ll see it. You know, if you wanted to, go to the Board of Elections. There’s 118 page or so report that says everything I have, every bank I have, I’m totally under leveraged because the assets are extremely good, and I built a great company.President Donald J. Trump: (15:43)\\nBut let me tell you-President Donald J. Trump: (15:45)\\nLet me-President Donald J. Trump: (15:56)\\nMillions of dollars.President Donald J. Trump: (15:59)\\nMillions of dollars, yes.President Donald J. Trump: (16:00)\\nMillions of dollars. And you’ll get to see it. And you’ll get to see it.President Donald J. Trump: (16:04)\\nBut let me just tell you-President Donald J. Trump: (16:05)\\nChris, let me just say something, that it was the tax laws. I don’t want to pay tax. Before I came here, I was a private developer, I was a private business people. Like every other private person, unless they’re stupid, they go through the laws, and that’s what it is. He passed a tax bill that gave us all these privileges for depreciation and for tax credits. We build the building and we get tax credits, like the hotel on Pennsylvania Avenue. Which by the way, was given to me by the Obama administration, if you can believe that. Now the man got fired right after that happened, but that’s-President Donald J. Trump: (17:06)\\nThat’s okay.President Donald J. Trump: (17:13)\\nBut why didn’t you do it over the last 25 years?President Donald J. Trump: (17:18)\\nWhy didn’t you do it over the last 25 years?President Donald J. Trump: (17:20)\\nYou were a Senator and [crosstalk 00:17:21]-President Donald J. Trump: (17:24)\\nHey, Joe, let me just tell you, Joe. In 47 months, I’ve done more than you’ve done in 47 years, Joe. We’ve done things that you never even thought of doing.President Donald J. Trump: (17:33)\\nIncluding fixing the broken military that you gave me, including taking care of your debts.President Donald J. Trump: (17:46)\\nHe has none.President Donald J. Trump: (19:09)\\nWhy didn’t you do it before, when you were vice president with Obama?President Donald J. Trump: (19:16)\\nI got it done. And you know what happened?President Donald J. Trump: (19:18)\\nOur economy boomed like it’s never boomed before.President Donald J. Trump: (19:34)\\nExcuse me.President Donald J. Trump: (19:47)\\nThey had the slowest economic recovery since 1929. It was the slowest recovery. Also, they took over something that was down here. All you had to do is turn on the lights and you pick up a lot. But they had the slowest economic recovery since 1929, and let me tell you about the stock market. When the stock market goes up, that means jobs. It also means 401ks. If you got in, if you ever became president with your ideas, you want to terminate my taxes. I’ll tell you what, you’ll lose. Half of the companies that have poured in here will leave. And plenty of companies that are already here, they’ll leave for other places. [crosstalk 00:20:25] They will leave and you will have a depression, the likes of which you’ve never seen.President Donald J. Trump: (20:44)\\nIt wasn’t blooming.President Donald J. Trump: (20:46)\\nHe was in booming. It was the weakest recovery since 1929.President Donald J. Trump: (20:53)\\nWhen COVID came along.President Donald J. Trump: (21:04)\\nExcuse me, Chris, wait.President Donald J. Trump: (21:06)\\nChris.President Donald J. Trump: (21:07)\\nThey said it would take… No, you’re on number two.President Donald J. Trump: (21:10)\\nChris, Chris. They said it would take-President Donald J. Trump: (21:12)\\n… a miracle to bring back manufacturing. I brought back 700,000 jobs. They brought back nothing. They gave up on manufacturing.President Donald J. Trump: (21:21)\\n… standard fare.President Donald J. Trump: (21:25)\\nHe totally gave up on manufacturing.President Donald J. Trump: (21:34)\\nOhio had the best year it’s ever had last year. Michigan had the best year they’ve ever had.President Donald J. Trump: (21:41)\\nMany car companies came in from Germany, from Japan, went to Michigan, went to Ohio and they didn’t come in with you. [crosstalk 00:21:47].President Donald J. Trump: (22:06)\\nChina ate your lunch- [crosstalk 00:00:22:07].President Donald J. Trump: (22:09)\\nChina ate your lunch, Joe. And no wonder your son goes in and he takes out billions of dollars. He takes out billions of dollars to manage. He makes millions of dollars. And also, while we’re at it, why is it just out of curiosity, the mayor of Moscow’s wife gave you a son three and a half million dollars?President Donald J. Trump: (22:28)\\nWhat did he do to deserve it? What did he do with-President Donald J. Trump: (22:31)\\n… to deserve $183,000?President Donald J. Trump: (22:38)\\nOh really, he didn’t get three and a half million?President Donald J. Trump: (22:45)\\nWell wait, he didn’t get three and a half million dollars, Joe?President Donald J. Trump: (22:48)\\nHe got three and a half million-President Donald J. Trump: (22:49)\\n… dollars.President Donald J. Trump: (22:51)\\nOh, really?President Donald J. Trump: (22:56)\\nIt’s a fact.President Donald J. Trump: (23:01)\\nDid Burisma pay him 183,000 a month, with no experience in energy?President Donald J. Trump: (23:10)\\nI think he did.President Donald J. Trump: (23:20)\\nBy who?President Donald J. Trump: (23:20)\\nThe media.President Donald J. Trump: (23:23)\\nBy the media, because they refuse to talk about it-President Donald J. Trump: (23:24)\\n… because they’re embarrassed.President Donald J. Trump: (23:33)\\nSo let me ask you this, Joe- [crosstalk 00:23:35].President Donald J. Trump: (23:38)\\nHe got three and a half million dollars from Moscow.President Donald J. Trump: (23:47)\\nOh, really?President Donald J. Trump: (23:47)\\nI’d like to know who they are.President Donald J. Trump: (23:50)\\nI’ll fire them.President Donald J. Trump: (23:54)\\nSome people don’t do a good job.President Donald J. Trump: (24:02)\\nHey, let me just tell you, Joe-President Donald J. Trump: (24:04)\\nThree and a half million, Joe.President Donald J. Trump: (24:07)\\nWhy did he deserve three and a half million from Moscow?President Donald J. Trump: (24:19)\\nMy family-President Donald J. Trump: (24:20)\\nMy family lost a fortune by coming down and helping us with governance.President Donald J. Trump: (24:26)\\nEvery single one of them lost a fortune-President Donald J. Trump: (24:47)\\nChris, can I be honest? It’s a very important question-President Donald J. Trump: (24:50)\\nHe stood up-President Donald J. Trump: (24:53)\\n… and the threatened Ukraine-President Donald J. Trump: (24:55)\\n… with a billion dollars-President Donald J. Trump: (25:37)\\nWell, and him too.President Donald J. Trump: (25:40)\\nWell, that’s all right, but he does plenty.President Donald J. Trump: (25:43)\\nHe does plenty.President Donald J. Trump: (26:05)\\nOh yeah, sure.President Donald J. Trump: (26:16)\\nThat’s true.President Donald J. Trump: (28:27)\\nSo-President Donald J. Trump: (28:34)\\nYou did a crime bill, 1994, where you call them super predators. African-Americans are super predators and they’ve never forgotten it. They’ve never forgotten it.President Donald J. Trump: (28:45)\\nSo you did that and they call you a super predator and I’m letting people out of jail now, that you have treated the African-American population community, you have treated the black community about as bad as anybody in this country. You did the 1990… And that’s why, if you look at the polls, I’m doing better than any Republican has done in a long time, because they saw what you did. You call them super predators, and you’ve called them worse than that. Because you look back at your testimony over the years, you’ve called them a lot worse than that. As far as the church is concerned and as far as the generals are concerned, we just got the support of 250 military leaders and generals, total support. Law enforcement, almost every law enforcement group in the United States. I have Florida. I have Texas. I have Ohio. I have every… Excuse me, Portland, the sheriff just came out today and he said, “I support President Trump.”President Donald J. Trump: (29:39)\\nI don’t think you have any law enforcement. You can’t even say the word law enforcement. Because if you say those words, you’re going to lose all of your radical left supporters. And why aren’t you saying those words, Joe? Why don’t you say the words law enforcement? Because you know what? If called us in Portland, we would put out that fire in a half an hour. But they won’t do it, because they’re run by radical left Democrats. If you look at Chicago, if you look at any place you want to look, Seattle, they heard we were coming in the following day and they put up their hands and we got back Seattle. Minneapolis, we got it back, Joe, because we believe in law and order, but you don’t. The top 10 cities and just about the top 40 cities are run by Democrats, and in many cases radical left. And they’ve got you wrapped around their finger, Joe, to a point where you don’t want to say anything about law and order. And I’ll tell you what, the people of this country want and demand law and order and you’re afraid to even say it.President Donald J. Trump: (32:05)\\nWhat is peaceful protest? When they run through the middle of the town-President Donald J. Trump: (32:09)\\n… and burn down your stores and kill people all over the place- [crosstalk 00:32:14].President Donald J. Trump: (32:13)\\nNo it’s not, but you say it is.President Donald J. Trump: (32:21)\\nFine.President Donald J. Trump: (32:42)\\nI ended it because it’s racist. I ended it because a lot of people were complaining that they were asked to do things that were absolutely insane. That it a radical revolution that was taking place in our military, in our schools, all over the place. And you know it, and so does everybody else. And he would know it- [crosstalk 00:33:02]President Donald J. Trump: (33:05)\\nIf you were a certain person, you had no status in life. It was sort of a reversal. And if you look at the people, we were paying people hundreds of thousands of dollars to teach very bad ideas and frankly, very sick ideas. And really, they were teaching people to hate our country And I’m not going to do that. I’m not going to allow that to happen. We have to go back to the core values of this country. They were teaching people that our country is a horrible place. It’s a racist place. And they were teaching people to hate our country. And I’m not going to allow that to happen.President Donald J. Trump: (33:42)\\nYou just don’t know.President Donald J. Trump: (34:43)\\nDuring the Obama-Biden administration, there was tremendous division. There was hatred. You look at Ferguson, you look at, or you go to very… Many places, look at Oakland. Look what happened in Oakland. Look what happened in Baltimore. Look what happened… Frankly, it was more violent than what I’m even seeing now.President Donald J. Trump: (35:01)\\nBut the reason-President Donald J. Trump: (35:03)\\n… is that the Democrats that run these cities-President Donald J. Trump: (35:06)\\n… don’t want to talk, like you, about law and order.President Donald J. Trump: (35:09)\\nAnd you still haven’t mentioned. Are you in favor of law and order?President Donald J. Trump: (35:14)\\nAre you in favor of law and order? [crosstalk 00:35:17]President Donald J. Trump: (35:23)\\nOkay.President Donald J. Trump: (35:31)\\nIt went down much more in ours.President Donald J. Trump: (35:41)\\nThe places we had trouble were democratic run cities-President Donald J. Trump: (36:05)\\nI think as a party issue, you can bring in a couple of examples but if you look at Chicago, what’s going on in Chicago where a 53 people were shot and eight died shot, if you look at New York where it’s going up, like nobody’s ever seen anything. The numbers are going up a 100%, 150%, 200% crime, it is crazy what’s going on and he doesn’t want to say law and order because he can’t because he’ll lose his radical left supporters and once he does that, it’s over with. But if he ever got to run this country and they ran it the way he would want to run it, we would have by the way our suburbs would be gone. And you would see problems like you’ve never seen before.President Donald J. Trump: (36:47)\\nOh, I know suburbs so much that you.President Donald J. Trump: (38:35)\\nThat’s not what they are talking about this. That’s not what it is about. He’s talking about defunding the police.President Donald J. Trump: (38:40)\\nHe doesn’t have any law support. He has no law enforcement.President Donald J. Trump: (38:45)\\nHe has almost nothing. Oh, really, who do you have name one group that supports you name one group that came out and supported you. Go ahead. Think we have time.President Donald J. Trump: (38:55)\\nNo, no think right now. Name one law enforcement group that came out in support of you.President Donald J. Trump: (39:03)\\nThere aren’t any.President Donald J. Trump: (40:02)\\nHe’s never done that.President Donald J. Trump: (40:19)\\nOh really? I sent in the US Marshalls to get the killer of a young man in the middle of the street and they shot him for three days Portland didn’t do anything. I sent in the US Marshals they took care of business.President Donald J. Trump: (40:43)\\nI don’t know who said that.President Donald J. Trump: (40:45)\\nWho?President Donald J. Trump: (40:48)\\nI don’t think she said that.President Donald J. Trump: (40:49)\\nI don’t think so.President Donald J. Trump: (41:16)\\nDoes it mean I have to answer his stuff.President Donald J. Trump: (41:18)\\nWait a second, you have made a statement.President Donald J. Trump: (41:22)\\nI would love to end it.President Donald J. Trump: (41:28)\\nI’ll send in the National Guard, it would be over. That’d be no problem. But I don’t want to accept the National Guard.President Donald J. Trump: (41:57)\\nSure, I’m will to do that.President Donald J. Trump: (42:00)\\nI would say almost everything I see is from the left wing not from the right wing.President Donald J. Trump: (42:06)\\nI’m willing to do anything. I want to see peace.President Donald J. Trump: (42:10)\\nWhat do you want to call them? Give me a name, give me a name, go ahead who do you want me to condemn.President Donald J. Trump: (42:18)\\nProud Boys, stand back and stand by. But I’ll tell you what somebody’s got to do something about Antifa and the left because this is not a right wing problem this is a left wing…President Donald J. Trump: (42:35)\\nOh you got to be kidding me.President Donald J. Trump: (42:41)\\nWell, then you know what, he’s wrong.President Donald J. Trump: (42:46)\\nAntifa is bad.President Donald J. Trump: (42:53)\\nYou know what, Antifa is a dangerous radical group.President Donald J. Trump: (42:58)\\nAnd you ought to be careful of them, they’ll over throw you.President Donald J. Trump: (43:30)\\nBecause there is never been an administration or president who has done more than I’ve done in a period of three and a half years. And that’s despite the impeachment hoax and you so what happened today with Hillary Clinton, where it was a whole big con job. But despite going through all of these things where I had a fight, both flanks and behind me and above there has never been an administration that’s done what I’ve done. The greatest, before COVID came in the greatest economy in history, lowest unemployment numbers, everything was good. Everything was going.President Donald J. Trump: (44:03)\\nAnd by the way, there was unity going to happen. People were calling me for the first time in years, they were calling and they were saying it’s time maybe and then what happened? We got hit. But now we’re building it back up again. A rebuilding of the military, including Space Force and all of the other things. A fixing of the VA which was a mess under him, 308,000 people died because they didn’t have proper health care. It was a mess. And we now got a 91% approval rating at the VA, our vets. We take care of our vets. But we’ve rebuilt our military. And I’ll tell you something, some people say maybe the most important by the end of the first term I’ll have approximately 300 Federal judges and Court of Appeals judges, 300 and hopefully three great Supreme Court judges, justices that is a record the likes of which very few people and one of the reasons I’ll have so many judges because President Obama and him left me 128 judges to fill.President Donald J. Trump: (45:05)\\nWhen you leave office, you don’t leave any judges. That’s like, you just don’t do that. They left 128 openings and if I were a member of his party, because they have a little different philosophy, I’d say, if you left us 128 openings you can’t be a good president. You can’t be a good vice president but I want to thank you because it gives us almost, it’ll probably be above that number. By the end of this term, 300 judges. It’s a record.President Donald J. Trump: (46:14)\\nYou son got three and a half million dollars.President Donald J. Trump: (47:39)\\nReally?President Donald J. Trump: (47:40)\\nAre you talking Hunter, are you talking about Hunter.President Donald J. Trump: (47:44)\\nI don’t know Beau. I know Hunter. Hunter got thrown out of the military. He was thrown out dishonorably discharged.President Donald J. Trump: (47:53)\\nFor cocaine use. And he didn’t have a job until you became vice president.President Donald J. Trump: (47:56)\\nOnce you became vice president he made a fortune in Ukraine, in China, in Moscow and various other places.President Donald J. Trump: (48:04)\\nHe made a fortune and he didn’t have a job.President Donald J. Trump: (48:17)\\nBut why was he given tens of millions of dollars?President Donald J. Trump: (48:35)\\nI know but when somebody gets three and a half million dollars from the Mayor of Moscow.President Donald J. Trump: (48:43)\\nWhy did he get it?President Donald J. Trump: (49:27)\\nI want crystal clean water and air. I want beautiful clean air. We have now the lowest carbon… If you look at our numbers right now, we are doing phenomenally. But I haven’t destroyed our businesses. Our businesses aren’t put out of commission. If you look at the Paris Accord, it was a disaster from our standpoint. And people are actually very happy about what’s going on because our businesses are doing well. As far as the fires are concerned, you need forest management. In addition to everything else, the forest floors are loaded up with trees, dead trees that are years old and they’re like tinder and leaves and everything else. You drop a cigarette in there the whole forest burns down. You’ve got to have forest management.President Donald J. Trump: (50:13)\\nI believe that we have to do everything we can to have immaculate air immaculate water and do whatever else we can that’s good. We’re planting a billion trees, the Billion Tree Project and it’s very exciting for a lot of people.President Donald J. Trump: (50:32)\\nI think a lot of things do, but I think to an extent, yes. I think to an extent, yes, but I also think we have to do better management of our forest. Every year I get the call. California’s burning, California’s burning. If that was cleaned, if that were, if you had forest management, good forest management, you wouldn’t be getting those calls. In Europe, they live they’re forest cities. They call forest cities. They maintain their forest. They manage their forest. I was with the head of a major country, it’s a forest city. He said, “Sir, we have trees that are far more, they ignite much easier than California. There shouldn’t be that problem.” I spoke with the Governor about it. I’m getting along very well with the governor. But I said, “At some point you can’t every year have hundreds of thousands of acres of land just burned to the ground.” That’s burning down because of a lack of management.President Donald J. Trump: (51:35)\\nBecause it was driving energy prices through the sky.President Donald J. Trump: (51:44)\\nWell, not really because what’s happening is the car is much less expensive and it’s a much safer car and you talk it about a tiny difference. And then what would happen because of the cost of the car you would have at least double and triple the number of cars purchased. We have the old slugs out there that are 10, 12 years old. If you did that, the car would be safer. It would be much cheaper by $3,500.President Donald J. Trump: (52:08)\\nNo, but you would take a lot of cars off the market because people would be able to afford a car. Now, by the way, we’re going to see how that turns out. But a lot of people agree with me, many people. The car has gotten so expensive because they have computers all over the place for an extra little bit of gasoline. And I’m okay with electric cars too. I think I’m all for electric cars. I’ve given big incentives for electric cars but what they’ve done in California is just crazy.President Donald J. Trump: (55:39)\\nNot true. Not true-President Donald J. Trump: (55:42)\\nHe’s talking about the Green New Deal. And it’s not 2 billion [crosstalk 00:55:45] or 20 billion, as you said [crosstalk 00:55:46]. It’s $100 trillion.President Donald J. Trump: (55:52)\\nAnd rebuild the building.President Donald J. Trump: (55:53)\\nIt’s the dumbest-President Donald J. Trump: (55:54)\\n… most ridiculous [crosstalk 00:55:56] where two car systems are out-President Donald J. Trump: (56:00)\\n… where they want to take out the cows too.President Donald J. Trump: (56:01)\\nThat’s not true either, right?President Donald J. Trump: (56:04)\\nThis is a 100 trillion-President Donald J. Trump: (56:06)\\nThat’s more money than our country could make in 100 years [crosstalk 00:02:10]-President Donald J. Trump: (56:45)\\n100 million dollars.President Donald J. Trump: (57:05)\\nI never said that at all-President Donald J. Trump: (57:06)\\nThey made it up.President Donald J. Trump: (57:09)\\nYou make up a lot-President Donald J. Trump: (57:52)\\nWait a minute, Chris. So why didn’t he do it for 47 years? You were vice president-President Donald J. Trump: (57:56)\\nSo why didn’t you get the world… China sends up real dirt into the air. Russia does. India does. They all do. We’re supposed to be good. And by the way, he made a couple of statements. The Green New Deal is a hundred trillion dollars.President Donald J. Trump: (58:16)\\nHe made a statement about the military. He said I said something about the military. He and his friends made it up, and then they went with it. I never said it.President Donald J. Trump: (58:28)\\nHe called the military stupid bastards.President Donald J. Trump: (58:31)\\nHe said it on tape. [crosstalk 00:58:32]-President Donald J. Trump: (58:34)\\nI would never say that [crosstalk 00:58:35]-President Donald J. Trump: (58:37)\\nYou’re on tape-President Donald J. Trump: (59:10)\\nOh, you don’t? Oh, well, that’s a big statement.President Donald J. Trump: (59:13)\\nYou just lost the radical left.President Donald J. Trump: (01:01:53)\\nSo when I listen to Joe talking about a transition, there has been no transition from when I won. I won that election. And if you look at crooked Hillary Clinton, if you look at all of the different people, there was no transition, because they came after me trying to do a coup. They came after me spying on my campaign. They started from the day I won, and even before I won. From the day I came down the escalator with our first lady, they were a disaster. They were a disgrace to our country, and we’ve caught them. We’ve caught them all. We’ve got it all on tape. We’ve caught them all. And by the way, you gave the idea for the Logan Act against General Flynn. You better take a look at that, because we caught you in a sense, and President Obama was sitting in the office.President Donald J. Trump: (01:02:35)\\nHe knew about it too. So don’t tell me about a free transition. As far as the ballots are concerned, it’s a disaster. A solicited ballot, okay, solicited, is okay. You’re soliciting. You’re asking. They send it back. You send it back. I did that. If you have an unsolicited… They’re sending millions of ballots all over the country. There’s fraud. They found them in creeks. They found some, just happened to have the name Trump just the other day in a wastepaper basket. They’re being sent all over the place. They sent two in a Democrat area. They sent out a thousand ballots. Everybody got two ballots. This is going to be a fraud like you’ve never seen. The other thing, it’s nice. On November 3rd, you’re watching, and you see who won the election. And I think we’re going to do well because people are really happy with the job we’ve done.President Donald J. Trump: (01:03:22)\\nBut you know what? We won’t know. We might not know for months because these ballots are going to be all over. Take a look at what happened in Manhattan. Take a look at what happened in New Jersey. Take a look at what happened in Virginia and other places. They’re not losing 2%, 1%, which by the way is too much. An election could be won or lost with that. They’re losing 30 and 40%. It’s a fraud, and it’s a shame. And can you imagine where they say, “You have to have your ballot in by November 10th.” November 10th. That’s seven days after the election, in theory, should have been announced. We have major states [crosstalk 01:03:58] with that-President Donald J. Trump: (01:03:58)\\n… all run by Democrats-President Donald J. Trump: (01:04:00)\\nAll run by Democrats.President Donald J. Trump: (01:04:02)\\nIt’s a rigged election.President Donald J. Trump: (01:04:38)\\nYeah. I think I’m counting on them to look at the ballots, definitely. I hope we don’t need them, in terms of the election itself. But for the ballots, I think so, because what’s happening is incredible. I read today where at least 1% of the ballots for 2016 were invalidated. They take them. We don’t like them. We don’t like them. They throw them out-President Donald J. Trump: (01:04:59)\\n… left and right.President Donald J. Trump: (01:05:02)\\nWhat you do is you go and vote. You do a solicited ballot, and that’s okay-President Donald J. Trump: (01:05:08)\\nYou go and vote. You go and vote-President Donald J. Trump: (01:05:14)\\nYou either do, Chris, a solicited ballot, where you’re sending it in, they’re sending it back and you’re sending. They have mailmen with lots of it. Did you see what’s going on? Take a look at West Virginia, mailman selling the ballots. They’re being sold. They’re being dumped in rivers. This is a horrible thing for our country.President Donald J. Trump: (01:05:33)\\nThis is not going to end well.President Donald J. Trump: (01:05:34)\\nThis is not going to end well-President Donald J. Trump: (01:06:03)\\nYou’re wrong. You’re wrong [crosstalk 01:06:04]. I love counting the votes [crosstalk 01:06:05]-President Donald J. Trump: (01:06:07)\\nChris, he’s so wrong when he makes a statement like that-President Donald J. Trump: (01:07:10)\\nExcuse me [crosstalk 01:07:11]-President Donald J. Trump: (01:07:15)\\nYou know it can’t be done. You know it can’t, and already, there’s been fraud [crosstalk 01:07:19]-President Donald J. Trump: (01:07:50)\\nCould be months-President Donald J. Trump: (01:08:16)\\nI’m urging my supporters to go in to the polls and watch very carefully, because that’s what has to happen. I am urging them to do it. As you know, today there was a big problem. In Philadelphia, they went in to watch. They’re called poll watchers, a very safe, very nice thing. They were thrown out. They weren’t allowed to watch. You know why? Because bad things happen in Philadelphia. Bad things. And I am urging my people. I hope it’s going to be a fair election. If it’s a fair election-President Donald J. Trump: (01:08:45)\\n… I am 100% on board. But if I see tens of thousands of ballots being manipulated, I can’t go along with that. And I’ll tell you why-President Donald J. Trump: (01:08:53)\\n… from a common sense-President Donald J. Trump: (01:08:55)\\nI’ll tell you what it means-President Donald J. Trump: (01:08:56)\\nIt means you have a fraudulent election. You’re sending out 80 million ballots-President Donald J. Trump: (01:09:01)\\nThey’re not equipped… These people aren’t equipped to handle it, number one. Number two, they cheat. They cheat. Hey, they found ballots in a wastepaper basket three days ago, and they all had the name military ballots. There were military. They all had the name Trump on them.President Donald J. Trump: (01:09:17)\\nYou think that’s good?President Donald J. Trump: (01:10:07)\\nIt’s already been established. Take a look at Carolyn Maloney’s race-President Donald J. Trump: (01:10:41)\\nI want to see an honest ballot cut-President Donald J. Trump: (01:10:47)\\nI want to see an honest ballot count.President Donald J. Trump: (01:10:49)\\nAnd I think he does too-'"
      ]
     },
     "execution_count": 32,
     "metadata": {},
     "output_type": "execute_result"
    }
   ],
   "source": [
    "# Notice that our dictionary is currently in key: comedian, value: list of text format\n",
    "next(iter(data.values()))"
   ]
  },
  {
   "cell_type": "code",
   "execution_count": 37,
   "metadata": {},
   "outputs": [],
   "source": [
    "# We are going to change this to key: comedian, value: string format\n",
    "def combine_text(list_of_text,key):\n",
    "    word_to_clean = ''\n",
    "    if key == 'Trump': \n",
    "        word_to_clean = 'President Donald J. Trump'\n",
    "    elif key == 'Biden':\n",
    "        word_to_clean =  'Vice President Joe Biden'\n",
    "    else:\n",
    "        word_to_clean = 'Chris Wallace'\n",
    "    '''Takes a list of text and combines them into one large chunk of text.'''\n",
    "    combined_text = ''.join(list_of_text)\n",
    "    #cleaning word\n",
    "    combined_text = combined_text.replace(word_to_clean,'')\n",
    "    return combined_text"
   ]
  },
  {
   "cell_type": "code",
   "execution_count": 38,
   "metadata": {},
   "outputs": [],
   "source": [
    "# Combine it!\n",
    "data_combined = {key: [combine_text(value,key)] for (key, value) in data.items()}"
   ]
  },
  {
   "cell_type": "code",
   "execution_count": 39,
   "metadata": {},
   "outputs": [
    {
     "data": {
      "text/html": [
       "<div>\n",
       "<style scoped>\n",
       "    .dataframe tbody tr th:only-of-type {\n",
       "        vertical-align: middle;\n",
       "    }\n",
       "\n",
       "    .dataframe tbody tr th {\n",
       "        vertical-align: top;\n",
       "    }\n",
       "\n",
       "    .dataframe thead th {\n",
       "        text-align: right;\n",
       "    }\n",
       "</style>\n",
       "<table border=\"1\" class=\"dataframe\">\n",
       "  <thead>\n",
       "    <tr style=\"text-align: right;\">\n",
       "      <th></th>\n",
       "      <th>transcript</th>\n",
       "    </tr>\n",
       "  </thead>\n",
       "  <tbody>\n",
       "    <tr>\n",
       "      <th>Biden</th>\n",
       "      <td>: (02:49)\\nHow you doing, man?: (02:51)\\nI’m well.: (05:29)\\nWell, first of all, thank you for doing this and looking forward to this, Mr. Preside...</td>\n",
       "    </tr>\n",
       "    <tr>\n",
       "      <th>Trump</th>\n",
       "      <td>: (02:51)\\nHow are you doing?: (04:01)\\nThank you very much, Chris. I will tell you very simply. We won the election. Elections have consequences....</td>\n",
       "    </tr>\n",
       "    <tr>\n",
       "      <th>Wallace</th>\n",
       "      <td>: (01:20)\\nGood evening from the Health Education Campus of Case Western Reserve University and the Cleveland Clinic. I’m  of Fox News and I welco...</td>\n",
       "    </tr>\n",
       "  </tbody>\n",
       "</table>\n",
       "</div>"
      ],
      "text/plain": [
       "                                                                                                                                                    transcript\n",
       "Biden    : (02:49)\\nHow you doing, man?: (02:51)\\nI’m well.: (05:29)\\nWell, first of all, thank you for doing this and looking forward to this, Mr. Preside...\n",
       "Trump    : (02:51)\\nHow are you doing?: (04:01)\\nThank you very much, Chris. I will tell you very simply. We won the election. Elections have consequences....\n",
       "Wallace  : (01:20)\\nGood evening from the Health Education Campus of Case Western Reserve University and the Cleveland Clinic. I’m  of Fox News and I welco..."
      ]
     },
     "execution_count": 39,
     "metadata": {},
     "output_type": "execute_result"
    }
   ],
   "source": [
    "# We can either keep it in dictionary format or put it into a pandas dataframe\n",
    "import pandas as pd\n",
    "pd.set_option('max_colwidth',150)\n",
    "\n",
    "data_df = pd.DataFrame.from_dict(data_combined).transpose()\n",
    "data_df.columns = ['transcript']\n",
    "data_df = data_df.sort_index()\n",
    "data_df"
   ]
  },
  {
   "cell_type": "code",
   "execution_count": 40,
   "metadata": {},
   "outputs": [
    {
     "data": {
      "text/plain": [
       "': (02:51)\\nHow are you doing?: (04:01)\\nThank you very much, Chris. I will tell you very simply. We won the election. Elections have consequences. We have the Senate, we have the White House, and we have a phenomenal nominee respected by all. Top, top academic, good in every way. Good in every way. In fact, some of her biggest endorsers are very liberal people from Notre Dame and other places. So I think she’s going to be fantastic. We have plenty of time. Even if we did it after the election itself. I have a lot of time after the election, as you know. So I think that she will be outstanding. She’s going to be as good as anybody that has served on that court. We really feel that. We have a professor at Notre Dame, highly respected by all, said she’s the single greatest student he’s ever had. He’s been a professor for a long time at a great school.: (04:53)\\nAnd we won the election and therefore we have the right to choose her, and very few people knowingly would say otherwise. And by the way, the Democrats, they wouldn’t even think about not doing it. The only difference is they’d try and do it faster. There’s no way they would give it up. They had Merrick Garland, but the problem is they didn’t have the election so they were stopped. And probably that would happen in reverse, also. Definitely would happen in reverse. So we won the election and we have the right to do it, Chris.: (05:34)\\nThank you, Joe.: (07:34)\\nThere aren’t a hundred million people with pre-existing conditions. As far as a say is concerned, the people already had their say. Okay, Justice Ginsburg said very powerfully, very strongly, at some point 10 years ago or so, she said a President and the Senate is elected for a period of time, but a President is elected for four years. We’re not elected for three years. I’m not elected for three years. So we have the Senate, we have a President-: (08:02)\\nDuring that period of time, during that period of time, we have an opening. I’m not elected for three years. I’m elected for four years. Joe, the hundred million people is totally wrong. I don’t know where you got that number. The bigger problem that you have is that you’re going to extinguish 180 million people with their private health care, that they’re very happy this.: (08:25)\\nWell, you’re certainly going to socialist. You’re going to socialist medicine-: (08:58)\\nThat’s not what you’ve said and it’s not what your party is saying.: (09:02)\\nYour party doesn’t say it. Your party wants to go socialist medicine and socialist healthcare.: (09:08)\\nAnd they’re going to dominate you, Joe. You know that.: (09:11)\\nNot according to Harris.: (09:39)\\nJoe, you’ve had 308,000 military people dying because you couldn’t provide them proper healthcare in the military. So don’t tell me about this.: (09:48)\\nAnd if you were here, it wouldn’t be 200, it would be two million people because you were very late on the draw. You didn’t want me to ban China, which was heavily infected. You didn’t want me to ban Europe.: (10:00)\\nYou would have been much later, Joe, much later.: (10:04)\\nWe’re talking about two million people.: (10:25)\\nYou don’t know what’s on the ballot. Why is it on the ballot? Why is it on the ballot? It’s not on the ballot.: (10:32)\\nI don’t think so.: (10:34)\\nThere’s nothing happening there.: (10:36)\\nYou don’t know her view on Roe V. Wade? You don’t know here view.: (11:05)\\nThat’s right.: (11:07)\\nBecause they want to give good healthcare.: (11:25)\\nYes, I have. Of course, I have. The individual mandate.: (11:28)\\nExcuse me. I got rid of the individual mandate, which was a big chunk of Obamacare.: (11:32)\\nThat is absolutely a big thing. That was the worst part of Obamacare.: (11:36)\\nChris, that was the worst part of Obamacare.: (11:38)\\nWell, I’ll ask Joe. The individual mandate was the most unpopular aspect of Obamacare.: (11:44)\\nI got rid of it. And we will protect people.: (11:52)\\nGo ahead.: (12:16)\\nWell, first of all, I guess I’m debating you, not him, but that’s okay. I’m not surprised. Let me just tell you something. There’s nothing symbolic. I’m cutting drug prices. I’m going with Favored Nations, which no President has the courage to do because you’re going against big pharma. Drug prices will be coming down 80 or 90%. You could have done it during your 47 year period in government, but you didn’t do it. Nobody’s done it. So we’re cutting healthcare.: (12:40)\\nAll of the things that we’ve done.: (12:42)\\nI’ll give you an example. Insulin, it was destroying families, destroying people, the cost. I’m getting it for so cheap it’s like water, you want to know the truth. So cheap. Take a look at all of the drugs that what we’re doing. Prescription drug prices, we’re going to allow our Governors now to go to other countries to buy drugs because when they paid just a tiny fraction of what we do.: (13:04)\\nThis is big stuff.: (13:26)\\nThat’s not what your party says, by the way.: (13:57)\\nJoe, you agreed with Bernie Sanders, who’s far left, on the manifesto, we call it. And that gives you socialized medicine.: (14:05)\\nAre you saying you didn’t agree?: (14:10)\\nNot by much.: (14:12)\\nNot by much.: (14:14)\\nIf Pocahontas would have left two days early you would have lost every primary.: (14:18)\\nOn Super Tuesday, you got very lucky.: (14:23)\\nWith what?: (14:25)\\nWith what?: (14:34)\\nBut you agree. Joe, you’re the liar. You graduated last in your class not first in your class.: (14:46)\\nYou’d be surprised. You’d be surprised. Go ahead, Joe.: (14:51)\\nListen, you agreed with Bernie Sanders and the manifesto.: (14:58)\\nHe just lost the left.: (15:01)\\nYou just lost the left. You agreed with Bernie Sanders on a plan that you absolutely agreed to and under that plan [crosstalk 00:15:10], they call it socialized medicine.: (15:20)\\nWho is, Bernie?: (15:41)\\nNo, I want to give them better healthcare at a much lower price, because Obamacare is no good.: (15:46)\\nI’ve already fixed it.: (15:49)\\nWe’ve already fixed it to an extent. Obamacare, as you might know but probably don’t, Obamacare is no good.: (15:59)\\nObamacare is no good. We made it better and I had a choice to make very early on. We took away the individual mandate. We guaranteed pre-existing conditions, but took away the individual mandate. Listen, this is the way it is. And that destroyed … They shouldn’t even call it Obamacare, then I had a choice to make, do I let my people run it really well or badly? If I run it badly, they’ll probably blame him, but they’ll blame me. But more importantly, I want to help people. Okay. I said, “You’ve got to run it so well.” And I just had a meeting with them. They said the problem is, no matter how well you run Obamacare, it’s a disaster. It’s too expensive. Premiums are too high, that it doesn’t work. So we do want to get rid of it. Chris, we want to get rid of that and give something that’s cheaper and better.: (16:45)\\nGo ahead.: (16:47)\\nGood.: (16:50)\\nOf course, we do.: (18:05)\\nAre you going to pack the court?: (18:08)\\nAre you going to pack the court?: (18:12)\\nHe doesn’t want to answer the question.: (18:18)\\nWhy wouldn’t you answer that question? You want to put a lot of new Supreme Court Justices. Radical left.: (18:20)\\nListen, who is on your list, Joe? Who’s on your list?: (18:25)\\nHe’s going to pack the court. He is not going to give a list.: (18:35)\\nThe people understand, Joe.: (18:37)\\n47 years, you’ve done nothing. They’re understand.: (20:43)\\nWrong.: (20:57)\\nWrong.: (20:57)\\nIt’s so wrong.: (21:30)\\nSo, if we would have listened to you.: (21:31)\\nIf we would’ve listened to you, the country would have been left wide open, millions of people would have died, not 200,000. And one person is too much. It’s China’s fault. It should have never happened. They stopped it from going in, but it was China’s fault. And, by the way, when you talk about numbers, you don’t know how many people died in China. You don’t know how many people died in Russia. You don’t know how many people died in India. They don’t exactly give you a straight count, just so you understand. But if you look at what we’ve done, I closed it and you said, “He’s xenophobic. He’s a racist and he’s xenophobic,” because you didn’t think I should have closed our country. Wait a minute.: (22:07)\\nYou didn’t think we should have closed our country because you thought it was terrible. You wouldn’t have closed it for another two months. By my doing it early, in fact, Dr. Fauci said, “President Trump saved thousands of lives.” Many of your Democrat Governors said, “President Trump did a phenomenal job.” We worked with the Governor. Oh really, go take a look. The Governors said I did a phenomenal job. Most of them said that. In fact, people that would not be necessarily on my side said that, “President Trump did a phenomenal job.” We did. We got the gowns. We got the masks. We made the ventilators. You wouldn’t have made ventilators. And now we’re weeks away from a vaccine. We’re doing therapeutics already. Fewer people are dying when they get sick. Far fewer people are dying. We’ve done a great job.: (22:54)\\nThe only thing I haven’t done a good job, and that’s because of the fake news, no matter what you say to them, they give you a bad press on it. It’s just fake news. They give you good press, they give me bad press because that’s the way it is, unfortunately. But let me just say something. I don’t care. I’ve gotten used to it. But I’ll tell you, Joe, you could never have done the job that we did. You don’t have it in your blood. You could’ve never done that, Joe.: (23:18)\\nWell, you didn’t do very well in Swine Flu. H1-N1, you were a disaster. Your own Chief of Staff said you were a disaster.: (23:27)\\nA far less lethal disease, by the way.: (23:57)\\nWe would have lost far more people, far more people. You would have been months late. You’re months behind me, Joe.: (24:25)\\nYou don’t trust Johnson & Johnson, Pfizer?: (00:15)\\nWell, I’ve spoken to the companies and we can have it a lot sooner. It’s a very political thing because people like this would rather make it political than save lives.: (00:23)\\nIt is a very political thing. I’ve spoken to Pfizer, I’ve spoken to all of the people that you have to speak to, Moderna, Johnson & Johnson, and others. They can go faster than that by a lot. It’s become very political because the left… Or I don’t know if I call them left, I don’t know what I call them.: (00:42)\\nI disagree with him. No, I disagree with both of them. And he didn’t say that. He said it could be there, but it could also be much sooner. I had him in my office two days ago.: (00:53)\\nBecause he said it’s a possibility that we’ll have the answer before November 1st. It could also be after that.: (01:00)\\nWell, we’re going to deliver it right away. We have the military all set up. Logistically, they’re all set up. We have our military that delivers soldiers and they can do 200,000 a day. They’re going to be delivering-: (01:13)\\nIt’s all set up.: (01:24)\\nThat was said sarcastically, and you know that. That was said sarcastically.: (01:50)\\nYou’ll have the vaccine sooner than that.: (02:51)\\nWe spoke to the scientists that are in charge-: (02:53)\\n… they will have the vaccine very soon.: (03:28)\\nDid you use the word smart? So you said you went to Delaware State, but you forgot the name of your college. You didn’t go to Delaware State. You graduated either the lowest or almost the lowest in your class. Don’t ever use the word smart with me. Don’t ever use that word.: (03:44)\\nBecause you know what? There’s nothing smart about you, Joe. 47 years you’ve done nothing.: (03:51)\\nLet me just tell you something, Joe. If you would have had the charge of what I was put through, I had to close the greatest economy of the history of our country. And by the way, now it’s being built again and it’s going up fast.: (04:04)\\nOkay. It’s going up fast. I look forward to talking about it.: (04:45)\\nTell that to Nancy Pelosi.: (04:49)\\nTell that to Nancy Pelosi, and Schumer [crosstalk 00:04:52] Chuck.: (05:04)\\nYou probably play more than I do, Joe.: (05:08)\\nWell, he wants to shut down this country and I want to keep it open, and we did a great thing by shutting it down-: (05:15)\\nWait a minute, Joe. Let me shut you down for a second, Joe, just for one second. He wants to shut down the country. We just went through it. We had to, because we didn’t know anything about the disease. Now we’ve found that elderly people with heart problems and diabetes and different problems are very, very vulnerable. We learned a lot. Young children aren’t, even younger people aren’t. We’ve learned a lot, but he wants to shut it down. More people will be hurt by continuing. If you look at Pennsylvania, if you look at certain states that have been shut down, they have Democrat governors, all, one of the reasons they shut down is because they want to keep it shut down until after the election on November 3rd.: (05:55)\\nBecause it’s a political thing.: (05:57)\\nBut those states-: (06:00)\\nThose states are not doing well that are shut down right now.: (06:04)\\nHe wants to shut down the whole country.: (06:20)\\nNo, I think masks are okay. You have to understand, if you look… I mean, I have a mask right here. I put a mask on when I think I need it. Tonight, as an example, everybody’s had a test and you’ve had social distancing and all of the things that you have to, but I wear masks-: (06:33)\\n… when needed. When needed, I wear masks.: (06:36)\\nI don’t wear a mask like him. Every time you see him, he’s got a mask. He could be speaking 200 feet away from him and he shows up with the biggest mask I’ve ever seen. I will say this-: (07:10)\\nAnd they’ve also said the opposite. They’ve also said-: (07:17)\\nDr. Fauci. Dr. Fauci said the opposite.: (07:22)\\nHe said very strongly, “Masks are not good.” Then he changed his mind. He said, “Masks are good.”: (07:25)\\nI’m okay with masks. I’m not fighting masks.: (07:38)\\nOutside.: (07:46)\\nBecause nobody will show up.: (07:47)\\nWell, it’s true. Nobody shows up to his rallies.: (07:56)\\nBecause people want to hear what I have to say. I mean-: (08:01)\\n… I’m doing my job as a president, and I’ll have 25, 35,000 people show up at airports. We use airports and hangers and we have a lot of people-: (08:08)\\nWell, so far we have had no problem whatsoever. It’s outside. That’s a big difference according to the experts. We do them outside, we have tremendous crowds, as you see, and literally on 24 hours notice. And Joe does the circles and has three people someplace.: (08:48)\\nWe’ve had no negative effect.: (08:51)\\nWe’ve had no negative effect, and we’ve had 35, 40,000 people at these rallies.: (09:08)\\nIf you could get the crowds, you would have done the same thing. But you can’t. Nobody cares.: (09:13)\\nNo cares.: (09:15)\\nYes.: (09:22)\\nMuch faster.: (09:52)\\nSo we built the greatest economy in history. We closed it down because of the China plague. When the plague came in, we closed it down, which was very hard psychologically to do. He didn’t think we should close it down and he was wrong. Again, two million people would be dead now instead of… Still, 204,000 people is too much. One person is too much. Should have never happened from China. But what happened is we closed it down and now we’re reopening and we’re doing record business. We had 10.4 million people in a four month period that we’ve put back into the workforce. That’s a record the likes of which nobody’s ever seen before. And he wants to close down the… He will shut it down again. He will destroy this country.: (10:31)\\nA lot of people, between drugs and alcohol and depression, when you start shutting it down, you take a look at what’s happening at some of your Democrat-run states where they have these tough shutdowns. And I’m telling you it’s because they don’t want to open it. One of them came out last week, you saw that, “Oh, we’re going to open up on November 9th.” Why November 9th? Because it’s after the election. They think they’re hurting us by keeping them closed. They’re hurting people. People know what to do. They can social distance. They can wash their hands, they can wear masks. They can do whatever they want, but they got to open these states up.: (11:04)\\nWhen you look at North Carolina, when you look, and these governors are under siege, Pennsylvania, Michigan, and a couple of others, you got to open these states up. It’s not fair. You’re talking about almost it’s like being in prison. And you look at what’s going on with divorce, look at what’s going on with alcoholism and drugs. It’s a very, very sad thing. And he’ll close down the whole country. This guy will close down the whole country and destroy our country. Our country is coming back incredibly well, setting records as it does it. We don’t need somebody to come in and say, “Let’s shut it down.”: (12:17)\\nThat’s wrong.: (12:18)\\n[crosstalk 00:12:19].: (13:56)\\nI have to respond to that.: (13:59)\\nExcuse me, he made a statement.: (14:03)\\nNo, people want their schools open. They don’t want to be shut down. They don’t want their state shut down. They want their restaurants. I look at New York. It’s so sad what’s happening in New York. It’s almost like a ghost town, and I’m not sure it can ever recover what they’ve done to New York. People want their places open. They want to get back to their lives.: (14:20)\\nThey’ll be careful, but they want their schools open.: (14:23)\\nI’m the one that brought back football. By the way, I brought back Big Ten football. It was me and I’m very happy to do it-: (14:31)\\n… and people of Ohio are very proud of me. And you know how I found out? When [crosstalk 00:14:35].: (15:08)\\nI paid millions of dollars in taxes, millions of dollars of income tax. And let me just tell you, there was a story in one of the papers that paid-: (15:17)\\nI paid $38 million one year, I paid $27 million one year.: (15:24)\\nYou’ll see it as soon as it’s finished, you’ll see it. You know, if you wanted to, go to the Board of Elections. There’s 118 page or so report that says everything I have, every bank I have, I’m totally under leveraged because the assets are extremely good, and I built a great company.: (15:43)\\nBut let me tell you-: (15:45)\\nLet me-: (15:56)\\nMillions of dollars.: (15:59)\\nMillions of dollars, yes.: (16:00)\\nMillions of dollars. And you’ll get to see it. And you’ll get to see it.: (16:04)\\nBut let me just tell you-: (16:05)\\nChris, let me just say something, that it was the tax laws. I don’t want to pay tax. Before I came here, I was a private developer, I was a private business people. Like every other private person, unless they’re stupid, they go through the laws, and that’s what it is. He passed a tax bill that gave us all these privileges for depreciation and for tax credits. We build the building and we get tax credits, like the hotel on Pennsylvania Avenue. Which by the way, was given to me by the Obama administration, if you can believe that. Now the man got fired right after that happened, but that’s-: (17:06)\\nThat’s okay.: (17:13)\\nBut why didn’t you do it over the last 25 years?: (17:18)\\nWhy didn’t you do it over the last 25 years?: (17:20)\\nYou were a Senator and [crosstalk 00:17:21]-: (17:24)\\nHey, Joe, let me just tell you, Joe. In 47 months, I’ve done more than you’ve done in 47 years, Joe. We’ve done things that you never even thought of doing.: (17:33)\\nIncluding fixing the broken military that you gave me, including taking care of your debts.: (17:46)\\nHe has none.: (19:09)\\nWhy didn’t you do it before, when you were vice president with Obama?: (19:16)\\nI got it done. And you know what happened?: (19:18)\\nOur economy boomed like it’s never boomed before.: (19:34)\\nExcuse me.: (19:47)\\nThey had the slowest economic recovery since 1929. It was the slowest recovery. Also, they took over something that was down here. All you had to do is turn on the lights and you pick up a lot. But they had the slowest economic recovery since 1929, and let me tell you about the stock market. When the stock market goes up, that means jobs. It also means 401ks. If you got in, if you ever became president with your ideas, you want to terminate my taxes. I’ll tell you what, you’ll lose. Half of the companies that have poured in here will leave. And plenty of companies that are already here, they’ll leave for other places. [crosstalk 00:20:25] They will leave and you will have a depression, the likes of which you’ve never seen.: (20:44)\\nIt wasn’t blooming.: (20:46)\\nHe was in booming. It was the weakest recovery since 1929.: (20:53)\\nWhen COVID came along.: (21:04)\\nExcuse me, Chris, wait.: (21:06)\\nChris.: (21:07)\\nThey said it would take… No, you’re on number two.: (21:10)\\nChris, Chris. They said it would take-: (21:12)\\n… a miracle to bring back manufacturing. I brought back 700,000 jobs. They brought back nothing. They gave up on manufacturing.: (21:21)\\n… standard fare.: (21:25)\\nHe totally gave up on manufacturing.: (21:34)\\nOhio had the best year it’s ever had last year. Michigan had the best year they’ve ever had.: (21:41)\\nMany car companies came in from Germany, from Japan, went to Michigan, went to Ohio and they didn’t come in with you. [crosstalk 00:21:47].: (22:06)\\nChina ate your lunch- [crosstalk 00:00:22:07].: (22:09)\\nChina ate your lunch, Joe. And no wonder your son goes in and he takes out billions of dollars. He takes out billions of dollars to manage. He makes millions of dollars. And also, while we’re at it, why is it just out of curiosity, the mayor of Moscow’s wife gave you a son three and a half million dollars?: (22:28)\\nWhat did he do to deserve it? What did he do with-: (22:31)\\n… to deserve $183,000?: (22:38)\\nOh really, he didn’t get three and a half million?: (22:45)\\nWell wait, he didn’t get three and a half million dollars, Joe?: (22:48)\\nHe got three and a half million-: (22:49)\\n… dollars.: (22:51)\\nOh, really?: (22:56)\\nIt’s a fact.: (23:01)\\nDid Burisma pay him 183,000 a month, with no experience in energy?: (23:10)\\nI think he did.: (23:20)\\nBy who?: (23:20)\\nThe media.: (23:23)\\nBy the media, because they refuse to talk about it-: (23:24)\\n… because they’re embarrassed.: (23:33)\\nSo let me ask you this, Joe- [crosstalk 00:23:35].: (23:38)\\nHe got three and a half million dollars from Moscow.: (23:47)\\nOh, really?: (23:47)\\nI’d like to know who they are.: (23:50)\\nI’ll fire them.: (23:54)\\nSome people don’t do a good job.: (24:02)\\nHey, let me just tell you, Joe-: (24:04)\\nThree and a half million, Joe.: (24:07)\\nWhy did he deserve three and a half million from Moscow?: (24:19)\\nMy family-: (24:20)\\nMy family lost a fortune by coming down and helping us with governance.: (24:26)\\nEvery single one of them lost a fortune-: (24:47)\\nChris, can I be honest? It’s a very important question-: (24:50)\\nHe stood up-: (24:53)\\n… and the threatened Ukraine-: (24:55)\\n… with a billion dollars-: (25:37)\\nWell, and him too.: (25:40)\\nWell, that’s all right, but he does plenty.: (25:43)\\nHe does plenty.: (26:05)\\nOh yeah, sure.: (26:16)\\nThat’s true.: (28:27)\\nSo-: (28:34)\\nYou did a crime bill, 1994, where you call them super predators. African-Americans are super predators and they’ve never forgotten it. They’ve never forgotten it.: (28:45)\\nSo you did that and they call you a super predator and I’m letting people out of jail now, that you have treated the African-American population community, you have treated the black community about as bad as anybody in this country. You did the 1990… And that’s why, if you look at the polls, I’m doing better than any Republican has done in a long time, because they saw what you did. You call them super predators, and you’ve called them worse than that. Because you look back at your testimony over the years, you’ve called them a lot worse than that. As far as the church is concerned and as far as the generals are concerned, we just got the support of 250 military leaders and generals, total support. Law enforcement, almost every law enforcement group in the United States. I have Florida. I have Texas. I have Ohio. I have every… Excuse me, Portland, the sheriff just came out today and he said, “I support President Trump.”: (29:39)\\nI don’t think you have any law enforcement. You can’t even say the word law enforcement. Because if you say those words, you’re going to lose all of your radical left supporters. And why aren’t you saying those words, Joe? Why don’t you say the words law enforcement? Because you know what? If called us in Portland, we would put out that fire in a half an hour. But they won’t do it, because they’re run by radical left Democrats. If you look at Chicago, if you look at any place you want to look, Seattle, they heard we were coming in the following day and they put up their hands and we got back Seattle. Minneapolis, we got it back, Joe, because we believe in law and order, but you don’t. The top 10 cities and just about the top 40 cities are run by Democrats, and in many cases radical left. And they’ve got you wrapped around their finger, Joe, to a point where you don’t want to say anything about law and order. And I’ll tell you what, the people of this country want and demand law and order and you’re afraid to even say it.: (32:05)\\nWhat is peaceful protest? When they run through the middle of the town-: (32:09)\\n… and burn down your stores and kill people all over the place- [crosstalk 00:32:14].: (32:13)\\nNo it’s not, but you say it is.: (32:21)\\nFine.: (32:42)\\nI ended it because it’s racist. I ended it because a lot of people were complaining that they were asked to do things that were absolutely insane. That it a radical revolution that was taking place in our military, in our schools, all over the place. And you know it, and so does everybody else. And he would know it- [crosstalk 00:33:02]: (33:05)\\nIf you were a certain person, you had no status in life. It was sort of a reversal. And if you look at the people, we were paying people hundreds of thousands of dollars to teach very bad ideas and frankly, very sick ideas. And really, they were teaching people to hate our country And I’m not going to do that. I’m not going to allow that to happen. We have to go back to the core values of this country. They were teaching people that our country is a horrible place. It’s a racist place. And they were teaching people to hate our country. And I’m not going to allow that to happen.: (33:42)\\nYou just don’t know.: (34:43)\\nDuring the Obama-Biden administration, there was tremendous division. There was hatred. You look at Ferguson, you look at, or you go to very… Many places, look at Oakland. Look what happened in Oakland. Look what happened in Baltimore. Look what happened… Frankly, it was more violent than what I’m even seeing now.: (35:01)\\nBut the reason-: (35:03)\\n… is that the Democrats that run these cities-: (35:06)\\n… don’t want to talk, like you, about law and order.: (35:09)\\nAnd you still haven’t mentioned. Are you in favor of law and order?: (35:14)\\nAre you in favor of law and order? [crosstalk 00:35:17]: (35:23)\\nOkay.: (35:31)\\nIt went down much more in ours.: (35:41)\\nThe places we had trouble were democratic run cities-: (36:05)\\nI think as a party issue, you can bring in a couple of examples but if you look at Chicago, what’s going on in Chicago where a 53 people were shot and eight died shot, if you look at New York where it’s going up, like nobody’s ever seen anything. The numbers are going up a 100%, 150%, 200% crime, it is crazy what’s going on and he doesn’t want to say law and order because he can’t because he’ll lose his radical left supporters and once he does that, it’s over with. But if he ever got to run this country and they ran it the way he would want to run it, we would have by the way our suburbs would be gone. And you would see problems like you’ve never seen before.: (36:47)\\nOh, I know suburbs so much that you.: (38:35)\\nThat’s not what they are talking about this. That’s not what it is about. He’s talking about defunding the police.: (38:40)\\nHe doesn’t have any law support. He has no law enforcement.: (38:45)\\nHe has almost nothing. Oh, really, who do you have name one group that supports you name one group that came out and supported you. Go ahead. Think we have time.: (38:55)\\nNo, no think right now. Name one law enforcement group that came out in support of you.: (39:03)\\nThere aren’t any.: (40:02)\\nHe’s never done that.: (40:19)\\nOh really? I sent in the US Marshalls to get the killer of a young man in the middle of the street and they shot him for three days Portland didn’t do anything. I sent in the US Marshals they took care of business.: (40:43)\\nI don’t know who said that.: (40:45)\\nWho?: (40:48)\\nI don’t think she said that.: (40:49)\\nI don’t think so.: (41:16)\\nDoes it mean I have to answer his stuff.: (41:18)\\nWait a second, you have made a statement.: (41:22)\\nI would love to end it.: (41:28)\\nI’ll send in the National Guard, it would be over. That’d be no problem. But I don’t want to accept the National Guard.: (41:57)\\nSure, I’m will to do that.: (42:00)\\nI would say almost everything I see is from the left wing not from the right wing.: (42:06)\\nI’m willing to do anything. I want to see peace.: (42:10)\\nWhat do you want to call them? Give me a name, give me a name, go ahead who do you want me to condemn.: (42:18)\\nProud Boys, stand back and stand by. But I’ll tell you what somebody’s got to do something about Antifa and the left because this is not a right wing problem this is a left wing…: (42:35)\\nOh you got to be kidding me.: (42:41)\\nWell, then you know what, he’s wrong.: (42:46)\\nAntifa is bad.: (42:53)\\nYou know what, Antifa is a dangerous radical group.: (42:58)\\nAnd you ought to be careful of them, they’ll over throw you.: (43:30)\\nBecause there is never been an administration or president who has done more than I’ve done in a period of three and a half years. And that’s despite the impeachment hoax and you so what happened today with Hillary Clinton, where it was a whole big con job. But despite going through all of these things where I had a fight, both flanks and behind me and above there has never been an administration that’s done what I’ve done. The greatest, before COVID came in the greatest economy in history, lowest unemployment numbers, everything was good. Everything was going.: (44:03)\\nAnd by the way, there was unity going to happen. People were calling me for the first time in years, they were calling and they were saying it’s time maybe and then what happened? We got hit. But now we’re building it back up again. A rebuilding of the military, including Space Force and all of the other things. A fixing of the VA which was a mess under him, 308,000 people died because they didn’t have proper health care. It was a mess. And we now got a 91% approval rating at the VA, our vets. We take care of our vets. But we’ve rebuilt our military. And I’ll tell you something, some people say maybe the most important by the end of the first term I’ll have approximately 300 Federal judges and Court of Appeals judges, 300 and hopefully three great Supreme Court judges, justices that is a record the likes of which very few people and one of the reasons I’ll have so many judges because President Obama and him left me 128 judges to fill.: (45:05)\\nWhen you leave office, you don’t leave any judges. That’s like, you just don’t do that. They left 128 openings and if I were a member of his party, because they have a little different philosophy, I’d say, if you left us 128 openings you can’t be a good president. You can’t be a good vice president but I want to thank you because it gives us almost, it’ll probably be above that number. By the end of this term, 300 judges. It’s a record.: (46:14)\\nYou son got three and a half million dollars.: (47:39)\\nReally?: (47:40)\\nAre you talking Hunter, are you talking about Hunter.: (47:44)\\nI don’t know Beau. I know Hunter. Hunter got thrown out of the military. He was thrown out dishonorably discharged.: (47:53)\\nFor cocaine use. And he didn’t have a job until you became vice president.: (47:56)\\nOnce you became vice president he made a fortune in Ukraine, in China, in Moscow and various other places.: (48:04)\\nHe made a fortune and he didn’t have a job.: (48:17)\\nBut why was he given tens of millions of dollars?: (48:35)\\nI know but when somebody gets three and a half million dollars from the Mayor of Moscow.: (48:43)\\nWhy did he get it?: (49:27)\\nI want crystal clean water and air. I want beautiful clean air. We have now the lowest carbon… If you look at our numbers right now, we are doing phenomenally. But I haven’t destroyed our businesses. Our businesses aren’t put out of commission. If you look at the Paris Accord, it was a disaster from our standpoint. And people are actually very happy about what’s going on because our businesses are doing well. As far as the fires are concerned, you need forest management. In addition to everything else, the forest floors are loaded up with trees, dead trees that are years old and they’re like tinder and leaves and everything else. You drop a cigarette in there the whole forest burns down. You’ve got to have forest management.: (50:13)\\nI believe that we have to do everything we can to have immaculate air immaculate water and do whatever else we can that’s good. We’re planting a billion trees, the Billion Tree Project and it’s very exciting for a lot of people.: (50:32)\\nI think a lot of things do, but I think to an extent, yes. I think to an extent, yes, but I also think we have to do better management of our forest. Every year I get the call. California’s burning, California’s burning. If that was cleaned, if that were, if you had forest management, good forest management, you wouldn’t be getting those calls. In Europe, they live they’re forest cities. They call forest cities. They maintain their forest. They manage their forest. I was with the head of a major country, it’s a forest city. He said, “Sir, we have trees that are far more, they ignite much easier than California. There shouldn’t be that problem.” I spoke with the Governor about it. I’m getting along very well with the governor. But I said, “At some point you can’t every year have hundreds of thousands of acres of land just burned to the ground.” That’s burning down because of a lack of management.: (51:35)\\nBecause it was driving energy prices through the sky.: (51:44)\\nWell, not really because what’s happening is the car is much less expensive and it’s a much safer car and you talk it about a tiny difference. And then what would happen because of the cost of the car you would have at least double and triple the number of cars purchased. We have the old slugs out there that are 10, 12 years old. If you did that, the car would be safer. It would be much cheaper by $3,500.: (52:08)\\nNo, but you would take a lot of cars off the market because people would be able to afford a car. Now, by the way, we’re going to see how that turns out. But a lot of people agree with me, many people. The car has gotten so expensive because they have computers all over the place for an extra little bit of gasoline. And I’m okay with electric cars too. I think I’m all for electric cars. I’ve given big incentives for electric cars but what they’ve done in California is just crazy.: (55:39)\\nNot true. Not true-: (55:42)\\nHe’s talking about the Green New Deal. And it’s not 2 billion [crosstalk 00:55:45] or 20 billion, as you said [crosstalk 00:55:46]. It’s $100 trillion.: (55:52)\\nAnd rebuild the building.: (55:53)\\nIt’s the dumbest-: (55:54)\\n… most ridiculous [crosstalk 00:55:56] where two car systems are out-: (56:00)\\n… where they want to take out the cows too.: (56:01)\\nThat’s not true either, right?: (56:04)\\nThis is a 100 trillion-: (56:06)\\nThat’s more money than our country could make in 100 years [crosstalk 00:02:10]-: (56:45)\\n100 million dollars.: (57:05)\\nI never said that at all-: (57:06)\\nThey made it up.: (57:09)\\nYou make up a lot-: (57:52)\\nWait a minute, Chris. So why didn’t he do it for 47 years? You were vice president-: (57:56)\\nSo why didn’t you get the world… China sends up real dirt into the air. Russia does. India does. They all do. We’re supposed to be good. And by the way, he made a couple of statements. The Green New Deal is a hundred trillion dollars.: (58:16)\\nHe made a statement about the military. He said I said something about the military. He and his friends made it up, and then they went with it. I never said it.: (58:28)\\nHe called the military stupid bastards.: (58:31)\\nHe said it on tape. [crosstalk 00:58:32]-: (58:34)\\nI would never say that [crosstalk 00:58:35]-: (58:37)\\nYou’re on tape-: (59:10)\\nOh, you don’t? Oh, well, that’s a big statement.: (59:13)\\nYou just lost the radical left.: (01:01:53)\\nSo when I listen to Joe talking about a transition, there has been no transition from when I won. I won that election. And if you look at crooked Hillary Clinton, if you look at all of the different people, there was no transition, because they came after me trying to do a coup. They came after me spying on my campaign. They started from the day I won, and even before I won. From the day I came down the escalator with our first lady, they were a disaster. They were a disgrace to our country, and we’ve caught them. We’ve caught them all. We’ve got it all on tape. We’ve caught them all. And by the way, you gave the idea for the Logan Act against General Flynn. You better take a look at that, because we caught you in a sense, and President Obama was sitting in the office.: (01:02:35)\\nHe knew about it too. So don’t tell me about a free transition. As far as the ballots are concerned, it’s a disaster. A solicited ballot, okay, solicited, is okay. You’re soliciting. You’re asking. They send it back. You send it back. I did that. If you have an unsolicited… They’re sending millions of ballots all over the country. There’s fraud. They found them in creeks. They found some, just happened to have the name Trump just the other day in a wastepaper basket. They’re being sent all over the place. They sent two in a Democrat area. They sent out a thousand ballots. Everybody got two ballots. This is going to be a fraud like you’ve never seen. The other thing, it’s nice. On November 3rd, you’re watching, and you see who won the election. And I think we’re going to do well because people are really happy with the job we’ve done.: (01:03:22)\\nBut you know what? We won’t know. We might not know for months because these ballots are going to be all over. Take a look at what happened in Manhattan. Take a look at what happened in New Jersey. Take a look at what happened in Virginia and other places. They’re not losing 2%, 1%, which by the way is too much. An election could be won or lost with that. They’re losing 30 and 40%. It’s a fraud, and it’s a shame. And can you imagine where they say, “You have to have your ballot in by November 10th.” November 10th. That’s seven days after the election, in theory, should have been announced. We have major states [crosstalk 01:03:58] with that-: (01:03:58)\\n… all run by Democrats-: (01:04:00)\\nAll run by Democrats.: (01:04:02)\\nIt’s a rigged election.: (01:04:38)\\nYeah. I think I’m counting on them to look at the ballots, definitely. I hope we don’t need them, in terms of the election itself. But for the ballots, I think so, because what’s happening is incredible. I read today where at least 1% of the ballots for 2016 were invalidated. They take them. We don’t like them. We don’t like them. They throw them out-: (01:04:59)\\n… left and right.: (01:05:02)\\nWhat you do is you go and vote. You do a solicited ballot, and that’s okay-: (01:05:08)\\nYou go and vote. You go and vote-: (01:05:14)\\nYou either do, Chris, a solicited ballot, where you’re sending it in, they’re sending it back and you’re sending. They have mailmen with lots of it. Did you see what’s going on? Take a look at West Virginia, mailman selling the ballots. They’re being sold. They’re being dumped in rivers. This is a horrible thing for our country.: (01:05:33)\\nThis is not going to end well.: (01:05:34)\\nThis is not going to end well-: (01:06:03)\\nYou’re wrong. You’re wrong [crosstalk 01:06:04]. I love counting the votes [crosstalk 01:06:05]-: (01:06:07)\\nChris, he’s so wrong when he makes a statement like that-: (01:07:10)\\nExcuse me [crosstalk 01:07:11]-: (01:07:15)\\nYou know it can’t be done. You know it can’t, and already, there’s been fraud [crosstalk 01:07:19]-: (01:07:50)\\nCould be months-: (01:08:16)\\nI’m urging my supporters to go in to the polls and watch very carefully, because that’s what has to happen. I am urging them to do it. As you know, today there was a big problem. In Philadelphia, they went in to watch. They’re called poll watchers, a very safe, very nice thing. They were thrown out. They weren’t allowed to watch. You know why? Because bad things happen in Philadelphia. Bad things. And I am urging my people. I hope it’s going to be a fair election. If it’s a fair election-: (01:08:45)\\n… I am 100% on board. But if I see tens of thousands of ballots being manipulated, I can’t go along with that. And I’ll tell you why-: (01:08:53)\\n… from a common sense-: (01:08:55)\\nI’ll tell you what it means-: (01:08:56)\\nIt means you have a fraudulent election. You’re sending out 80 million ballots-: (01:09:01)\\nThey’re not equipped… These people aren’t equipped to handle it, number one. Number two, they cheat. They cheat. Hey, they found ballots in a wastepaper basket three days ago, and they all had the name military ballots. There were military. They all had the name Trump on them.: (01:09:17)\\nYou think that’s good?: (01:10:07)\\nIt’s already been established. Take a look at Carolyn Maloney’s race-: (01:10:41)\\nI want to see an honest ballot cut-: (01:10:47)\\nI want to see an honest ballot count.: (01:10:49)\\nAnd I think he does too-'"
      ]
     },
     "execution_count": 40,
     "metadata": {},
     "output_type": "execute_result"
    }
   ],
   "source": [
    "# Let's take a look at the transcript for Ali Wong\n",
    "data_df.transcript.loc['Trump']"
   ]
  },
  {
   "cell_type": "code",
   "execution_count": 41,
   "metadata": {},
   "outputs": [],
   "source": [
    "# Apply a first round of text cleaning techniques\n",
    "import re\n",
    "import string\n",
    "\n",
    "def clean_text_round1(text):\n",
    "    '''Make text lowercase, remove text in square brackets, remove punctuation and remove words containing numbers.'''\n",
    "    text = text.lower()\n",
    "    text = re.sub('\\[.*?\\]', '', text)\n",
    "    text = re.sub('[%s]' % re.escape(string.punctuation), '', text)\n",
    "    text = re.sub('\\w*\\d\\w*', '', text)\n",
    "    return text\n",
    "\n",
    "round1 = lambda x: clean_text_round1(x)\n"
   ]
  },
  {
   "cell_type": "code",
   "execution_count": 42,
   "metadata": {},
   "outputs": [
    {
     "data": {
      "text/html": [
       "<div>\n",
       "<style scoped>\n",
       "    .dataframe tbody tr th:only-of-type {\n",
       "        vertical-align: middle;\n",
       "    }\n",
       "\n",
       "    .dataframe tbody tr th {\n",
       "        vertical-align: top;\n",
       "    }\n",
       "\n",
       "    .dataframe thead th {\n",
       "        text-align: right;\n",
       "    }\n",
       "</style>\n",
       "<table border=\"1\" class=\"dataframe\">\n",
       "  <thead>\n",
       "    <tr style=\"text-align: right;\">\n",
       "      <th></th>\n",
       "      <th>transcript</th>\n",
       "    </tr>\n",
       "  </thead>\n",
       "  <tbody>\n",
       "    <tr>\n",
       "      <th>Biden</th>\n",
       "      <td>\\nhow you doing man \\ni’m well \\nwell first of all thank you for doing this and looking forward to this mr president \\nthe american people have a...</td>\n",
       "    </tr>\n",
       "    <tr>\n",
       "      <th>Trump</th>\n",
       "      <td>\\nhow are you doing \\nthank you very much chris i will tell you very simply we won the election elections have consequences we have the senate we...</td>\n",
       "    </tr>\n",
       "    <tr>\n",
       "      <th>Wallace</th>\n",
       "      <td>\\ngood evening from the health education campus of case western reserve university and the cleveland clinic i’m  of fox news and i welcome you to...</td>\n",
       "    </tr>\n",
       "  </tbody>\n",
       "</table>\n",
       "</div>"
      ],
      "text/plain": [
       "                                                                                                                                                    transcript\n",
       "Biden     \\nhow you doing man \\ni’m well \\nwell first of all thank you for doing this and looking forward to this mr president \\nthe american people have a...\n",
       "Trump     \\nhow are you doing \\nthank you very much chris i will tell you very simply we won the election elections have consequences we have the senate we...\n",
       "Wallace   \\ngood evening from the health education campus of case western reserve university and the cleveland clinic i’m  of fox news and i welcome you to..."
      ]
     },
     "execution_count": 42,
     "metadata": {},
     "output_type": "execute_result"
    }
   ],
   "source": [
    "# Let's take a look at the updated text\n",
    "data_clean = pd.DataFrame(data_df.transcript.apply(round1))\n",
    "data_clean"
   ]
  },
  {
   "cell_type": "code",
   "execution_count": 43,
   "metadata": {},
   "outputs": [],
   "source": [
    "# Apply a second round of cleaning\n",
    "def clean_text_round2(text):\n",
    "    '''Get rid of some additional punctuation and non-sensical text that was missed the first time around.'''\n",
    "    text = re.sub('[‘’“”…]', '', text)\n",
    "    text = re.sub('\\n', '', text)\n",
    "    return text\n",
    "\n",
    "round2 = lambda x: clean_text_round2(x)"
   ]
  },
  {
   "cell_type": "code",
   "execution_count": 44,
   "metadata": {},
   "outputs": [
    {
     "data": {
      "text/html": [
       "<div>\n",
       "<style scoped>\n",
       "    .dataframe tbody tr th:only-of-type {\n",
       "        vertical-align: middle;\n",
       "    }\n",
       "\n",
       "    .dataframe tbody tr th {\n",
       "        vertical-align: top;\n",
       "    }\n",
       "\n",
       "    .dataframe thead th {\n",
       "        text-align: right;\n",
       "    }\n",
       "</style>\n",
       "<table border=\"1\" class=\"dataframe\">\n",
       "  <thead>\n",
       "    <tr style=\"text-align: right;\">\n",
       "      <th></th>\n",
       "      <th>transcript</th>\n",
       "    </tr>\n",
       "  </thead>\n",
       "  <tbody>\n",
       "    <tr>\n",
       "      <th>Biden</th>\n",
       "      <td>how you doing man im well well first of all thank you for doing this and looking forward to this mr president the american people have a right to...</td>\n",
       "    </tr>\n",
       "    <tr>\n",
       "      <th>Trump</th>\n",
       "      <td>how are you doing thank you very much chris i will tell you very simply we won the election elections have consequences we have the senate we hav...</td>\n",
       "    </tr>\n",
       "    <tr>\n",
       "      <th>Wallace</th>\n",
       "      <td>good evening from the health education campus of case western reserve university and the cleveland clinic im  of fox news and i welcome you to th...</td>\n",
       "    </tr>\n",
       "  </tbody>\n",
       "</table>\n",
       "</div>"
      ],
      "text/plain": [
       "                                                                                                                                                    transcript\n",
       "Biden     how you doing man im well well first of all thank you for doing this and looking forward to this mr president the american people have a right to...\n",
       "Trump     how are you doing thank you very much chris i will tell you very simply we won the election elections have consequences we have the senate we hav...\n",
       "Wallace   good evening from the health education campus of case western reserve university and the cleveland clinic im  of fox news and i welcome you to th..."
      ]
     },
     "execution_count": 44,
     "metadata": {},
     "output_type": "execute_result"
    }
   ],
   "source": [
    "# Let's take a look at the updated text\n",
    "data_clean = pd.DataFrame(data_clean.transcript.apply(round2))\n",
    "data_clean"
   ]
  },
  {
   "cell_type": "markdown",
   "metadata": {},
   "source": [
    "**NOTE:** This data cleaning aka text pre-processing step could go on for a while, but we are going to stop for now. After going through some analysis techniques, if you see that the results don't make sense or could be improved, you can come back and make more edits such as:\n",
    "* Mark 'cheering' and 'cheer' as the same word (stemming / lemmatization)\n",
    "* Combine 'thank you' into one term (bi-grams)\n",
    "* And a lot more..."
   ]
  },
  {
   "cell_type": "markdown",
   "metadata": {},
   "source": [
    "## Organizing The Data"
   ]
  },
  {
   "cell_type": "markdown",
   "metadata": {},
   "source": [
    "I mentioned earlier that the output of this notebook will be clean, organized data in two standard text formats:\n",
    "1. **Corpus - **a collection of text\n",
    "2. **Document-Term Matrix - **word counts in matrix format"
   ]
  },
  {
   "cell_type": "markdown",
   "metadata": {},
   "source": [
    "### Corpus"
   ]
  },
  {
   "cell_type": "markdown",
   "metadata": {},
   "source": [
    "We already created a corpus in an earlier step. The definition of a corpus is a collection of texts, and they are all put together neatly in a pandas dataframe here."
   ]
  },
  {
   "cell_type": "code",
   "execution_count": 45,
   "metadata": {},
   "outputs": [
    {
     "data": {
      "text/html": [
       "<div>\n",
       "<style scoped>\n",
       "    .dataframe tbody tr th:only-of-type {\n",
       "        vertical-align: middle;\n",
       "    }\n",
       "\n",
       "    .dataframe tbody tr th {\n",
       "        vertical-align: top;\n",
       "    }\n",
       "\n",
       "    .dataframe thead th {\n",
       "        text-align: right;\n",
       "    }\n",
       "</style>\n",
       "<table border=\"1\" class=\"dataframe\">\n",
       "  <thead>\n",
       "    <tr style=\"text-align: right;\">\n",
       "      <th></th>\n",
       "      <th>transcript</th>\n",
       "    </tr>\n",
       "  </thead>\n",
       "  <tbody>\n",
       "    <tr>\n",
       "      <th>Biden</th>\n",
       "      <td>: (02:49)\\nHow you doing, man?: (02:51)\\nI’m well.: (05:29)\\nWell, first of all, thank you for doing this and looking forward to this, Mr. Preside...</td>\n",
       "    </tr>\n",
       "    <tr>\n",
       "      <th>Trump</th>\n",
       "      <td>: (02:51)\\nHow are you doing?: (04:01)\\nThank you very much, Chris. I will tell you very simply. We won the election. Elections have consequences....</td>\n",
       "    </tr>\n",
       "    <tr>\n",
       "      <th>Wallace</th>\n",
       "      <td>: (01:20)\\nGood evening from the Health Education Campus of Case Western Reserve University and the Cleveland Clinic. I’m  of Fox News and I welco...</td>\n",
       "    </tr>\n",
       "  </tbody>\n",
       "</table>\n",
       "</div>"
      ],
      "text/plain": [
       "                                                                                                                                                    transcript\n",
       "Biden    : (02:49)\\nHow you doing, man?: (02:51)\\nI’m well.: (05:29)\\nWell, first of all, thank you for doing this and looking forward to this, Mr. Preside...\n",
       "Trump    : (02:51)\\nHow are you doing?: (04:01)\\nThank you very much, Chris. I will tell you very simply. We won the election. Elections have consequences....\n",
       "Wallace  : (01:20)\\nGood evening from the Health Education Campus of Case Western Reserve University and the Cleveland Clinic. I’m  of Fox News and I welco..."
      ]
     },
     "execution_count": 45,
     "metadata": {},
     "output_type": "execute_result"
    }
   ],
   "source": [
    "# Let's take a look at our dataframe\n",
    "data_df"
   ]
  },
  {
   "cell_type": "code",
   "execution_count": 49,
   "metadata": {},
   "outputs": [
    {
     "data": {
      "text/html": [
       "<div>\n",
       "<style scoped>\n",
       "    .dataframe tbody tr th:only-of-type {\n",
       "        vertical-align: middle;\n",
       "    }\n",
       "\n",
       "    .dataframe tbody tr th {\n",
       "        vertical-align: top;\n",
       "    }\n",
       "\n",
       "    .dataframe thead th {\n",
       "        text-align: right;\n",
       "    }\n",
       "</style>\n",
       "<table border=\"1\" class=\"dataframe\">\n",
       "  <thead>\n",
       "    <tr style=\"text-align: right;\">\n",
       "      <th></th>\n",
       "      <th>transcript</th>\n",
       "      <th>full_name</th>\n",
       "    </tr>\n",
       "  </thead>\n",
       "  <tbody>\n",
       "    <tr>\n",
       "      <th>Biden</th>\n",
       "      <td>how you doing man im well well first of all thank you for doing this and looking forward to this mr president the american people have a right to...</td>\n",
       "      <td>President Donald J. Trump</td>\n",
       "    </tr>\n",
       "    <tr>\n",
       "      <th>Trump</th>\n",
       "      <td>how are you doing thank you very much chris i will tell you very simply we won the election elections have consequences we have the senate we hav...</td>\n",
       "      <td>Vice President Joe Biden</td>\n",
       "    </tr>\n",
       "    <tr>\n",
       "      <th>Wallace</th>\n",
       "      <td>good evening from the health education campus of case western reserve university and the cleveland clinic im  of fox news and i welcome you to th...</td>\n",
       "      <td>Chris Wallace</td>\n",
       "    </tr>\n",
       "  </tbody>\n",
       "</table>\n",
       "</div>"
      ],
      "text/plain": [
       "                                                                                                                                                    transcript  \\\n",
       "Biden     how you doing man im well well first of all thank you for doing this and looking forward to this mr president the american people have a right to...   \n",
       "Trump     how are you doing thank you very much chris i will tell you very simply we won the election elections have consequences we have the senate we hav...   \n",
       "Wallace   good evening from the health education campus of case western reserve university and the cleveland clinic im  of fox news and i welcome you to th...   \n",
       "\n",
       "                         full_name  \n",
       "Biden    President Donald J. Trump  \n",
       "Trump     Vice President Joe Biden  \n",
       "Wallace              Chris Wallace  "
      ]
     },
     "execution_count": 49,
     "metadata": {},
     "output_type": "execute_result"
    }
   ],
   "source": [
    "# Let's add the comedians' full names as well\n",
    "full_names = ['President Donald J. Trump','Vice President Joe Biden','Chris Wallace']\n",
    "\n",
    "data_clean['full_name'] = full_names\n",
    "data_clean"
   ]
  },
  {
   "cell_type": "code",
   "execution_count": 50,
   "metadata": {},
   "outputs": [],
   "source": [
    "# Let's pickle it for later use\n",
    "data_clean.to_pickle(\"corpus.pkl\")"
   ]
  },
  {
   "cell_type": "markdown",
   "metadata": {},
   "source": [
    "### Document-Term Matrix"
   ]
  },
  {
   "cell_type": "markdown",
   "metadata": {},
   "source": [
    "For many of the techniques we'll be using in future notebooks, the text must be tokenized, meaning broken down into smaller pieces. The most common tokenization technique is to break down text into words. We can do this using scikit-learn's CountVectorizer, where every row will represent a different document and every column will represent a different word.\n",
    "\n",
    "In addition, with CountVectorizer, we can remove stop words. Stop words are common words that add no additional meaning to text such as 'a', 'the', etc."
   ]
  },
  {
   "cell_type": "code",
   "execution_count": 51,
   "metadata": {},
   "outputs": [
    {
     "data": {
      "text/html": [
       "<div>\n",
       "<style scoped>\n",
       "    .dataframe tbody tr th:only-of-type {\n",
       "        vertical-align: middle;\n",
       "    }\n",
       "\n",
       "    .dataframe tbody tr th {\n",
       "        vertical-align: top;\n",
       "    }\n",
       "\n",
       "    .dataframe thead th {\n",
       "        text-align: right;\n",
       "    }\n",
       "</style>\n",
       "<table border=\"1\" class=\"dataframe\">\n",
       "  <thead>\n",
       "    <tr style=\"text-align: right;\">\n",
       "      <th></th>\n",
       "      <th>ability</th>\n",
       "      <th>able</th>\n",
       "      <th>abolishing</th>\n",
       "      <th>abraham</th>\n",
       "      <th>absolutely</th>\n",
       "      <th>absorbed</th>\n",
       "      <th>abuse</th>\n",
       "      <th>academic</th>\n",
       "      <th>accept</th>\n",
       "      <th>accepted</th>\n",
       "      <th>...</th>\n",
       "      <th>years</th>\n",
       "      <th>yes</th>\n",
       "      <th>york</th>\n",
       "      <th>youd</th>\n",
       "      <th>youll</th>\n",
       "      <th>young</th>\n",
       "      <th>younger</th>\n",
       "      <th>youre</th>\n",
       "      <th>youve</th>\n",
       "      <th>zero</th>\n",
       "    </tr>\n",
       "  </thead>\n",
       "  <tbody>\n",
       "    <tr>\n",
       "      <th>Biden</th>\n",
       "      <td>2</td>\n",
       "      <td>17</td>\n",
       "      <td>0</td>\n",
       "      <td>0</td>\n",
       "      <td>3</td>\n",
       "      <td>1</td>\n",
       "      <td>0</td>\n",
       "      <td>0</td>\n",
       "      <td>2</td>\n",
       "      <td>3</td>\n",
       "      <td>...</td>\n",
       "      <td>3</td>\n",
       "      <td>5</td>\n",
       "      <td>0</td>\n",
       "      <td>1</td>\n",
       "      <td>0</td>\n",
       "      <td>1</td>\n",
       "      <td>0</td>\n",
       "      <td>10</td>\n",
       "      <td>2</td>\n",
       "      <td>1</td>\n",
       "    </tr>\n",
       "    <tr>\n",
       "      <th>Trump</th>\n",
       "      <td>0</td>\n",
       "      <td>1</td>\n",
       "      <td>0</td>\n",
       "      <td>0</td>\n",
       "      <td>3</td>\n",
       "      <td>0</td>\n",
       "      <td>0</td>\n",
       "      <td>1</td>\n",
       "      <td>1</td>\n",
       "      <td>0</td>\n",
       "      <td>...</td>\n",
       "      <td>18</td>\n",
       "      <td>5</td>\n",
       "      <td>4</td>\n",
       "      <td>2</td>\n",
       "      <td>6</td>\n",
       "      <td>2</td>\n",
       "      <td>1</td>\n",
       "      <td>19</td>\n",
       "      <td>13</td>\n",
       "      <td>0</td>\n",
       "    </tr>\n",
       "    <tr>\n",
       "      <th>Wallace</th>\n",
       "      <td>0</td>\n",
       "      <td>1</td>\n",
       "      <td>1</td>\n",
       "      <td>1</td>\n",
       "      <td>0</td>\n",
       "      <td>0</td>\n",
       "      <td>1</td>\n",
       "      <td>0</td>\n",
       "      <td>0</td>\n",
       "      <td>0</td>\n",
       "      <td>...</td>\n",
       "      <td>14</td>\n",
       "      <td>3</td>\n",
       "      <td>0</td>\n",
       "      <td>2</td>\n",
       "      <td>2</td>\n",
       "      <td>0</td>\n",
       "      <td>0</td>\n",
       "      <td>10</td>\n",
       "      <td>6</td>\n",
       "      <td>1</td>\n",
       "    </tr>\n",
       "  </tbody>\n",
       "</table>\n",
       "<p>3 rows × 1844 columns</p>\n",
       "</div>"
      ],
      "text/plain": [
       "         ability  able  abolishing  abraham  absolutely  absorbed  abuse  \\\n",
       "Biden          2    17           0        0           3         1      0   \n",
       "Trump          0     1           0        0           3         0      0   \n",
       "Wallace        0     1           1        1           0         0      1   \n",
       "\n",
       "         academic  accept  accepted  ...  years  yes  york  youd  youll  \\\n",
       "Biden           0       2         3  ...      3    5     0     1      0   \n",
       "Trump           1       1         0  ...     18    5     4     2      6   \n",
       "Wallace         0       0         0  ...     14    3     0     2      2   \n",
       "\n",
       "         young  younger  youre  youve  zero  \n",
       "Biden        1        0     10      2     1  \n",
       "Trump        2        1     19     13     0  \n",
       "Wallace      0        0     10      6     1  \n",
       "\n",
       "[3 rows x 1844 columns]"
      ]
     },
     "execution_count": 51,
     "metadata": {},
     "output_type": "execute_result"
    }
   ],
   "source": [
    "# We are going to create a document-term matrix using CountVectorizer, and exclude common English stop words\n",
    "from sklearn.feature_extraction.text import CountVectorizer\n",
    "\n",
    "cv = CountVectorizer(stop_words='english')\n",
    "data_cv = cv.fit_transform(data_clean.transcript)\n",
    "data_dtm = pd.DataFrame(data_cv.toarray(), columns=cv.get_feature_names())\n",
    "data_dtm.index = data_clean.index\n",
    "data_dtm"
   ]
  },
  {
   "cell_type": "code",
   "execution_count": 52,
   "metadata": {},
   "outputs": [],
   "source": [
    "# Let's pickle it for later use\n",
    "data_dtm.to_pickle(\"dtm.pkl\")"
   ]
  },
  {
   "cell_type": "code",
   "execution_count": 54,
   "metadata": {},
   "outputs": [],
   "source": [
    "# Let's also pickle the cleaned data (before we put it in document-term matrix format) and the CountVectorizer object\n",
    "data_clean.to_pickle('data_clean.pkl')\n",
    "pickle.dump(cv, open(\"cv.pkl\", \"wb\"))"
   ]
  },
  {
   "cell_type": "markdown",
   "metadata": {
    "collapsed": true
   },
   "source": [
    "## Additional Exercises"
   ]
  },
  {
   "cell_type": "markdown",
   "metadata": {},
   "source": [
    "1. Can you add an additional regular expression to the clean_text_round2 function to further clean the text?\n",
    "2. Play around with CountVectorizer's parameters. What is ngram_range? What is min_df and max_df?"
   ]
  },
  {
   "cell_type": "code",
   "execution_count": null,
   "metadata": {
    "collapsed": true
   },
   "outputs": [],
   "source": []
  }
 ],
 "metadata": {
  "kernelspec": {
   "display_name": "Python 3",
   "language": "python",
   "name": "python3"
  },
  "language_info": {
   "codemirror_mode": {
    "name": "ipython",
    "version": 3
   },
   "file_extension": ".py",
   "mimetype": "text/x-python",
   "name": "python",
   "nbconvert_exporter": "python",
   "pygments_lexer": "ipython3",
   "version": "3.8.3"
  },
  "toc": {
   "nav_menu": {},
   "number_sections": true,
   "sideBar": true,
   "skip_h1_title": false,
   "toc_cell": false,
   "toc_position": {},
   "toc_section_display": "block",
   "toc_window_display": false
  },
  "varInspector": {
   "cols": {
    "lenName": 16,
    "lenType": 16,
    "lenVar": 40
   },
   "kernels_config": {
    "python": {
     "delete_cmd_postfix": "",
     "delete_cmd_prefix": "del ",
     "library": "var_list.py",
     "varRefreshCmd": "print(var_dic_list())"
    },
    "r": {
     "delete_cmd_postfix": ") ",
     "delete_cmd_prefix": "rm(",
     "library": "var_list.r",
     "varRefreshCmd": "cat(var_dic_list()) "
    }
   },
   "types_to_exclude": [
    "module",
    "function",
    "builtin_function_or_method",
    "instance",
    "_Feature"
   ],
   "window_display": false
  }
 },
 "nbformat": 4,
 "nbformat_minor": 2
}
