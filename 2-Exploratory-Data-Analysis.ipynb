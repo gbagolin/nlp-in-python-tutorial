{
 "cells": [
  {
   "cell_type": "markdown",
   "metadata": {
    "collapsed": true
   },
   "source": [
    "# Exploratory Data Analysis"
   ]
  },
  {
   "cell_type": "markdown",
   "metadata": {},
   "source": [
    "## Introduction"
   ]
  },
  {
   "cell_type": "markdown",
   "metadata": {},
   "source": [
    "After the data cleaning step where we put our data into a few standard formats, the next step is to take a look at the data and see if what we're looking at makes sense. Before applying any fancy algorithms, it's always important to explore the data first.\n",
    "\n",
    "When working with numerical data, some of the exploratory data analysis (EDA) techniques we can use include finding the average of the data set, the distribution of the data, the most common values, etc. The idea is the same when working with text data. We are going to find some more obvious patterns with EDA before identifying the hidden patterns with machines learning (ML) techniques. We are going to look at the following for each comedian:\n",
    "\n",
    "1. **Most common words** - find these and create word clouds\n",
    "2. **Size of vocabulary** - look number of unique words and also how quickly someone speaks\n",
    "3. **Amount of profanity** - most common terms"
   ]
  },
  {
   "cell_type": "markdown",
   "metadata": {},
   "source": [
    "## Most Common Words"
   ]
  },
  {
   "cell_type": "markdown",
   "metadata": {},
   "source": [
    "### Analysis"
   ]
  },
  {
   "cell_type": "code",
   "execution_count": 1,
   "metadata": {},
   "outputs": [
    {
     "data": {
      "text/html": [
       "<div>\n",
       "<style scoped>\n",
       "    .dataframe tbody tr th:only-of-type {\n",
       "        vertical-align: middle;\n",
       "    }\n",
       "\n",
       "    .dataframe tbody tr th {\n",
       "        vertical-align: top;\n",
       "    }\n",
       "\n",
       "    .dataframe thead th {\n",
       "        text-align: right;\n",
       "    }\n",
       "</style>\n",
       "<table border=\"1\" class=\"dataframe\">\n",
       "  <thead>\n",
       "    <tr style=\"text-align: right;\">\n",
       "      <th></th>\n",
       "      <th>Biden</th>\n",
       "      <th>Trump</th>\n",
       "      <th>Wallace</th>\n",
       "    </tr>\n",
       "  </thead>\n",
       "  <tbody>\n",
       "    <tr>\n",
       "      <th>ability</th>\n",
       "      <td>2</td>\n",
       "      <td>0</td>\n",
       "      <td>0</td>\n",
       "    </tr>\n",
       "    <tr>\n",
       "      <th>able</th>\n",
       "      <td>17</td>\n",
       "      <td>1</td>\n",
       "      <td>1</td>\n",
       "    </tr>\n",
       "    <tr>\n",
       "      <th>abolishing</th>\n",
       "      <td>0</td>\n",
       "      <td>0</td>\n",
       "      <td>1</td>\n",
       "    </tr>\n",
       "    <tr>\n",
       "      <th>abraham</th>\n",
       "      <td>0</td>\n",
       "      <td>0</td>\n",
       "      <td>1</td>\n",
       "    </tr>\n",
       "    <tr>\n",
       "      <th>absolutely</th>\n",
       "      <td>3</td>\n",
       "      <td>3</td>\n",
       "      <td>0</td>\n",
       "    </tr>\n",
       "  </tbody>\n",
       "</table>\n",
       "</div>"
      ],
      "text/plain": [
       "            Biden  Trump  Wallace\n",
       "ability         2      0        0\n",
       "able           17      1        1\n",
       "abolishing      0      0        1\n",
       "abraham         0      0        1\n",
       "absolutely      3      3        0"
      ]
     },
     "execution_count": 1,
     "metadata": {},
     "output_type": "execute_result"
    }
   ],
   "source": [
    "# Read in the document-term matrix\n",
    "import pandas as pd\n",
    "\n",
    "data = pd.read_pickle('dtm.pkl')\n",
    "data = data.transpose()\n",
    "data.head()"
   ]
  },
  {
   "cell_type": "code",
   "execution_count": 3,
   "metadata": {},
   "outputs": [
    {
     "data": {
      "text/plain": [
       "{'Biden': [('people', 75),\n",
       "  ('going', 60),\n",
       "  ('fact', 38),\n",
       "  ('hes', 35),\n",
       "  ('way', 34),\n",
       "  ('thats', 27),\n",
       "  ('look', 25),\n",
       "  ('deal', 24),\n",
       "  ('im', 24),\n",
       "  ('president', 22),\n",
       "  ('said', 22),\n",
       "  ('number', 21),\n",
       "  ('vote', 21),\n",
       "  ('did', 21),\n",
       "  ('true', 20),\n",
       "  ('just', 20),\n",
       "  ('like', 19),\n",
       "  ('sure', 19),\n",
       "  ('make', 18),\n",
       "  ('know', 17),\n",
       "  ('able', 17),\n",
       "  ('theyre', 16),\n",
       "  ('dont', 16),\n",
       "  ('plan', 16),\n",
       "  ('say', 15),\n",
       "  ('tax', 15),\n",
       "  ('doesnt', 15),\n",
       "  ('heres', 14),\n",
       "  ('american', 14),\n",
       "  ('want', 14)],\n",
       " 'Trump': [('people', 67),\n",
       "  ('dont', 43),\n",
       "  ('going', 41),\n",
       "  ('want', 40),\n",
       "  ('know', 39),\n",
       "  ('look', 38),\n",
       "  ('said', 36),\n",
       "  ('joe', 32),\n",
       "  ('thats', 30),\n",
       "  ('im', 29),\n",
       "  ('got', 29),\n",
       "  ('think', 27),\n",
       "  ('just', 27),\n",
       "  ('didnt', 24),\n",
       "  ('country', 24),\n",
       "  ('say', 23),\n",
       "  ('good', 21),\n",
       "  ('did', 21),\n",
       "  ('theyre', 21),\n",
       "  ('million', 20),\n",
       "  ('tell', 20),\n",
       "  ('left', 20),\n",
       "  ('dollars', 19),\n",
       "  ('youre', 19),\n",
       "  ('way', 19),\n",
       "  ('president', 19),\n",
       "  ('like', 18),\n",
       "  ('years', 18),\n",
       "  ('election', 17),\n",
       "  ('weve', 17)],\n",
       " 'Wallace': [('president', 111),\n",
       "  ('sir', 54),\n",
       "  ('going', 43),\n",
       "  ('question', 40),\n",
       "  ('vice', 39),\n",
       "  ('mr', 39),\n",
       "  ('trump', 26),\n",
       "  ('want', 25),\n",
       "  ('right', 25),\n",
       "  ('im', 23),\n",
       "  ('let', 23),\n",
       "  ('biden', 22),\n",
       "  ('gentlemen', 21),\n",
       "  ('people', 20),\n",
       "  ('say', 18),\n",
       "  ('minutes', 17),\n",
       "  ('segment', 16),\n",
       "  ('ask', 16),\n",
       "  ('ahead', 16),\n",
       "  ('years', 14),\n",
       "  ('said', 13),\n",
       "  ('election', 12),\n",
       "  ('like', 12),\n",
       "  ('talk', 11),\n",
       "  ('economy', 11),\n",
       "  ('okay', 11),\n",
       "  ('minute', 11),\n",
       "  ('fact', 11),\n",
       "  ('youre', 10),\n",
       "  ('court', 10)]}"
      ]
     },
     "execution_count": 3,
     "metadata": {},
     "output_type": "execute_result"
    }
   ],
   "source": [
    "# Find the top 30 words said by each comedian\n",
    "top_dict = {}\n",
    "for c in data.columns:\n",
    "    top = data[c].sort_values(ascending=False).head(30)\n",
    "    top_dict[c]= list(zip(top.index, top.values))\n",
    "\n",
    "top_dict"
   ]
  },
  {
   "cell_type": "code",
   "execution_count": 5,
   "metadata": {},
   "outputs": [
    {
     "name": "stdout",
     "output_type": "stream",
     "text": [
      "Biden\n",
      "people, going, fact, hes, way, thats, look, deal, im, president, said, number, vote, did\n",
      "---\n",
      "Trump\n",
      "people, dont, going, want, know, look, said, joe, thats, im, got, think, just, didnt\n",
      "---\n",
      "Wallace\n",
      "president, sir, going, question, vice, mr, trump, want, right, im, let, biden, gentlemen, people\n",
      "---\n"
     ]
    }
   ],
   "source": [
    "# Print the top 15 words said by each comedian\n",
    "for speaker, top_words in top_dict.items():\n",
    "    print(speaker)\n",
    "    print(', '.join([word for word, count in top_words[0:14]]))\n",
    "    print('---')"
   ]
  },
  {
   "cell_type": "markdown",
   "metadata": {},
   "source": [
    "**NOTE:** At this point, we could go on and create word clouds. However, by looking at these top words, you can see that some of them have very little meaning and could be added to a stop words list, so let's do just that.\n",
    "\n"
   ]
  },
  {
   "cell_type": "code",
   "execution_count": 6,
   "metadata": {},
   "outputs": [
    {
     "data": {
      "text/plain": [
       "['people',\n",
       " 'going',\n",
       " 'fact',\n",
       " 'hes',\n",
       " 'way',\n",
       " 'thats',\n",
       " 'look',\n",
       " 'deal',\n",
       " 'im',\n",
       " 'president',\n",
       " 'said',\n",
       " 'number',\n",
       " 'vote',\n",
       " 'did',\n",
       " 'true',\n",
       " 'just',\n",
       " 'like',\n",
       " 'sure',\n",
       " 'make',\n",
       " 'know',\n",
       " 'able',\n",
       " 'theyre',\n",
       " 'dont',\n",
       " 'plan',\n",
       " 'say',\n",
       " 'tax',\n",
       " 'doesnt',\n",
       " 'heres',\n",
       " 'american',\n",
       " 'want',\n",
       " 'people',\n",
       " 'dont',\n",
       " 'going',\n",
       " 'want',\n",
       " 'know',\n",
       " 'look',\n",
       " 'said',\n",
       " 'joe',\n",
       " 'thats',\n",
       " 'im',\n",
       " 'got',\n",
       " 'think',\n",
       " 'just',\n",
       " 'didnt',\n",
       " 'country',\n",
       " 'say',\n",
       " 'good',\n",
       " 'did',\n",
       " 'theyre',\n",
       " 'million',\n",
       " 'tell',\n",
       " 'left',\n",
       " 'dollars',\n",
       " 'youre',\n",
       " 'way',\n",
       " 'president',\n",
       " 'like',\n",
       " 'years',\n",
       " 'election',\n",
       " 'weve',\n",
       " 'president',\n",
       " 'sir',\n",
       " 'going',\n",
       " 'question',\n",
       " 'vice',\n",
       " 'mr',\n",
       " 'trump',\n",
       " 'want',\n",
       " 'right',\n",
       " 'im',\n",
       " 'let',\n",
       " 'biden',\n",
       " 'gentlemen',\n",
       " 'people',\n",
       " 'say',\n",
       " 'minutes',\n",
       " 'segment',\n",
       " 'ask',\n",
       " 'ahead',\n",
       " 'years',\n",
       " 'said',\n",
       " 'election',\n",
       " 'like',\n",
       " 'talk',\n",
       " 'economy',\n",
       " 'okay',\n",
       " 'minute',\n",
       " 'fact',\n",
       " 'youre',\n",
       " 'court']"
      ]
     },
     "execution_count": 6,
     "metadata": {},
     "output_type": "execute_result"
    }
   ],
   "source": [
    "# Look at the most common top words --> add them to the stop word list\n",
    "from collections import Counter\n",
    "\n",
    "# Let's first pull out the top 30 words for each comedian\n",
    "words = []\n",
    "for comedian in data.columns:\n",
    "    top = [word for (word, count) in top_dict[comedian]]\n",
    "    for t in top:\n",
    "        words.append(t)\n",
    "        \n",
    "words"
   ]
  },
  {
   "cell_type": "code",
   "execution_count": 22,
   "metadata": {},
   "outputs": [
    {
     "data": {
      "text/plain": [
       "[('people', 3),\n",
       " ('going', 3),\n",
       " ('im', 3),\n",
       " ('president', 3),\n",
       " ('said', 3),\n",
       " ('like', 3),\n",
       " ('say', 3),\n",
       " ('want', 3),\n",
       " ('fact', 2),\n",
       " ('way', 2),\n",
       " ('thats', 2),\n",
       " ('look', 2),\n",
       " ('did', 2),\n",
       " ('just', 2),\n",
       " ('know', 2),\n",
       " ('theyre', 2),\n",
       " ('dont', 2),\n",
       " ('youre', 2),\n",
       " ('years', 2),\n",
       " ('election', 2),\n",
       " ('hes', 1),\n",
       " ('deal', 1),\n",
       " ('number', 1),\n",
       " ('vote', 1),\n",
       " ('true', 1),\n",
       " ('sure', 1),\n",
       " ('make', 1),\n",
       " ('able', 1),\n",
       " ('plan', 1),\n",
       " ('tax', 1),\n",
       " ('doesnt', 1),\n",
       " ('heres', 1),\n",
       " ('american', 1),\n",
       " ('joe', 1),\n",
       " ('got', 1),\n",
       " ('think', 1),\n",
       " ('didnt', 1),\n",
       " ('country', 1),\n",
       " ('good', 1),\n",
       " ('million', 1),\n",
       " ('tell', 1),\n",
       " ('left', 1),\n",
       " ('dollars', 1),\n",
       " ('weve', 1),\n",
       " ('sir', 1),\n",
       " ('question', 1),\n",
       " ('vice', 1),\n",
       " ('mr', 1),\n",
       " ('trump', 1),\n",
       " ('right', 1),\n",
       " ('let', 1),\n",
       " ('biden', 1),\n",
       " ('gentlemen', 1),\n",
       " ('minutes', 1),\n",
       " ('segment', 1),\n",
       " ('ask', 1),\n",
       " ('ahead', 1),\n",
       " ('talk', 1),\n",
       " ('economy', 1),\n",
       " ('okay', 1),\n",
       " ('minute', 1),\n",
       " ('court', 1)]"
      ]
     },
     "execution_count": 22,
     "metadata": {},
     "output_type": "execute_result"
    }
   ],
   "source": [
    "# Let's aggregate this list and identify the most common words along with how many routines they occur in\n",
    "Counter(words).most_common()"
   ]
  },
  {
   "cell_type": "code",
   "execution_count": 7,
   "metadata": {},
   "outputs": [
    {
     "data": {
      "text/plain": [
       "[]"
      ]
     },
     "execution_count": 7,
     "metadata": {},
     "output_type": "execute_result"
    }
   ],
   "source": [
    "# If more than half of the comedians have it as a top word, exclude it from the list\n",
    "add_stop_words = [word for word, count in Counter(words).most_common() if count > 6]\n",
    "add_stop_words"
   ]
  },
  {
   "cell_type": "code",
   "execution_count": 8,
   "metadata": {},
   "outputs": [],
   "source": [
    "# Let's update our document-term matrix with the new list of stop words\n",
    "from sklearn.feature_extraction import text \n",
    "from sklearn.feature_extraction.text import CountVectorizer\n",
    "\n",
    "# Read in cleaned data\n",
    "data_clean = pd.read_pickle('data_clean.pkl')\n",
    "\n",
    "# Add new stop words\n",
    "stop_words = text.ENGLISH_STOP_WORDS.union(add_stop_words)\n",
    "\n",
    "# Recreate document-term matrix\n",
    "cv = CountVectorizer(stop_words=stop_words)\n",
    "data_cv = cv.fit_transform(data_clean.transcript)\n",
    "data_stop = pd.DataFrame(data_cv.toarray(), columns=cv.get_feature_names())\n",
    "data_stop.index = data_clean.index\n",
    "\n",
    "# Pickle it for later use\n",
    "import pickle\n",
    "pickle.dump(cv, open(\"cv_stop.pkl\", \"wb\"))\n",
    "data_stop.to_pickle(\"dtm_stop.pkl\")"
   ]
  },
  {
   "cell_type": "code",
   "execution_count": 9,
   "metadata": {},
   "outputs": [],
   "source": [
    "# Let's make some word clouds!\n",
    "# Terminal / Anaconda Prompt: conda install -c conda-forge wordcloud\n",
    "from wordcloud import WordCloud\n",
    "\n",
    "wc = WordCloud(stopwords=stop_words, background_color=\"white\", colormap=\"Dark2\",\n",
    "               max_font_size=150, random_state=42)"
   ]
  },
  {
   "cell_type": "code",
   "execution_count": 10,
   "metadata": {},
   "outputs": [
    {
     "data": {
      "image/png": "[encoded data removed]",
      "text/plain": [
       "<Figure size 1152x432 with 3 Axes>"
      ]
     },
     "metadata": {
      "needs_background": "light"
     },
     "output_type": "display_data"
    }
   ],
   "source": [
    "# Reset the output dimensions\n",
    "import matplotlib.pyplot as plt\n",
    "\n",
    "plt.rcParams['figure.figsize'] = [16, 6]\n",
    "\n",
    "full_names = ['Trump','Biden','Wallace']\n",
    "\n",
    "# Create subplots for each comedian\n",
    "for index, comedian in enumerate(data.columns):\n",
    "    wc.generate(data_clean.transcript[comedian])\n",
    "    \n",
    "    plt.subplot(3, 4, index+1)\n",
    "    plt.imshow(wc, interpolation=\"bilinear\")\n",
    "    plt.axis(\"off\")\n",
    "    plt.title(full_names[index])\n",
    "    \n",
    "plt.show()"
   ]
  },
  {
   "cell_type": "markdown",
   "metadata": {},
   "source": [
    "### Findings"
   ]
  },
  {
   "cell_type": "markdown",
   "metadata": {},
   "source": [
    "* Ali Wong says the s-word a lot and talks about her husband. I guess that's funny to me.\n",
    "* A lot of people use the F-word. Let's dig into that later."
   ]
  },
  {
   "cell_type": "markdown",
   "metadata": {},
   "source": [
    "## Number of Words"
   ]
  },
  {
   "cell_type": "markdown",
   "metadata": {},
   "source": [
    "### Analysis"
   ]
  },
  {
   "cell_type": "code",
   "execution_count": null,
   "metadata": {},
   "outputs": [],
   "source": [
    "# Find the number of unique words that each comedian uses\n",
    "\n",
    "# Identify the non-zero items in the document-term matrix, meaning that the word occurs at least once\n",
    "unique_list = []\n",
    "for comedian in data.columns:\n",
    "    uniques = data[comedian].to_numpy().nonzero()[0].size\n",
    "    unique_list.append(uniques)\n",
    "\n",
    "# Create a new dataframe that contains this unique word count\n",
    "data_words = pd.DataFrame(list(zip(full_names, unique_list)), columns=['comedian', 'unique_words'])\n",
    "data_unique_sort = data_words.sort_values(by='unique_words')\n",
    "data_unique_sort"
   ]
  },
  {
   "cell_type": "code",
   "execution_count": null,
   "metadata": {},
   "outputs": [],
   "source": [
    "# Calculate the words per minute of each comedian\n",
    "\n",
    "# Find the total number of words that a comedian uses\n",
    "total_list = []\n",
    "for comedian in data.columns:\n",
    "    totals = sum(data[comedian])\n",
    "    total_list.append(totals)\n",
    "    \n",
    "# Comedy special run times from IMDB, in minutes\n",
    "run_times = [60, 59, 80, 60, 67, 73, 77, 63, 62, 58, 76, 79]\n",
    "\n",
    "# Let's add some columns to our dataframe\n",
    "data_words['total_words'] = total_list\n",
    "data_words['run_times'] = run_times\n",
    "data_words['words_per_minute'] = data_words['total_words'] / data_words['run_times']\n",
    "\n",
    "# Sort the dataframe by words per minute to see who talks the slowest and fastest\n",
    "data_wpm_sort = data_words.sort_values(by='words_per_minute')\n",
    "data_wpm_sort"
   ]
  },
  {
   "cell_type": "code",
   "execution_count": null,
   "metadata": {
    "collapsed": true
   },
   "outputs": [],
   "source": [
    "# Let's plot our findings\n",
    "import numpy as np\n",
    "\n",
    "y_pos = np.arange(len(data_words))\n",
    "\n",
    "plt.subplot(1, 2, 1)\n",
    "plt.barh(y_pos, data_unique_sort.unique_words, align='center')\n",
    "plt.yticks(y_pos, data_unique_sort.comedian)\n",
    "plt.title('Number of Unique Words', fontsize=20)\n",
    "\n",
    "plt.subplot(1, 2, 2)\n",
    "plt.barh(y_pos, data_wpm_sort.words_per_minute, align='center')\n",
    "plt.yticks(y_pos, data_wpm_sort.comedian)\n",
    "plt.title('Number of Words Per Minute', fontsize=20)\n",
    "\n",
    "plt.tight_layout()\n",
    "plt.show()"
   ]
  },
  {
   "cell_type": "markdown",
   "metadata": {},
   "source": [
    "### Findings"
   ]
  },
  {
   "cell_type": "markdown",
   "metadata": {},
   "source": [
    "* **Vocabulary**\n",
    "   * Ricky Gervais (British comedy) and Bill Burr (podcast host) use a lot of words in their comedy\n",
    "   * Louis C.K. (self-depricating comedy) and Anthony Jeselnik (dark humor) have a smaller vocabulary\n",
    "\n",
    "\n",
    "* **Talking Speed**\n",
    "   * Joe Rogan (blue comedy) and Bill Burr (podcast host) talk fast\n",
    "   * Bo Burnham (musical comedy) and Anthony Jeselnik (dark humor) talk slow\n",
    "   \n",
    "Ali Wong is somewhere in the middle in both cases. Nothing too interesting here."
   ]
  },
  {
   "cell_type": "markdown",
   "metadata": {},
   "source": [
    "## Amount of Profanity"
   ]
  },
  {
   "cell_type": "markdown",
   "metadata": {},
   "source": [
    "### Analysis"
   ]
  },
  {
   "cell_type": "code",
   "execution_count": null,
   "metadata": {},
   "outputs": [],
   "source": [
    "# Earlier I said we'd revisit profanity. Let's take a look at the most common words again.\n",
    "Counter(words).most_common()"
   ]
  },
  {
   "cell_type": "code",
   "execution_count": null,
   "metadata": {},
   "outputs": [],
   "source": [
    "# Let's isolate just these bad words\n",
    "data_bad_words = data.transpose()[['fucking', 'fuck', 'shit']]\n",
    "data_profanity = pd.concat([data_bad_words.fucking + data_bad_words.fuck, data_bad_words.shit], axis=1)\n",
    "data_profanity.columns = ['f_word', 's_word']\n",
    "data_profanity"
   ]
  },
  {
   "cell_type": "code",
   "execution_count": null,
   "metadata": {
    "collapsed": true
   },
   "outputs": [],
   "source": [
    "# Let's create a scatter plot of our findings\n",
    "plt.rcParams['figure.figsize'] = [10, 8]\n",
    "\n",
    "for i, comedian in enumerate(data_profanity.index):\n",
    "    x = data_profanity.f_word.loc[comedian]\n",
    "    y = data_profanity.s_word.loc[comedian]\n",
    "    plt.scatter(x, y, color='blue')\n",
    "    plt.text(x+1.5, y+0.5, full_names[i], fontsize=10)\n",
    "    plt.xlim(-5, 155) \n",
    "    \n",
    "plt.title('Number of Bad Words Used in Routine', fontsize=20)\n",
    "plt.xlabel('Number of F Bombs', fontsize=15)\n",
    "plt.ylabel('Number of S Words', fontsize=15)\n",
    "\n",
    "plt.show()"
   ]
  },
  {
   "cell_type": "markdown",
   "metadata": {},
   "source": [
    "### Findings"
   ]
  },
  {
   "cell_type": "markdown",
   "metadata": {},
   "source": [
    "* **Averaging 2 F-Bombs Per Minute!** - I don't like too much swearing, especially the f-word, which is probably why I've never heard of Bill Bur, Joe Rogan and Jim Jefferies.\n",
    "* **Clean Humor** - It looks like profanity might be a good predictor of the type of comedy I like. Besides Ali Wong, my two other favorite comedians in this group are John Mulaney and Mike Birbiglia."
   ]
  },
  {
   "cell_type": "markdown",
   "metadata": {
    "collapsed": true
   },
   "source": [
    "## Side Note"
   ]
  },
  {
   "cell_type": "markdown",
   "metadata": {},
   "source": [
    "What was our goal for the EDA portion of our journey? **To be able to take an initial look at our data and see if the results of some basic analysis made sense.**\n",
    "\n",
    "My conclusion - yes, it does, for a first pass. There are definitely some things that could be better cleaned up, such as adding more stop words or including bi-grams. But we can save that for another day. The results, especially the profanity findings, are interesting and make general sense, so we're going to move on.\n",
    "\n",
    "As a reminder, the data science process is an interative one. It's better to see some non-perfect but acceptable results to help you quickly decide whether your project is a dud or not, instead of having analysis paralysis and never delivering anything.\n",
    "\n",
    "**Alice's data science (and life) motto: Let go of perfectionism!**"
   ]
  },
  {
   "cell_type": "markdown",
   "metadata": {
    "collapsed": true
   },
   "source": [
    "## Additional Exercises"
   ]
  },
  {
   "cell_type": "markdown",
   "metadata": {},
   "source": [
    "1. What other word counts do you think would be interesting to compare instead of the f-word and s-word? Create a scatter plot comparing them."
   ]
  },
  {
   "cell_type": "code",
   "execution_count": null,
   "metadata": {
    "collapsed": true
   },
   "outputs": [],
   "source": []
  }
 ],
 "metadata": {
  "kernelspec": {
   "display_name": "Python 3",
   "language": "python",
   "name": "python3"
  },
  "language_info": {
   "codemirror_mode": {
    "name": "ipython",
    "version": 3
   },
   "file_extension": ".py",
   "mimetype": "text/x-python",
   "name": "python",
   "nbconvert_exporter": "python",
   "pygments_lexer": "ipython3",
   "version": "3.8.3"
  },
  "toc": {
   "nav_menu": {},
   "number_sections": true,
   "sideBar": true,
   "skip_h1_title": false,
   "toc_cell": false,
   "toc_position": {},
   "toc_section_display": "block",
   "toc_window_display": false
  },
  "varInspector": {
   "cols": {
    "lenName": 16,
    "lenType": 16,
    "lenVar": 40
   },
   "kernels_config": {
    "python": {
     "delete_cmd_postfix": "",
     "delete_cmd_prefix": "del ",
     "library": "var_list.py",
     "varRefreshCmd": "print(var_dic_list())"
    },
    "r": {
     "delete_cmd_postfix": ") ",
     "delete_cmd_prefix": "rm(",
     "library": "var_list.r",
     "varRefreshCmd": "cat(var_dic_list()) "
    }
   },
   "types_to_exclude": [
    "module",
    "function",
    "builtin_function_or_method",
    "instance",
    "_Feature"
   ],
   "window_display": false
  }
 },
 "nbformat": 4,
 "nbformat_minor": 2
}
